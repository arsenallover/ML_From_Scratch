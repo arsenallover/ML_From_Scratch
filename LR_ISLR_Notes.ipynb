{
 "cells": [
  {
   "cell_type": "markdown",
   "metadata": {},
   "source": [
    "True Relationship or Population Regression Line :\n",
    "$$ Y = m*X + c + \\epsilon $$\n",
    "\n",
    "__Error Term__          \n",
    "The error term is the catch-all for what all we miss with this model:     \n",
    "    1. The true Relationship may not be linear          \n",
    "    2. There may be other variables that cause variation in Y that is not included.             \n",
    "    3. There may be measurement error \n",
    "    4. it is typically normal distribution with mean zero.          \n",
    "True Relationship is not known/unobserved and least sqaures can be the approxmiation.\n",
    "\n",
    "__Sample & Population__:            \n",
    "Sample mean $({\\hat \\mu})$ is mean of a sample. Depending on the particular set of observations, it can either underestimate or overestimate the Population mean ($\\mu$). So we can average a huge number of sample means that would be very close of Population mean.\n",
    "\n",
    "_Standard Error_        \n",
    "How accurate is ${\\hat \\mu}$ to ${\\mu}$ ?\n",
    "$$ Var(\\hat \\mu) = SE(\\hat\\mu)^2 = \\frac{\\sigma^2}{n} $$\n",
    "$\\sigma$ is std dev of each realizations of $y_i$ of Y. This is typically not known, but can be estimated through given data. (through RSE)\n",
    "The deviation shrinks with n (more observations). In similar way, we can obtain SE of m, c:\n",
    "$$ SE(m)^2 = \\sigma^2( \\frac{1}{n} + \\frac{\\bar x^2}{\\sum(x_i - \\bar x)^2}) $$\n",
    "$$ SE(c)^2 =  \\frac{\\sigma^2}{\\sum(x_i - \\bar x)^2} $$\n",
    "where $\\sigma^2$ is Var(Error) ! How do i calculate that? Thats why i chose to calculate SE(m,c) through another formula using matrix inversions.\n",
    "\n",
    "The estimate $\\sigma$ is the residual standard error (RSE).\n",
    "$$ RSE = \\sqrt \\frac{RSS}{(n-2)} $$"
   ]
  },
  {
   "cell_type": "markdown",
   "metadata": {},
   "source": [
    "_Confidence Interval_           \n",
    "Range of values that contains the true unknown value off parameter\n",
    "$$ CI = \\hat \\beta_1 +- 2*SE(\\hat \\beta_1) $$\n",
    "\n",
    "_t-statistic_       \n",
    "The number of std dev the coefficient is away from 0. \n",
    "$$ t = \\frac {\\hat \\beta_1 - 0}{SE(\\hat \\beta_1)}$$\n",
    "If SE is low, then even small $\\beta$ values can provide evidence of relationship with X & Y.\n",
    "\n",
    "_p-value_               \n",
    "Compute pvalue from tstat. Small pvalue indiate there exists a relationship.\n",
    "\n",
    "_RSE_               \n",
    "We know about $\\epsilon$ the error term in model. Due to this, we can predict true reg line. RSE is estimate of standard deviation of $\\epsilon$.\n",
    "$$ RSE = \\sqrt \\frac{RSS}{(n-2)} $$\n",
    "$$ RSE = \\sqrt \\frac{\\sum (y_i -\\hat y_i)^2}{(n-2)} $$\n",
    "It is measure of lack of fit to model. The team had to decide if we can risk at RSE for model."
   ]
  },
  {
   "cell_type": "markdown",
   "metadata": {},
   "source": [
    "_R2_        \n",
    "For simple linear regression, R2 is equal to correlation.\n",
    "\n",
    "_Fstatistic_        \n",
    "It measure of checking if atleast one predictor is related to response. Higher Fstat higher is chance that coefficients are not zero.           \n",
    "**Q**       \n",
    "If pvalue can show variable importance why do we need fstat?        \n",
    "This is actually valid when number of variables are high. Consider ex, with p = 100 and all coef are 0. In that scenario, ther exists a chance some variables may have pvalue < 0.05. Which can lead to improper conclusion, but fstat doesnt suffer from this problem as it adjusts to number of variables.\n"
   ]
  },
  {
   "cell_type": "code",
   "execution_count": null,
   "metadata": {},
   "outputs": [],
   "source": []
  }
 ],
 "metadata": {
  "language_info": {
   "codemirror_mode": {
    "name": "ipython",
    "version": 3
   },
   "file_extension": ".py",
   "mimetype": "text/x-python",
   "name": "python",
   "nbconvert_exporter": "python",
   "pygments_lexer": "ipython3",
   "version": 3
  },
  "orig_nbformat": 2
 },
 "nbformat": 4,
 "nbformat_minor": 2
}