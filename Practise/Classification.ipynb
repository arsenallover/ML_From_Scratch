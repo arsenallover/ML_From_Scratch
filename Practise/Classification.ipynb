{
 "metadata": {
  "language_info": {
   "codemirror_mode": {
    "name": "ipython",
    "version": 3
   },
   "file_extension": ".py",
   "mimetype": "text/x-python",
   "name": "python",
   "nbconvert_exporter": "python",
   "pygments_lexer": "ipython3",
   "version": "3.7.9-final"
  },
  "orig_nbformat": 2,
  "kernelspec": {
   "name": "Python 3.7.9 64-bit ('tf2.0': conda)",
   "display_name": "Python 3.7.9 64-bit ('tf2.0': conda)",
   "metadata": {
    "interpreter": {
     "hash": "22b3a9e511cc71c7e8c0c199ed3ba2f3f697f01009167188cfc9ddfa1a3c5b27"
    }
   }
  }
 },
 "nbformat": 4,
 "nbformat_minor": 2,
 "cells": [
  {
   "cell_type": "code",
   "execution_count": 2,
   "metadata": {},
   "outputs": [],
   "source": [
    "import numpy as np\n",
    "from sklearn.datasets import load_iris\n",
    "from sklearn.metrics import accuracy_score, f1_score\n",
    "from sklearn.model_selection import train_test_split\n",
    "from sklearn.preprocessing import StandardScaler"
   ]
  },
  {
   "cell_type": "code",
   "execution_count": 3,
   "metadata": {},
   "outputs": [],
   "source": [
    "iris = load_iris()\n",
    "X, y = iris['data'], iris['target']\n",
    "xtrain, xtest, ytrain, ytest = train_test_split(X, y, test_size = 0.25)\n"
   ]
  },
  {
   "cell_type": "code",
   "execution_count": 4,
   "metadata": {},
   "outputs": [],
   "source": [
    "scaler = StandardScaler()\n",
    "xtrain = scaler.fit_transform(xtrain)\n",
    "xtest = scaler.transform(xtest)"
   ]
  },
  {
   "source": [
    "## Logistic Regression\n"
   ],
   "cell_type": "markdown",
   "metadata": {}
  },
  {
   "cell_type": "code",
   "execution_count": 7,
   "metadata": {},
   "outputs": [
    {
     "output_type": "stream",
     "name": "stdout",
     "text": [
      "0.9732142857142857 0.9736842105263158\n"
     ]
    }
   ],
   "source": [
    "## Logistic Regression\n",
    "from sklearn.linear_model import LogisticRegression\n",
    "model = LogisticRegression()\n",
    "model.fit(xtrain, ytrain)\n",
    "ypred_train = model.predict(xtrain)\n",
    "train_accuracy = accuracy_score(ypred_train, ytrain)\n",
    "\n",
    "ypred_test = model.predict(xtest)\n",
    "test_accuracy = accuracy_score(ypred_test, ytest)\n",
    "print(train_accuracy, test_accuracy)\n",
    "# print(f1_score(ytrain, ypred_train))\n",
    "# print(f1_score(ytest, ypred_test))"
   ]
  },
  {
   "cell_type": "code",
   "execution_count": 14,
   "metadata": {},
   "outputs": [
    {
     "output_type": "stream",
     "name": "stdout",
     "text": [
      "0.8303571428571429 0.868421052631579\n"
     ]
    }
   ],
   "source": [
    "## Logistic Regression\n",
    "from sklearn.linear_model import RidgeClassifier\n",
    "model = RidgeClassifier(alpha = 0.1)\n",
    "model.fit(xtrain, ytrain)\n",
    "ypred_train = model.predict(xtrain)\n",
    "train_accuracy = accuracy_score(ypred_train, ytrain)\n",
    "\n",
    "ypred_test = model.predict(xtest)\n",
    "test_accuracy = accuracy_score(ypred_test, ytest)\n",
    "print(train_accuracy, test_accuracy)"
   ]
  },
  {
   "source": [
    "## SVM"
   ],
   "cell_type": "markdown",
   "metadata": {}
  },
  {
   "cell_type": "code",
   "execution_count": 18,
   "metadata": {},
   "outputs": [
    {
     "output_type": "stream",
     "name": "stdout",
     "text": [
      "0.9642857142857143 0.9736842105263158\n"
     ]
    }
   ],
   "source": [
    "from sklearn.svm import SVC\n",
    "\n",
    "model = SVC(C = 0.5)\n",
    "model.fit(xtrain, ytrain)\n",
    "ypred_train = model.predict(xtrain)\n",
    "train_accuracy = accuracy_score(ypred_train, ytrain)\n",
    "\n",
    "ypred_test = model.predict(xtest)\n",
    "test_accuracy = accuracy_score(ypred_test, ytest)\n",
    "print(train_accuracy, test_accuracy)"
   ]
  },
  {
   "cell_type": "code",
   "execution_count": 21,
   "metadata": {},
   "outputs": [
    {
     "output_type": "stream",
     "name": "stdout",
     "text": [
      "0.875 0.9473684210526315\n"
     ]
    }
   ],
   "source": [
    "from sklearn.svm import SVC\n",
    "\n",
    "model = SVC(kernel = 'poly', C = 0.5)\n",
    "model.fit(xtrain, ytrain)\n",
    "ypred_train = model.predict(xtrain)\n",
    "train_accuracy = accuracy_score(ypred_train, ytrain)\n",
    "\n",
    "ypred_test = model.predict(xtest)\n",
    "test_accuracy = accuracy_score(ypred_test, ytest)\n",
    "print(train_accuracy, test_accuracy)"
   ]
  }
 ]
}