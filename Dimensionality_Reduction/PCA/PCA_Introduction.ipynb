{
 "metadata": {
  "language_info": {
   "codemirror_mode": {
    "name": "ipython",
    "version": 3
   },
   "file_extension": ".py",
   "mimetype": "text/x-python",
   "name": "python",
   "nbconvert_exporter": "python",
   "pygments_lexer": "ipython3",
   "version": "3.7.9-final"
  },
  "orig_nbformat": 2,
  "kernelspec": {
   "name": "Python 3.7.9 64-bit ('tf2.0': conda)",
   "display_name": "Python 3.7.9 64-bit ('tf2.0': conda)",
   "metadata": {
    "interpreter": {
     "hash": "22b3a9e511cc71c7e8c0c199ed3ba2f3f697f01009167188cfc9ddfa1a3c5b27"
    }
   }
  }
 },
 "nbformat": 4,
 "nbformat_minor": 2,
 "cells": [
  {
   "cell_type": "code",
   "execution_count": 18,
   "metadata": {},
   "outputs": [],
   "source": [
    "import numpy as np\n",
    "import tensorflow as tf"
   ]
  },
  {
   "cell_type": "code",
   "execution_count": 45,
   "metadata": {},
   "outputs": [],
   "source": [
    "x = [3.3, 3]\n",
    "\n",
    "a = 1/np.sqrt(2) \n",
    "## Assuming eigen vectors are given\n",
    "u1 = np.array([a, a]) # Evector 1\n",
    "u2 = np.array([-a, a]) # Evector 2"
   ]
  },
  {
   "cell_type": "code",
   "execution_count": 46,
   "metadata": {
    "tags": []
   },
   "outputs": [
    {
     "output_type": "stream",
     "name": "stdout",
     "text": "Complete Projection : [3.3 3. ]\nReduced Projection : [3.15 3.15]\nTrue Value : [3.3, 3]\n"
    }
   ],
   "source": [
    "# alphas for projections x = a*evectors\n",
    "a1 = x@u1\n",
    "a2 = x@u2\n",
    "\n",
    "x_proj = a1*u1 + a2*u2  # Complete Projection\n",
    "print(f'Complete Projection : {x_proj}')\n",
    "\n",
    "x_proj = a1*u1  # Reduced Projection\n",
    "print(f'Reduced Projection : {x_proj}')\n",
    "\n",
    "print(f'True Value : {x}')"
   ]
  },
  {
   "source": [
    "## Calculating from Scratch"
   ],
   "cell_type": "markdown",
   "metadata": {}
  },
  {
   "cell_type": "code",
   "execution_count": 47,
   "metadata": {},
   "outputs": [],
   "source": [
    "X = np.array([[3.3], [3]])\n",
    "X_t = np.array([[3.3, 3]])\n",
    "eval, evec = np.linalg.eig(X@X_t)  # Calculate Eigen Values from X(X)T"
   ]
  },
  {
   "cell_type": "code",
   "execution_count": 49,
   "metadata": {
    "tags": []
   },
   "outputs": [
    {
     "output_type": "stream",
     "name": "stdout",
     "text": "Complete Projection : [3.3 3. ]\nReduced Projection : [2.98642534 3.28506787]\nTrue Value : [3.3, 3]\n"
    }
   ],
   "source": [
    "a1 = X.T@evec[0]\n",
    "a2 = X.T@evec[1]\n",
    "\n",
    "X_proj = a1*evec[0] + a2*evec[1] # Complete Projection\n",
    "print(f'Complete Projection : {X_proj}')\n",
    "\n",
    "X_proj = a2*evec[1]  # Reduced Projection\n",
    "print(f'Reduced Projection : {X_proj}')\n",
    "\n",
    "print(f'True Value : {x}')"
   ]
  }
 ]
}