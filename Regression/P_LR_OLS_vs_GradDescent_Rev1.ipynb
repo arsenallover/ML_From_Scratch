{
 "cells": [
  {
   "cell_type": "code",
   "execution_count": 1,
   "metadata": {},
   "outputs": [],
   "source": [
    "import numpy as np\n",
    "import pandas as pd\n",
    "import matplotlib.pyplot as plt"
   ]
  },
  {
   "cell_type": "code",
   "execution_count": 2,
   "metadata": {},
   "outputs": [
    {
     "output_type": "execute_result",
     "data": {
      "text/plain": "<matplotlib.collections.PathCollection at 0x8a2d288>"
     },
     "metadata": {},
     "execution_count": 2
    },
    {
     "output_type": "display_data",
     "data": {
      "text/plain": "<Figure size 432x288 with 1 Axes>",
      "image/svg+xml": "<?xml version=\"1.0\" encoding=\"utf-8\" standalone=\"no\"?>\r\n<!DOCTYPE svg PUBLIC \"-//W3C//DTD SVG 1.1//EN\"\r\n  \"http://www.w3.org/Graphics/SVG/1.1/DTD/svg11.dtd\">\r\n<!-- Created with matplotlib (https://matplotlib.org/) -->\r\n<svg height=\"249.052511pt\" version=\"1.1\" viewBox=\"0 0 368.925 249.052511\" width=\"368.925pt\" xmlns=\"http://www.w3.org/2000/svg\" xmlns:xlink=\"http://www.w3.org/1999/xlink\">\r\n <defs>\r\n  <style type=\"text/css\">\r\n*{stroke-linecap:butt;stroke-linejoin:round;}\r\n  </style>\r\n </defs>\r\n <g id=\"figure_1\">\r\n  <g id=\"patch_1\">\r\n   <path d=\"M -0 249.052511 \r\nL 368.925 249.052511 \r\nL 368.925 0 \r\nL -0 0 \r\nz\r\n\" style=\"fill:none;\"/>\r\n  </g>\r\n  <g id=\"axes_1\">\r\n   <g id=\"patch_2\">\r\n    <path d=\"M 26.925 225.174386 \r\nL 361.725 225.174386 \r\nL 361.725 7.734386 \r\nL 26.925 7.734386 \r\nz\r\n\" style=\"fill:#ffffff;\"/>\r\n   </g>\r\n   <g id=\"PathCollection_1\">\r\n    <defs>\r\n     <path d=\"M 0 3 \r\nC 0.795609 3 1.55874 2.683901 2.12132 2.12132 \r\nC 2.683901 1.55874 3 0.795609 3 0 \r\nC 3 -0.795609 2.683901 -1.55874 2.12132 -2.12132 \r\nC 1.55874 -2.683901 0.795609 -3 0 -3 \r\nC -0.795609 -3 -1.55874 -2.683901 -2.12132 -2.12132 \r\nC -2.683901 -1.55874 -3 -0.795609 -3 0 \r\nC -3 0.795609 -2.683901 1.55874 -2.12132 2.12132 \r\nC -1.55874 2.683901 -0.795609 3 0 3 \r\nz\r\n\" id=\"m1af2757773\" style=\"stroke:#1f77b4;\"/>\r\n    </defs>\r\n    <g clip-path=\"url(#p8eefbbc697)\">\r\n     <use style=\"fill:#1f77b4;stroke:#1f77b4;\" x=\"43.560902\" xlink:href=\"#m1af2757773\" y=\"214.93184\"/>\r\n     <use style=\"fill:#1f77b4;stroke:#1f77b4;\" x=\"270.125117\" xlink:href=\"#m1af2757773\" y=\"52.768139\"/>\r\n     <use style=\"fill:#1f77b4;stroke:#1f77b4;\" x=\"203.764041\" xlink:href=\"#m1af2757773\" y=\"104.141206\"/>\r\n     <use style=\"fill:#1f77b4;stroke:#1f77b4;\" x=\"70.798879\" xlink:href=\"#m1af2757773\" y=\"112.165098\"/>\r\n     <use style=\"fill:#1f77b4;stroke:#1f77b4;\" x=\"344.188416\" xlink:href=\"#m1af2757773\" y=\"66.012182\"/>\r\n     <use style=\"fill:#1f77b4;stroke:#1f77b4;\" x=\"313.317935\" xlink:href=\"#m1af2757773\" y=\"62.550783\"/>\r\n     <use style=\"fill:#1f77b4;stroke:#1f77b4;\" x=\"136.431882\" xlink:href=\"#m1af2757773\" y=\"127.301028\"/>\r\n     <use style=\"fill:#1f77b4;stroke:#1f77b4;\" x=\"344.904653\" xlink:href=\"#m1af2757773\" y=\"45.772728\"/>\r\n     <use style=\"fill:#1f77b4;stroke:#1f77b4;\" x=\"160.479099\" xlink:href=\"#m1af2757773\" y=\"81.692425\"/>\r\n     <use style=\"fill:#1f77b4;stroke:#1f77b4;\" x=\"97.378552\" xlink:href=\"#m1af2757773\" y=\"161.86474\"/>\r\n     <use style=\"fill:#1f77b4;stroke:#1f77b4;\" x=\"231.276726\" xlink:href=\"#m1af2757773\" y=\"52.755198\"/>\r\n     <use style=\"fill:#1f77b4;stroke:#1f77b4;\" x=\"72.46552\" xlink:href=\"#m1af2757773\" y=\"174.550157\"/>\r\n     <use style=\"fill:#1f77b4;stroke:#1f77b4;\" x=\"224.327512\" xlink:href=\"#m1af2757773\" y=\"141.32747\"/>\r\n     <use style=\"fill:#1f77b4;stroke:#1f77b4;\" x=\"230.209887\" xlink:href=\"#m1af2757773\" y=\"77.374107\"/>\r\n     <use style=\"fill:#1f77b4;stroke:#1f77b4;\" x=\"247.599039\" xlink:href=\"#m1af2757773\" y=\"79.779899\"/>\r\n     <use style=\"fill:#1f77b4;stroke:#1f77b4;\" x=\"335.204236\" xlink:href=\"#m1af2757773\" y=\"70.499731\"/>\r\n     <use style=\"fill:#1f77b4;stroke:#1f77b4;\" x=\"311.855916\" xlink:href=\"#m1af2757773\" y=\"53.530656\"/>\r\n     <use style=\"fill:#1f77b4;stroke:#1f77b4;\" x=\"145.896646\" xlink:href=\"#m1af2757773\" y=\"142.392942\"/>\r\n     <use style=\"fill:#1f77b4;stroke:#1f77b4;\" x=\"161.745676\" xlink:href=\"#m1af2757773\" y=\"111.284597\"/>\r\n     <use style=\"fill:#1f77b4;stroke:#1f77b4;\" x=\"285.16708\" xlink:href=\"#m1af2757773\" y=\"70.649593\"/>\r\n     <use style=\"fill:#1f77b4;stroke:#1f77b4;\" x=\"105.439758\" xlink:href=\"#m1af2757773\" y=\"159.399027\"/>\r\n     <use style=\"fill:#1f77b4;stroke:#1f77b4;\" x=\"313.254245\" xlink:href=\"#m1af2757773\" y=\"32.814115\"/>\r\n     <use style=\"fill:#1f77b4;stroke:#1f77b4;\" x=\"271.586077\" xlink:href=\"#m1af2757773\" y=\"128.485735\"/>\r\n     <use style=\"fill:#1f77b4;stroke:#1f77b4;\" x=\"51.277171\" xlink:href=\"#m1af2757773\" y=\"195.241842\"/>\r\n     <use style=\"fill:#1f77b4;stroke:#1f77b4;\" x=\"242.236529\" xlink:href=\"#m1af2757773\" y=\"74.985347\"/>\r\n     <use style=\"fill:#1f77b4;stroke:#1f77b4;\" x=\"85.990917\" xlink:href=\"#m1af2757773\" y=\"192.225602\"/>\r\n     <use style=\"fill:#1f77b4;stroke:#1f77b4;\" x=\"174.680027\" xlink:href=\"#m1af2757773\" y=\"116.446033\"/>\r\n     <use style=\"fill:#1f77b4;stroke:#1f77b4;\" x=\"164.207277\" xlink:href=\"#m1af2757773\" y=\"136.761569\"/>\r\n     <use style=\"fill:#1f77b4;stroke:#1f77b4;\" x=\"62.10867\" xlink:href=\"#m1af2757773\" y=\"172.109435\"/>\r\n     <use style=\"fill:#1f77b4;stroke:#1f77b4;\" x=\"192.767734\" xlink:href=\"#m1af2757773\" y=\"103.392102\"/>\r\n     <use style=\"fill:#1f77b4;stroke:#1f77b4;\" x=\"209.42769\" xlink:href=\"#m1af2757773\" y=\"113.237874\"/>\r\n     <use style=\"fill:#1f77b4;stroke:#1f77b4;\" x=\"206.791455\" xlink:href=\"#m1af2757773\" y=\"89.164075\"/>\r\n     <use style=\"fill:#1f77b4;stroke:#1f77b4;\" x=\"247.995755\" xlink:href=\"#m1af2757773\" y=\"122.315702\"/>\r\n     <use style=\"fill:#1f77b4;stroke:#1f77b4;\" x=\"117.56556\" xlink:href=\"#m1af2757773\" y=\"120.979928\"/>\r\n     <use style=\"fill:#1f77b4;stroke:#1f77b4;\" x=\"164.538304\" xlink:href=\"#m1af2757773\" y=\"147.362734\"/>\r\n     <use style=\"fill:#1f77b4;stroke:#1f77b4;\" x=\"258.30237\" xlink:href=\"#m1af2757773\" y=\"117.70343\"/>\r\n     <use style=\"fill:#1f77b4;stroke:#1f77b4;\" x=\"89.109203\" xlink:href=\"#m1af2757773\" y=\"136.870201\"/>\r\n     <use style=\"fill:#1f77b4;stroke:#1f77b4;\" x=\"327.776721\" xlink:href=\"#m1af2757773\" y=\"58.857324\"/>\r\n     <use style=\"fill:#1f77b4;stroke:#1f77b4;\" x=\"282.454504\" xlink:href=\"#m1af2757773\" y=\"108.848282\"/>\r\n     <use style=\"fill:#1f77b4;stroke:#1f77b4;\" x=\"63.397064\" xlink:href=\"#m1af2757773\" y=\"207.892519\"/>\r\n     <use style=\"fill:#1f77b4;stroke:#1f77b4;\" x=\"219.157739\" xlink:href=\"#m1af2757773\" y=\"71.844796\"/>\r\n     <use style=\"fill:#1f77b4;stroke:#1f77b4;\" x=\"220.181012\" xlink:href=\"#m1af2757773\" y=\"94.252676\"/>\r\n     <use style=\"fill:#1f77b4;stroke:#1f77b4;\" x=\"121.592493\" xlink:href=\"#m1af2757773\" y=\"142.646878\"/>\r\n     <use style=\"fill:#1f77b4;stroke:#1f77b4;\" x=\"234.210954\" xlink:href=\"#m1af2757773\" y=\"120.523946\"/>\r\n     <use style=\"fill:#1f77b4;stroke:#1f77b4;\" x=\"245.216034\" xlink:href=\"#m1af2757773\" y=\"58.796936\"/>\r\n     <use style=\"fill:#1f77b4;stroke:#1f77b4;\" x=\"138.203259\" xlink:href=\"#m1af2757773\" y=\"175.978904\"/>\r\n     <use style=\"fill:#1f77b4;stroke:#1f77b4;\" x=\"155.785692\" xlink:href=\"#m1af2757773\" y=\"99.3399\"/>\r\n     <use style=\"fill:#1f77b4;stroke:#1f77b4;\" x=\"283.381161\" xlink:href=\"#m1af2757773\" y=\"68.800214\"/>\r\n     <use style=\"fill:#1f77b4;stroke:#1f77b4;\" x=\"289.867357\" xlink:href=\"#m1af2757773\" y=\"46.901695\"/>\r\n     <use style=\"fill:#1f77b4;stroke:#1f77b4;\" x=\"345.089098\" xlink:href=\"#m1af2757773\" y=\"35.699478\"/>\r\n     <use style=\"fill:#1f77b4;stroke:#1f77b4;\" x=\"89.784077\" xlink:href=\"#m1af2757773\" y=\"210.602996\"/>\r\n     <use style=\"fill:#1f77b4;stroke:#1f77b4;\" x=\"269.936303\" xlink:href=\"#m1af2757773\" y=\"81.671986\"/>\r\n     <use style=\"fill:#1f77b4;stroke:#1f77b4;\" x=\"281.378892\" xlink:href=\"#m1af2757773\" y=\"91.594279\"/>\r\n     <use style=\"fill:#1f77b4;stroke:#1f77b4;\" x=\"324.292452\" xlink:href=\"#m1af2757773\" y=\"76.898568\"/>\r\n     <use style=\"fill:#1f77b4;stroke:#1f77b4;\" x=\"329.559673\" xlink:href=\"#m1af2757773\" y=\"39.326091\"/>\r\n     <use style=\"fill:#1f77b4;stroke:#1f77b4;\" x=\"233.4655\" xlink:href=\"#m1af2757773\" y=\"65.674258\"/>\r\n     <use style=\"fill:#1f77b4;stroke:#1f77b4;\" x=\"268.389074\" xlink:href=\"#m1af2757773\" y=\"82.835793\"/>\r\n     <use style=\"fill:#1f77b4;stroke:#1f77b4;\" x=\"322.536121\" xlink:href=\"#m1af2757773\" y=\"98.732594\"/>\r\n     <use style=\"fill:#1f77b4;stroke:#1f77b4;\" x=\"260.797717\" xlink:href=\"#m1af2757773\" y=\"116.942875\"/>\r\n     <use style=\"fill:#1f77b4;stroke:#1f77b4;\" x=\"161.612837\" xlink:href=\"#m1af2757773\" y=\"114.935192\"/>\r\n     <use style=\"fill:#1f77b4;stroke:#1f77b4;\" x=\"118.676758\" xlink:href=\"#m1af2757773\" y=\"180.283692\"/>\r\n     <use style=\"fill:#1f77b4;stroke:#1f77b4;\" x=\"286.400523\" xlink:href=\"#m1af2757773\" y=\"49.652136\"/>\r\n     <use style=\"fill:#1f77b4;stroke:#1f77b4;\" x=\"294.503409\" xlink:href=\"#m1af2757773\" y=\"74.597263\"/>\r\n     <use style=\"fill:#1f77b4;stroke:#1f77b4;\" x=\"54.433578\" xlink:href=\"#m1af2757773\" y=\"200.472275\"/>\r\n     <use style=\"fill:#1f77b4;stroke:#1f77b4;\" x=\"329.434795\" xlink:href=\"#m1af2757773\" y=\"48.196569\"/>\r\n     <use style=\"fill:#1f77b4;stroke:#1f77b4;\" x=\"106.704921\" xlink:href=\"#m1af2757773\" y=\"160.973614\"/>\r\n     <use style=\"fill:#1f77b4;stroke:#1f77b4;\" x=\"287.518329\" xlink:href=\"#m1af2757773\" y=\"66.882759\"/>\r\n     <use style=\"fill:#1f77b4;stroke:#1f77b4;\" x=\"62.121997\" xlink:href=\"#m1af2757773\" y=\"180.639389\"/>\r\n     <use style=\"fill:#1f77b4;stroke:#1f77b4;\" x=\"331.992853\" xlink:href=\"#m1af2757773\" y=\"19.521388\"/>\r\n     <use style=\"fill:#1f77b4;stroke:#1f77b4;\" x=\"308.759259\" xlink:href=\"#m1af2757773\" y=\"54.378628\"/>\r\n     <use style=\"fill:#1f77b4;stroke:#1f77b4;\" x=\"80.864993\" xlink:href=\"#m1af2757773\" y=\"138.714037\"/>\r\n     <use style=\"fill:#1f77b4;stroke:#1f77b4;\" x=\"227.102567\" xlink:href=\"#m1af2757773\" y=\"84.597025\"/>\r\n     <use style=\"fill:#1f77b4;stroke:#1f77b4;\" x=\"287.14708\" xlink:href=\"#m1af2757773\" y=\"82.692123\"/>\r\n     <use style=\"fill:#1f77b4;stroke:#1f77b4;\" x=\"166.155957\" xlink:href=\"#m1af2757773\" y=\"91.452145\"/>\r\n     <use style=\"fill:#1f77b4;stroke:#1f77b4;\" x=\"85.936582\" xlink:href=\"#m1af2757773\" y=\"168.658147\"/>\r\n     <use style=\"fill:#1f77b4;stroke:#1f77b4;\" x=\"227.022621\" xlink:href=\"#m1af2757773\" y=\"75.30312\"/>\r\n     <use style=\"fill:#1f77b4;stroke:#1f77b4;\" x=\"52.197899\" xlink:href=\"#m1af2757773\" y=\"213.947127\"/>\r\n     <use style=\"fill:#1f77b4;stroke:#1f77b4;\" x=\"198.707905\" xlink:href=\"#m1af2757773\" y=\"91.93725\"/>\r\n     <use style=\"fill:#1f77b4;stroke:#1f77b4;\" x=\"188.243329\" xlink:href=\"#m1af2757773\" y=\"83.027842\"/>\r\n     <use style=\"fill:#1f77b4;stroke:#1f77b4;\" x=\"322.133072\" xlink:href=\"#m1af2757773\" y=\"45.649872\"/>\r\n     <use style=\"fill:#1f77b4;stroke:#1f77b4;\" x=\"295.87279\" xlink:href=\"#m1af2757773\" y=\"105.293359\"/>\r\n     <use style=\"fill:#1f77b4;stroke:#1f77b4;\" x=\"160.75872\" xlink:href=\"#m1af2757773\" y=\"147.004511\"/>\r\n     <use style=\"fill:#1f77b4;stroke:#1f77b4;\" x=\"178.239429\" xlink:href=\"#m1af2757773\" y=\"106.608509\"/>\r\n     <use style=\"fill:#1f77b4;stroke:#1f77b4;\" x=\"335.879409\" xlink:href=\"#m1af2757773\" y=\"17.976932\"/>\r\n     <use style=\"fill:#1f77b4;stroke:#1f77b4;\" x=\"339.721406\" xlink:href=\"#m1af2757773\" y=\"51.132712\"/>\r\n     <use style=\"fill:#1f77b4;stroke:#1f77b4;\" x=\"149.068676\" xlink:href=\"#m1af2757773\" y=\"129.623469\"/>\r\n     <use style=\"fill:#1f77b4;stroke:#1f77b4;\" x=\"259.743618\" xlink:href=\"#m1af2757773\" y=\"88.321724\"/>\r\n     <use style=\"fill:#1f77b4;stroke:#1f77b4;\" x=\"70.94856\" xlink:href=\"#m1af2757773\" y=\"136.903014\"/>\r\n     <use style=\"fill:#1f77b4;stroke:#1f77b4;\" x=\"70.973888\" xlink:href=\"#m1af2757773\" y=\"142.59096\"/>\r\n     <use style=\"fill:#1f77b4;stroke:#1f77b4;\" x=\"134.776914\" xlink:href=\"#m1af2757773\" y=\"163.13187\"/>\r\n     <use style=\"fill:#1f77b4;stroke:#1f77b4;\" x=\"183.620955\" xlink:href=\"#m1af2757773\" y=\"143.430198\"/>\r\n     <use style=\"fill:#1f77b4;stroke:#1f77b4;\" x=\"79.912047\" xlink:href=\"#m1af2757773\" y=\"197.206929\"/>\r\n     <use style=\"fill:#1f77b4;stroke:#1f77b4;\" x=\"273.004067\" xlink:href=\"#m1af2757773\" y=\"50.145476\"/>\r\n     <use style=\"fill:#1f77b4;stroke:#1f77b4;\" x=\"342.612271\" xlink:href=\"#m1af2757773\" y=\"39.071313\"/>\r\n     <use style=\"fill:#1f77b4;stroke:#1f77b4;\" x=\"276.863473\" xlink:href=\"#m1af2757773\" y=\"67.819819\"/>\r\n     <use style=\"fill:#1f77b4;stroke:#1f77b4;\" x=\"239.555822\" xlink:href=\"#m1af2757773\" y=\"78.99223\"/>\r\n     <use style=\"fill:#1f77b4;stroke:#1f77b4;\" x=\"279.282124\" xlink:href=\"#m1af2757773\" y=\"137.760756\"/>\r\n     <use style=\"fill:#1f77b4;stroke:#1f77b4;\" x=\"200.306809\" xlink:href=\"#m1af2757773\" y=\"143.07741\"/>\r\n     <use style=\"fill:#1f77b4;stroke:#1f77b4;\" x=\"334.561541\" xlink:href=\"#m1af2757773\" y=\"64.540939\"/>\r\n     <use style=\"fill:#1f77b4;stroke:#1f77b4;\" x=\"173.394906\" xlink:href=\"#m1af2757773\" y=\"157.640387\"/>\r\n    </g>\r\n   </g>\r\n   <g id=\"matplotlib.axis_1\">\r\n    <g id=\"xtick_1\">\r\n     <g id=\"line2d_1\">\r\n      <defs>\r\n       <path d=\"M 0 0 \r\nL 0 3.5 \r\n\" id=\"m54b2e23422\" style=\"stroke:#000000;stroke-width:0.8;\"/>\r\n      </defs>\r\n      <g>\r\n       <use style=\"stroke:#000000;stroke-width:0.8;\" x=\"29.405011\" xlink:href=\"#m54b2e23422\" y=\"225.174386\"/>\r\n      </g>\r\n     </g>\r\n     <g id=\"text_1\">\r\n      <!-- 0.00 -->\r\n      <defs>\r\n       <path d=\"M 31.78125 66.40625 \r\nQ 24.171875 66.40625 20.328125 58.90625 \r\nQ 16.5 51.421875 16.5 36.375 \r\nQ 16.5 21.390625 20.328125 13.890625 \r\nQ 24.171875 6.390625 31.78125 6.390625 \r\nQ 39.453125 6.390625 43.28125 13.890625 \r\nQ 47.125 21.390625 47.125 36.375 \r\nQ 47.125 51.421875 43.28125 58.90625 \r\nQ 39.453125 66.40625 31.78125 66.40625 \r\nz\r\nM 31.78125 74.21875 \r\nQ 44.046875 74.21875 50.515625 64.515625 \r\nQ 56.984375 54.828125 56.984375 36.375 \r\nQ 56.984375 17.96875 50.515625 8.265625 \r\nQ 44.046875 -1.421875 31.78125 -1.421875 \r\nQ 19.53125 -1.421875 13.0625 8.265625 \r\nQ 6.59375 17.96875 6.59375 36.375 \r\nQ 6.59375 54.828125 13.0625 64.515625 \r\nQ 19.53125 74.21875 31.78125 74.21875 \r\nz\r\n\" id=\"DejaVuSans-48\"/>\r\n       <path d=\"M 10.6875 12.40625 \r\nL 21 12.40625 \r\nL 21 0 \r\nL 10.6875 0 \r\nz\r\n\" id=\"DejaVuSans-46\"/>\r\n      </defs>\r\n      <g transform=\"translate(18.272199 239.772824)scale(0.1 -0.1)\">\r\n       <use xlink:href=\"#DejaVuSans-48\"/>\r\n       <use x=\"63.623047\" xlink:href=\"#DejaVuSans-46\"/>\r\n       <use x=\"95.410156\" xlink:href=\"#DejaVuSans-48\"/>\r\n       <use x=\"159.033203\" xlink:href=\"#DejaVuSans-48\"/>\r\n      </g>\r\n     </g>\r\n    </g>\r\n    <g id=\"xtick_2\">\r\n     <g id=\"line2d_2\">\r\n      <g>\r\n       <use style=\"stroke:#000000;stroke-width:0.8;\" x=\"68.959403\" xlink:href=\"#m54b2e23422\" y=\"225.174386\"/>\r\n      </g>\r\n     </g>\r\n     <g id=\"text_2\">\r\n      <!-- 0.25 -->\r\n      <defs>\r\n       <path d=\"M 19.1875 8.296875 \r\nL 53.609375 8.296875 \r\nL 53.609375 0 \r\nL 7.328125 0 \r\nL 7.328125 8.296875 \r\nQ 12.9375 14.109375 22.625 23.890625 \r\nQ 32.328125 33.6875 34.8125 36.53125 \r\nQ 39.546875 41.84375 41.421875 45.53125 \r\nQ 43.3125 49.21875 43.3125 52.78125 \r\nQ 43.3125 58.59375 39.234375 62.25 \r\nQ 35.15625 65.921875 28.609375 65.921875 \r\nQ 23.96875 65.921875 18.8125 64.3125 \r\nQ 13.671875 62.703125 7.8125 59.421875 \r\nL 7.8125 69.390625 \r\nQ 13.765625 71.78125 18.9375 73 \r\nQ 24.125 74.21875 28.421875 74.21875 \r\nQ 39.75 74.21875 46.484375 68.546875 \r\nQ 53.21875 62.890625 53.21875 53.421875 \r\nQ 53.21875 48.921875 51.53125 44.890625 \r\nQ 49.859375 40.875 45.40625 35.40625 \r\nQ 44.1875 33.984375 37.640625 27.21875 \r\nQ 31.109375 20.453125 19.1875 8.296875 \r\nz\r\n\" id=\"DejaVuSans-50\"/>\r\n       <path d=\"M 10.796875 72.90625 \r\nL 49.515625 72.90625 \r\nL 49.515625 64.59375 \r\nL 19.828125 64.59375 \r\nL 19.828125 46.734375 \r\nQ 21.96875 47.46875 24.109375 47.828125 \r\nQ 26.265625 48.1875 28.421875 48.1875 \r\nQ 40.625 48.1875 47.75 41.5 \r\nQ 54.890625 34.8125 54.890625 23.390625 \r\nQ 54.890625 11.625 47.5625 5.09375 \r\nQ 40.234375 -1.421875 26.90625 -1.421875 \r\nQ 22.3125 -1.421875 17.546875 -0.640625 \r\nQ 12.796875 0.140625 7.71875 1.703125 \r\nL 7.71875 11.625 \r\nQ 12.109375 9.234375 16.796875 8.0625 \r\nQ 21.484375 6.890625 26.703125 6.890625 \r\nQ 35.15625 6.890625 40.078125 11.328125 \r\nQ 45.015625 15.765625 45.015625 23.390625 \r\nQ 45.015625 31 40.078125 35.4375 \r\nQ 35.15625 39.890625 26.703125 39.890625 \r\nQ 22.75 39.890625 18.8125 39.015625 \r\nQ 14.890625 38.140625 10.796875 36.28125 \r\nz\r\n\" id=\"DejaVuSans-53\"/>\r\n      </defs>\r\n      <g transform=\"translate(57.826591 239.772824)scale(0.1 -0.1)\">\r\n       <use xlink:href=\"#DejaVuSans-48\"/>\r\n       <use x=\"63.623047\" xlink:href=\"#DejaVuSans-46\"/>\r\n       <use x=\"95.410156\" xlink:href=\"#DejaVuSans-50\"/>\r\n       <use x=\"159.033203\" xlink:href=\"#DejaVuSans-53\"/>\r\n      </g>\r\n     </g>\r\n    </g>\r\n    <g id=\"xtick_3\">\r\n     <g id=\"line2d_3\">\r\n      <g>\r\n       <use style=\"stroke:#000000;stroke-width:0.8;\" x=\"108.513795\" xlink:href=\"#m54b2e23422\" y=\"225.174386\"/>\r\n      </g>\r\n     </g>\r\n     <g id=\"text_3\">\r\n      <!-- 0.50 -->\r\n      <g transform=\"translate(97.380983 239.772824)scale(0.1 -0.1)\">\r\n       <use xlink:href=\"#DejaVuSans-48\"/>\r\n       <use x=\"63.623047\" xlink:href=\"#DejaVuSans-46\"/>\r\n       <use x=\"95.410156\" xlink:href=\"#DejaVuSans-53\"/>\r\n       <use x=\"159.033203\" xlink:href=\"#DejaVuSans-48\"/>\r\n      </g>\r\n     </g>\r\n    </g>\r\n    <g id=\"xtick_4\">\r\n     <g id=\"line2d_4\">\r\n      <g>\r\n       <use style=\"stroke:#000000;stroke-width:0.8;\" x=\"148.068187\" xlink:href=\"#m54b2e23422\" y=\"225.174386\"/>\r\n      </g>\r\n     </g>\r\n     <g id=\"text_4\">\r\n      <!-- 0.75 -->\r\n      <defs>\r\n       <path d=\"M 8.203125 72.90625 \r\nL 55.078125 72.90625 \r\nL 55.078125 68.703125 \r\nL 28.609375 0 \r\nL 18.3125 0 \r\nL 43.21875 64.59375 \r\nL 8.203125 64.59375 \r\nz\r\n\" id=\"DejaVuSans-55\"/>\r\n      </defs>\r\n      <g transform=\"translate(136.935375 239.772824)scale(0.1 -0.1)\">\r\n       <use xlink:href=\"#DejaVuSans-48\"/>\r\n       <use x=\"63.623047\" xlink:href=\"#DejaVuSans-46\"/>\r\n       <use x=\"95.410156\" xlink:href=\"#DejaVuSans-55\"/>\r\n       <use x=\"159.033203\" xlink:href=\"#DejaVuSans-53\"/>\r\n      </g>\r\n     </g>\r\n    </g>\r\n    <g id=\"xtick_5\">\r\n     <g id=\"line2d_5\">\r\n      <g>\r\n       <use style=\"stroke:#000000;stroke-width:0.8;\" x=\"187.622579\" xlink:href=\"#m54b2e23422\" y=\"225.174386\"/>\r\n      </g>\r\n     </g>\r\n     <g id=\"text_5\">\r\n      <!-- 1.00 -->\r\n      <defs>\r\n       <path d=\"M 12.40625 8.296875 \r\nL 28.515625 8.296875 \r\nL 28.515625 63.921875 \r\nL 10.984375 60.40625 \r\nL 10.984375 69.390625 \r\nL 28.421875 72.90625 \r\nL 38.28125 72.90625 \r\nL 38.28125 8.296875 \r\nL 54.390625 8.296875 \r\nL 54.390625 0 \r\nL 12.40625 0 \r\nz\r\n\" id=\"DejaVuSans-49\"/>\r\n      </defs>\r\n      <g transform=\"translate(176.489767 239.772824)scale(0.1 -0.1)\">\r\n       <use xlink:href=\"#DejaVuSans-49\"/>\r\n       <use x=\"63.623047\" xlink:href=\"#DejaVuSans-46\"/>\r\n       <use x=\"95.410156\" xlink:href=\"#DejaVuSans-48\"/>\r\n       <use x=\"159.033203\" xlink:href=\"#DejaVuSans-48\"/>\r\n      </g>\r\n     </g>\r\n    </g>\r\n    <g id=\"xtick_6\">\r\n     <g id=\"line2d_6\">\r\n      <g>\r\n       <use style=\"stroke:#000000;stroke-width:0.8;\" x=\"227.176971\" xlink:href=\"#m54b2e23422\" y=\"225.174386\"/>\r\n      </g>\r\n     </g>\r\n     <g id=\"text_6\">\r\n      <!-- 1.25 -->\r\n      <g transform=\"translate(216.044159 239.772824)scale(0.1 -0.1)\">\r\n       <use xlink:href=\"#DejaVuSans-49\"/>\r\n       <use x=\"63.623047\" xlink:href=\"#DejaVuSans-46\"/>\r\n       <use x=\"95.410156\" xlink:href=\"#DejaVuSans-50\"/>\r\n       <use x=\"159.033203\" xlink:href=\"#DejaVuSans-53\"/>\r\n      </g>\r\n     </g>\r\n    </g>\r\n    <g id=\"xtick_7\">\r\n     <g id=\"line2d_7\">\r\n      <g>\r\n       <use style=\"stroke:#000000;stroke-width:0.8;\" x=\"266.731363\" xlink:href=\"#m54b2e23422\" y=\"225.174386\"/>\r\n      </g>\r\n     </g>\r\n     <g id=\"text_7\">\r\n      <!-- 1.50 -->\r\n      <g transform=\"translate(255.59855 239.772824)scale(0.1 -0.1)\">\r\n       <use xlink:href=\"#DejaVuSans-49\"/>\r\n       <use x=\"63.623047\" xlink:href=\"#DejaVuSans-46\"/>\r\n       <use x=\"95.410156\" xlink:href=\"#DejaVuSans-53\"/>\r\n       <use x=\"159.033203\" xlink:href=\"#DejaVuSans-48\"/>\r\n      </g>\r\n     </g>\r\n    </g>\r\n    <g id=\"xtick_8\">\r\n     <g id=\"line2d_8\">\r\n      <g>\r\n       <use style=\"stroke:#000000;stroke-width:0.8;\" x=\"306.285755\" xlink:href=\"#m54b2e23422\" y=\"225.174386\"/>\r\n      </g>\r\n     </g>\r\n     <g id=\"text_8\">\r\n      <!-- 1.75 -->\r\n      <g transform=\"translate(295.152942 239.772824)scale(0.1 -0.1)\">\r\n       <use xlink:href=\"#DejaVuSans-49\"/>\r\n       <use x=\"63.623047\" xlink:href=\"#DejaVuSans-46\"/>\r\n       <use x=\"95.410156\" xlink:href=\"#DejaVuSans-55\"/>\r\n       <use x=\"159.033203\" xlink:href=\"#DejaVuSans-53\"/>\r\n      </g>\r\n     </g>\r\n    </g>\r\n    <g id=\"xtick_9\">\r\n     <g id=\"line2d_9\">\r\n      <g>\r\n       <use style=\"stroke:#000000;stroke-width:0.8;\" x=\"345.840147\" xlink:href=\"#m54b2e23422\" y=\"225.174386\"/>\r\n      </g>\r\n     </g>\r\n     <g id=\"text_9\">\r\n      <!-- 2.00 -->\r\n      <g transform=\"translate(334.707334 239.772824)scale(0.1 -0.1)\">\r\n       <use xlink:href=\"#DejaVuSans-50\"/>\r\n       <use x=\"63.623047\" xlink:href=\"#DejaVuSans-46\"/>\r\n       <use x=\"95.410156\" xlink:href=\"#DejaVuSans-48\"/>\r\n       <use x=\"159.033203\" xlink:href=\"#DejaVuSans-48\"/>\r\n      </g>\r\n     </g>\r\n    </g>\r\n   </g>\r\n   <g id=\"matplotlib.axis_2\">\r\n    <g id=\"ytick_1\">\r\n     <g id=\"line2d_10\">\r\n      <defs>\r\n       <path d=\"M 0 0 \r\nL -3.5 0 \r\n\" id=\"mbde6ae2938\" style=\"stroke:#000000;stroke-width:0.8;\"/>\r\n      </defs>\r\n      <g>\r\n       <use style=\"stroke:#000000;stroke-width:0.8;\" x=\"26.925\" xlink:href=\"#mbde6ae2938\" y=\"219.109375\"/>\r\n      </g>\r\n     </g>\r\n     <g id=\"text_10\">\r\n      <!-- 3 -->\r\n      <defs>\r\n       <path d=\"M 40.578125 39.3125 \r\nQ 47.65625 37.796875 51.625 33 \r\nQ 55.609375 28.21875 55.609375 21.1875 \r\nQ 55.609375 10.40625 48.1875 4.484375 \r\nQ 40.765625 -1.421875 27.09375 -1.421875 \r\nQ 22.515625 -1.421875 17.65625 -0.515625 \r\nQ 12.796875 0.390625 7.625 2.203125 \r\nL 7.625 11.71875 \r\nQ 11.71875 9.328125 16.59375 8.109375 \r\nQ 21.484375 6.890625 26.8125 6.890625 \r\nQ 36.078125 6.890625 40.9375 10.546875 \r\nQ 45.796875 14.203125 45.796875 21.1875 \r\nQ 45.796875 27.640625 41.28125 31.265625 \r\nQ 36.765625 34.90625 28.71875 34.90625 \r\nL 20.21875 34.90625 \r\nL 20.21875 43.015625 \r\nL 29.109375 43.015625 \r\nQ 36.375 43.015625 40.234375 45.921875 \r\nQ 44.09375 48.828125 44.09375 54.296875 \r\nQ 44.09375 59.90625 40.109375 62.90625 \r\nQ 36.140625 65.921875 28.71875 65.921875 \r\nQ 24.65625 65.921875 20.015625 65.03125 \r\nQ 15.375 64.15625 9.8125 62.3125 \r\nL 9.8125 71.09375 \r\nQ 15.4375 72.65625 20.34375 73.4375 \r\nQ 25.25 74.21875 29.59375 74.21875 \r\nQ 40.828125 74.21875 47.359375 69.109375 \r\nQ 53.90625 64.015625 53.90625 55.328125 \r\nQ 53.90625 49.265625 50.4375 45.09375 \r\nQ 46.96875 40.921875 40.578125 39.3125 \r\nz\r\n\" id=\"DejaVuSans-51\"/>\r\n      </defs>\r\n      <g transform=\"translate(13.5625 222.908594)scale(0.1 -0.1)\">\r\n       <use xlink:href=\"#DejaVuSans-51\"/>\r\n      </g>\r\n     </g>\r\n    </g>\r\n    <g id=\"ytick_2\">\r\n     <g id=\"line2d_11\">\r\n      <g>\r\n       <use style=\"stroke:#000000;stroke-width:0.8;\" x=\"26.925\" xlink:href=\"#mbde6ae2938\" y=\"193.095606\"/>\r\n      </g>\r\n     </g>\r\n     <g id=\"text_11\">\r\n      <!-- 4 -->\r\n      <defs>\r\n       <path d=\"M 37.796875 64.3125 \r\nL 12.890625 25.390625 \r\nL 37.796875 25.390625 \r\nz\r\nM 35.203125 72.90625 \r\nL 47.609375 72.90625 \r\nL 47.609375 25.390625 \r\nL 58.015625 25.390625 \r\nL 58.015625 17.1875 \r\nL 47.609375 17.1875 \r\nL 47.609375 0 \r\nL 37.796875 0 \r\nL 37.796875 17.1875 \r\nL 4.890625 17.1875 \r\nL 4.890625 26.703125 \r\nz\r\n\" id=\"DejaVuSans-52\"/>\r\n      </defs>\r\n      <g transform=\"translate(13.5625 196.894824)scale(0.1 -0.1)\">\r\n       <use xlink:href=\"#DejaVuSans-52\"/>\r\n      </g>\r\n     </g>\r\n    </g>\r\n    <g id=\"ytick_3\">\r\n     <g id=\"line2d_12\">\r\n      <g>\r\n       <use style=\"stroke:#000000;stroke-width:0.8;\" x=\"26.925\" xlink:href=\"#mbde6ae2938\" y=\"167.081836\"/>\r\n      </g>\r\n     </g>\r\n     <g id=\"text_12\">\r\n      <!-- 5 -->\r\n      <g transform=\"translate(13.5625 170.881055)scale(0.1 -0.1)\">\r\n       <use xlink:href=\"#DejaVuSans-53\"/>\r\n      </g>\r\n     </g>\r\n    </g>\r\n    <g id=\"ytick_4\">\r\n     <g id=\"line2d_13\">\r\n      <g>\r\n       <use style=\"stroke:#000000;stroke-width:0.8;\" x=\"26.925\" xlink:href=\"#mbde6ae2938\" y=\"141.068066\"/>\r\n      </g>\r\n     </g>\r\n     <g id=\"text_13\">\r\n      <!-- 6 -->\r\n      <defs>\r\n       <path d=\"M 33.015625 40.375 \r\nQ 26.375 40.375 22.484375 35.828125 \r\nQ 18.609375 31.296875 18.609375 23.390625 \r\nQ 18.609375 15.53125 22.484375 10.953125 \r\nQ 26.375 6.390625 33.015625 6.390625 \r\nQ 39.65625 6.390625 43.53125 10.953125 \r\nQ 47.40625 15.53125 47.40625 23.390625 \r\nQ 47.40625 31.296875 43.53125 35.828125 \r\nQ 39.65625 40.375 33.015625 40.375 \r\nz\r\nM 52.59375 71.296875 \r\nL 52.59375 62.3125 \r\nQ 48.875 64.0625 45.09375 64.984375 \r\nQ 41.3125 65.921875 37.59375 65.921875 \r\nQ 27.828125 65.921875 22.671875 59.328125 \r\nQ 17.53125 52.734375 16.796875 39.40625 \r\nQ 19.671875 43.65625 24.015625 45.921875 \r\nQ 28.375 48.1875 33.59375 48.1875 \r\nQ 44.578125 48.1875 50.953125 41.515625 \r\nQ 57.328125 34.859375 57.328125 23.390625 \r\nQ 57.328125 12.15625 50.6875 5.359375 \r\nQ 44.046875 -1.421875 33.015625 -1.421875 \r\nQ 20.359375 -1.421875 13.671875 8.265625 \r\nQ 6.984375 17.96875 6.984375 36.375 \r\nQ 6.984375 53.65625 15.1875 63.9375 \r\nQ 23.390625 74.21875 37.203125 74.21875 \r\nQ 40.921875 74.21875 44.703125 73.484375 \r\nQ 48.484375 72.75 52.59375 71.296875 \r\nz\r\n\" id=\"DejaVuSans-54\"/>\r\n      </defs>\r\n      <g transform=\"translate(13.5625 144.867285)scale(0.1 -0.1)\">\r\n       <use xlink:href=\"#DejaVuSans-54\"/>\r\n      </g>\r\n     </g>\r\n    </g>\r\n    <g id=\"ytick_5\">\r\n     <g id=\"line2d_14\">\r\n      <g>\r\n       <use style=\"stroke:#000000;stroke-width:0.8;\" x=\"26.925\" xlink:href=\"#mbde6ae2938\" y=\"115.054297\"/>\r\n      </g>\r\n     </g>\r\n     <g id=\"text_14\">\r\n      <!-- 7 -->\r\n      <g transform=\"translate(13.5625 118.853516)scale(0.1 -0.1)\">\r\n       <use xlink:href=\"#DejaVuSans-55\"/>\r\n      </g>\r\n     </g>\r\n    </g>\r\n    <g id=\"ytick_6\">\r\n     <g id=\"line2d_15\">\r\n      <g>\r\n       <use style=\"stroke:#000000;stroke-width:0.8;\" x=\"26.925\" xlink:href=\"#mbde6ae2938\" y=\"89.040527\"/>\r\n      </g>\r\n     </g>\r\n     <g id=\"text_15\">\r\n      <!-- 8 -->\r\n      <defs>\r\n       <path d=\"M 31.78125 34.625 \r\nQ 24.75 34.625 20.71875 30.859375 \r\nQ 16.703125 27.09375 16.703125 20.515625 \r\nQ 16.703125 13.921875 20.71875 10.15625 \r\nQ 24.75 6.390625 31.78125 6.390625 \r\nQ 38.8125 6.390625 42.859375 10.171875 \r\nQ 46.921875 13.96875 46.921875 20.515625 \r\nQ 46.921875 27.09375 42.890625 30.859375 \r\nQ 38.875 34.625 31.78125 34.625 \r\nz\r\nM 21.921875 38.8125 \r\nQ 15.578125 40.375 12.03125 44.71875 \r\nQ 8.5 49.078125 8.5 55.328125 \r\nQ 8.5 64.0625 14.71875 69.140625 \r\nQ 20.953125 74.21875 31.78125 74.21875 \r\nQ 42.671875 74.21875 48.875 69.140625 \r\nQ 55.078125 64.0625 55.078125 55.328125 \r\nQ 55.078125 49.078125 51.53125 44.71875 \r\nQ 48 40.375 41.703125 38.8125 \r\nQ 48.828125 37.15625 52.796875 32.3125 \r\nQ 56.78125 27.484375 56.78125 20.515625 \r\nQ 56.78125 9.90625 50.3125 4.234375 \r\nQ 43.84375 -1.421875 31.78125 -1.421875 \r\nQ 19.734375 -1.421875 13.25 4.234375 \r\nQ 6.78125 9.90625 6.78125 20.515625 \r\nQ 6.78125 27.484375 10.78125 32.3125 \r\nQ 14.796875 37.15625 21.921875 38.8125 \r\nz\r\nM 18.3125 54.390625 \r\nQ 18.3125 48.734375 21.84375 45.5625 \r\nQ 25.390625 42.390625 31.78125 42.390625 \r\nQ 38.140625 42.390625 41.71875 45.5625 \r\nQ 45.3125 48.734375 45.3125 54.390625 \r\nQ 45.3125 60.0625 41.71875 63.234375 \r\nQ 38.140625 66.40625 31.78125 66.40625 \r\nQ 25.390625 66.40625 21.84375 63.234375 \r\nQ 18.3125 60.0625 18.3125 54.390625 \r\nz\r\n\" id=\"DejaVuSans-56\"/>\r\n      </defs>\r\n      <g transform=\"translate(13.5625 92.839746)scale(0.1 -0.1)\">\r\n       <use xlink:href=\"#DejaVuSans-56\"/>\r\n      </g>\r\n     </g>\r\n    </g>\r\n    <g id=\"ytick_7\">\r\n     <g id=\"line2d_16\">\r\n      <g>\r\n       <use style=\"stroke:#000000;stroke-width:0.8;\" x=\"26.925\" xlink:href=\"#mbde6ae2938\" y=\"63.026758\"/>\r\n      </g>\r\n     </g>\r\n     <g id=\"text_16\">\r\n      <!-- 9 -->\r\n      <defs>\r\n       <path d=\"M 10.984375 1.515625 \r\nL 10.984375 10.5 \r\nQ 14.703125 8.734375 18.5 7.8125 \r\nQ 22.3125 6.890625 25.984375 6.890625 \r\nQ 35.75 6.890625 40.890625 13.453125 \r\nQ 46.046875 20.015625 46.78125 33.40625 \r\nQ 43.953125 29.203125 39.59375 26.953125 \r\nQ 35.25 24.703125 29.984375 24.703125 \r\nQ 19.046875 24.703125 12.671875 31.3125 \r\nQ 6.296875 37.9375 6.296875 49.421875 \r\nQ 6.296875 60.640625 12.9375 67.421875 \r\nQ 19.578125 74.21875 30.609375 74.21875 \r\nQ 43.265625 74.21875 49.921875 64.515625 \r\nQ 56.59375 54.828125 56.59375 36.375 \r\nQ 56.59375 19.140625 48.40625 8.859375 \r\nQ 40.234375 -1.421875 26.421875 -1.421875 \r\nQ 22.703125 -1.421875 18.890625 -0.6875 \r\nQ 15.09375 0.046875 10.984375 1.515625 \r\nz\r\nM 30.609375 32.421875 \r\nQ 37.25 32.421875 41.125 36.953125 \r\nQ 45.015625 41.5 45.015625 49.421875 \r\nQ 45.015625 57.28125 41.125 61.84375 \r\nQ 37.25 66.40625 30.609375 66.40625 \r\nQ 23.96875 66.40625 20.09375 61.84375 \r\nQ 16.21875 57.28125 16.21875 49.421875 \r\nQ 16.21875 41.5 20.09375 36.953125 \r\nQ 23.96875 32.421875 30.609375 32.421875 \r\nz\r\n\" id=\"DejaVuSans-57\"/>\r\n      </defs>\r\n      <g transform=\"translate(13.5625 66.825977)scale(0.1 -0.1)\">\r\n       <use xlink:href=\"#DejaVuSans-57\"/>\r\n      </g>\r\n     </g>\r\n    </g>\r\n    <g id=\"ytick_8\">\r\n     <g id=\"line2d_17\">\r\n      <g>\r\n       <use style=\"stroke:#000000;stroke-width:0.8;\" x=\"26.925\" xlink:href=\"#mbde6ae2938\" y=\"37.012988\"/>\r\n      </g>\r\n     </g>\r\n     <g id=\"text_17\">\r\n      <!-- 10 -->\r\n      <g transform=\"translate(7.2 40.812207)scale(0.1 -0.1)\">\r\n       <use xlink:href=\"#DejaVuSans-49\"/>\r\n       <use x=\"63.623047\" xlink:href=\"#DejaVuSans-48\"/>\r\n      </g>\r\n     </g>\r\n    </g>\r\n    <g id=\"ytick_9\">\r\n     <g id=\"line2d_18\">\r\n      <g>\r\n       <use style=\"stroke:#000000;stroke-width:0.8;\" x=\"26.925\" xlink:href=\"#mbde6ae2938\" y=\"10.999219\"/>\r\n      </g>\r\n     </g>\r\n     <g id=\"text_18\">\r\n      <!-- 11 -->\r\n      <g transform=\"translate(7.2 14.798437)scale(0.1 -0.1)\">\r\n       <use xlink:href=\"#DejaVuSans-49\"/>\r\n       <use x=\"63.623047\" xlink:href=\"#DejaVuSans-49\"/>\r\n      </g>\r\n     </g>\r\n    </g>\r\n   </g>\r\n   <g id=\"patch_3\">\r\n    <path d=\"M 26.925 225.174386 \r\nL 26.925 7.734386 \r\n\" style=\"fill:none;stroke:#000000;stroke-linecap:square;stroke-linejoin:miter;stroke-width:0.8;\"/>\r\n   </g>\r\n   <g id=\"patch_4\">\r\n    <path d=\"M 361.725 225.174386 \r\nL 361.725 7.734386 \r\n\" style=\"fill:none;stroke:#000000;stroke-linecap:square;stroke-linejoin:miter;stroke-width:0.8;\"/>\r\n   </g>\r\n   <g id=\"patch_5\">\r\n    <path d=\"M 26.925 225.174386 \r\nL 361.725 225.174386 \r\n\" style=\"fill:none;stroke:#000000;stroke-linecap:square;stroke-linejoin:miter;stroke-width:0.8;\"/>\r\n   </g>\r\n   <g id=\"patch_6\">\r\n    <path d=\"M 26.925 7.734386 \r\nL 361.725 7.734386 \r\n\" style=\"fill:none;stroke:#000000;stroke-linecap:square;stroke-linejoin:miter;stroke-width:0.8;\"/>\r\n   </g>\r\n  </g>\r\n </g>\r\n <defs>\r\n  <clipPath id=\"p8eefbbc697\">\r\n   <rect height=\"217.44\" width=\"334.8\" x=\"26.925\" y=\"7.734386\"/>\r\n  </clipPath>\r\n </defs>\r\n</svg>\r\n",
      "image/png": "[encoded data removed]"
     },
     "metadata": {
      "needs_background": "light"
     }
    }
   ],
   "source": [
    "X = 2 * np.random.rand(100, 1)\n",
    "y = 4 + 3 * X + np.random.randn(100, 1)\n",
    "plt.scatter(X, y)"
   ]
  },
  {
   "cell_type": "markdown",
   "metadata": {},
   "source": [
    "## OLS Estimate\n",
    "Note : X is with bias term\n",
    "$$ \\hat \\theta = (X^T X)^{-1} X^T y $$"
   ]
  },
  {
   "cell_type": "code",
   "execution_count": 3,
   "metadata": {
    "tags": []
   },
   "outputs": [
    {
     "output_type": "stream",
     "name": "stdout",
     "text": "[4.06227828] [2.8327939]\n"
    }
   ],
   "source": [
    "# Preparing for getting OLS Estimate\n",
    "X_bias = np.c_[np.ones(shape = (X.shape[0],1)), X]  # Adding Bias to X\n",
    "theta = np.linalg.inv(X_bias.T@X_bias)@X_bias.T@y\n",
    "print(*theta)"
   ]
  },
  {
   "cell_type": "markdown",
   "metadata": {},
   "source": [
    "Ideally we would except 4, 3 as theta, but noise made it difficult to get the exact values."
   ]
  },
  {
   "cell_type": "markdown",
   "metadata": {},
   "source": [
    "# Sklearn Approach"
   ]
  },
  {
   "cell_type": "code",
   "execution_count": 4,
   "metadata": {
    "tags": []
   },
   "outputs": [
    {
     "output_type": "stream",
     "name": "stdout",
     "text": "4.062278279367705 [0.        2.8327939]\n"
    }
   ],
   "source": [
    "from sklearn.linear_model import LinearRegression\n",
    "model = LinearRegression()\n",
    "model.fit(X_bias, y)\n",
    "print(*model.intercept_, *model.coef_)"
   ]
  },
  {
   "cell_type": "code",
   "execution_count": 5,
   "metadata": {},
   "outputs": [
    {
     "output_type": "execute_result",
     "data": {
      "text/plain": "array([[4.06227828],\n       [2.8327939 ]])"
     },
     "metadata": {},
     "execution_count": 5
    }
   ],
   "source": [
    "# Calculating through Moore-Penrose Inverse (pseudoinverse). Adv of this approach over above equation,1. Efficient, 2. handles singular Xs (which cant be invertible; when rows < features) \n",
    "# Computes through SVD\n",
    "np.linalg.pinv(X_bias).dot(y)"
   ]
  },
  {
   "cell_type": "markdown",
   "metadata": {},
   "source": [
    "### Pitfalls with closed form equation approach\n",
    "Computational Complexity:\n",
    "$(X^T X)^{-1}$ has Computational Complexity of $O(m^{2.4})$ to $O(m^3)$. It increases with increase in number of features.\n",
    "For ex: if you double the number of features, the time increases by $2^{2.4}$ to  $2^{3}$\n",
    "\n",
    "SVD has Complexity of $O(m^2)$\n",
    "\n",
    "Enter Gradient Descent : Suited to large number of features or many instances of data"
   ]
  },
  {
   "cell_type": "markdown",
   "metadata": {},
   "source": [
    "# Gradient Descent"
   ]
  },
  {
   "cell_type": "markdown",
   "metadata": {},
   "source": [
    "1. Involves using whole bunch of training date to perform one update of parameters.     \n",
    "2. AKA Full batch GD or Batch GD.       \n",
    "3. As there are no Inverse calculations, much faster than SVD decomposition or Normal equation calculation (closed form) esp in large feature problems).        \n",
    "4. GD suffers from local minima. It happens if cost function is irregular or non-convex. LR cost function is convex (impyling no local minima). But in-case of other generic problems it can be problematic.        \n",
    "5. The contour can be big dimensional (if more features) and it searches for bottom of plateau where for the combination of all features, the cost is lowest.                 \n",
    "5. Always perform feature scaling, ensuring faster convergence. (remember the cost function contour against two features in diff scales)"
   ]
  },
  {
   "cell_type": "markdown",
   "metadata": {},
   "source": [
    "$$ \\theta = \\theta + \\alpha*grad $$\n",
    "where $$ grad = \\frac {\\partial loss}{\\partial \\theta} = \\frac{2}{n} * (y - \\theta^T * X)*X $$ \n",
    "remember X is with bias term.\n",
    "* Conceptually dividing by number of examples makes little difference, since it’s equivalent to rescaling the learning rate"
   ]
  },
  {
   "cell_type": "code",
   "execution_count": 6,
   "metadata": {},
   "outputs": [
    {
     "output_type": "execute_result",
     "data": {
      "text/plain": "array([[4.06227598],\n       [2.83279565]])"
     },
     "metadata": {},
     "execution_count": 6
    }
   ],
   "source": [
    "alpha = 0.05\n",
    "iterations = 1000\n",
    "n = 100\n",
    "\n",
    "theta = np.zeros(shape = (X_bias.shape[1], 1))\n",
    "for iteration in range(iterations):\n",
    "    grad = 2/n*X_bias.T@(y - X_bias@theta)\n",
    "    theta = theta + alpha*grad\n",
    "theta"
   ]
  },
  {
   "cell_type": "markdown",
   "metadata": {},
   "source": [
    "# Stochastic Gradient Descent"
   ]
  },
  {
   "cell_type": "markdown",
   "metadata": {},
   "source": [
    "1. In Stochastic Gradient Descent, we update the values for each row, and we can choose do this for entire data over multiple iterations. One full set of data into theta update in multiple iterations.       \n",
    "2. We can choose to send random data into updation provided if sequence of data is not important.           \n",
    "2. Beware of the n value in gradient update, it is 1 as we send only one data.          \n",
    "3. SGD is better at finding global maxima, because the updates of theta will be irregular or stochastic in nature. So it has good chance of jumping out of local minima compared to batch-GD. In batch GD, the updates of theta are much smoother towards the optima.         \n",
    "4. For the same reason, at the end of iterations, the parameters may not be optimal but close to optimal.                   \n",
    "4. This can be partially solved through learning rate scheduler (reducing learning rate over iterations or closer to optima).           \n",
    "\n"
   ]
  },
  {
   "cell_type": "code",
   "execution_count": 7,
   "metadata": {},
   "outputs": [
    {
     "output_type": "execute_result",
     "data": {
      "text/plain": "array([[3.75791563],\n       [2.47929205]])"
     },
     "metadata": {},
     "execution_count": 7
    }
   ],
   "source": [
    "n_epochs = 500\n",
    "# t0, t1 = 5, 50 # learning schedule hyperparameters\n",
    "# def learning_schedule(t):\n",
    "#     return t0/(t + t1)\n",
    "alpha = 0.05\n",
    "iterations = len(y)\n",
    "n = 1 #(Note n = 1, because we are sending one row at a time & updating features)\n",
    "theta = np.zeros(shape = (X_bias.shape[1], 1))\n",
    "\n",
    "for epoch in range(500):\n",
    "    for iteration in range(iterations):\n",
    "        grad = (2/n*X_bias[iteration]*(y[iteration] - X_bias[iteration]@theta).reshape(-1,1)).reshape(-1,1)\n",
    "        # alpha = learning_schedule(epoch*n + iteration)\n",
    "        theta = theta + alpha*grad\n",
    "theta"
   ]
  },
  {
   "cell_type": "markdown",
   "metadata": {},
   "source": [
    "# Mini-Batch Gradient Descent"
   ]
  },
  {
   "cell_type": "markdown",
   "metadata": {},
   "source": [
    " 1. Instead of computing the gradients based on the full training set (as in Batch GD) or based on just one instance (as in Stochastic GD), Mini-batch GD computes the gradients on small random sets of instances called mini-batches.     2. Main Adv : optimized performance considering hardware capability.        \n",
    " 3. Less erratic than SGD but not smoother than BGD.        \n",
    " 4.  BGD takes a lot of time to take each step, and Stochastic GD and Mini-batch GD would also reach the minimum if you used a good learning schedule.          "
   ]
  },
  {
   "cell_type": "code",
   "execution_count": 8,
   "metadata": {
    "tags": []
   },
   "outputs": [
    {
     "output_type": "execute_result",
     "data": {
      "text/plain": "array([[4.05115725],\n       [2.82555243]])"
     },
     "metadata": {},
     "execution_count": 8
    }
   ],
   "source": [
    "n_epochs = 500\n",
    "alpha = 0.05\n",
    "iterations = len(y)\n",
    "batch_size = int(round(iterations/4, 0))\n",
    "n = batch_size \n",
    "theta = np.zeros(shape = (X_bias.shape[1], 1))\n",
    "\n",
    "for epoch in range(500):\n",
    "    for iteration in np.arange(0, iterations , batch_size):\n",
    "        grad = 2/n*X_bias[iteration : iteration+batch_size].T@(y[iteration : iteration+batch_size] - X_bias[iteration : iteration+batch_size]@theta)\n",
    "        theta = theta + alpha*grad\n",
    "\n",
    "theta"
   ]
  },
  {
   "cell_type": "markdown",
   "metadata": {},
   "source": [
    "| Algorithm | Large-N | Large-M | Hyper-Params | Scaling |  \n",
    "| --- | --- | --- | --- | --- |\n",
    "| Normal Eq (Closed Form) | Fast | Slow | 0 | No |\n",
    "| SVD | Fast | Slow | 0 | No |\n",
    "| Batch GD | Slow | Fast | 2 | Yes |\n",
    "| SGD | Fast | Fast | >= 2 | Yes |\n",
    "| Mini-Batch GD | Fast | Fast | >= 2 | Yes |\n",
    "\n",
    "The hyperparameters are : number of iterations, learning rate, learning rate scheduling parameters."
   ]
  },
  {
   "cell_type": "code",
   "execution_count": null,
   "metadata": {},
   "outputs": [],
   "source": []
  }
 ],
 "metadata": {
  "language_info": {
   "codemirror_mode": {
    "name": "ipython",
    "version": 3
   },
   "file_extension": ".py",
   "mimetype": "text/x-python",
   "name": "python",
   "nbconvert_exporter": "python",
   "pygments_lexer": "ipython3",
   "version": "3.7.6-final"
  },
  "orig_nbformat": 2,
  "kernelspec": {
   "name": "python3",
   "display_name": "Python 3"
  }
 },
 "nbformat": 4,
 "nbformat_minor": 2
}