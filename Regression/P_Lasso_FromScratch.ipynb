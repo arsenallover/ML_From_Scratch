{
 "cells": [
  {
   "cell_type": "markdown",
   "metadata": {},
   "source": [
    "# Running a single variable regression with L1 penalty"
   ]
  },
  {
   "cell_type": "code",
   "execution_count": 24,
   "metadata": {},
   "outputs": [],
   "source": [
    "import pandas as pd\n",
    "import numpy as np\n",
    "from sklearn.model_selection import train_test_split\n",
    "df = pd.read_csv(r\"Data/kc_house_data.csv\")\n",
    "\n",
    "train_data = df.sample(frac=0.8,random_state=0)\n",
    "simple_feature_matrix = np.ones(shape = (train_data.shape[0], 3))\n",
    "simple_feature_matrix[:,1:] = train_data[['sqft_living', 'bedrooms']].values\n",
    "output = train_data['price'].values"
   ]
  },
  {
   "cell_type": "code",
   "execution_count": 25,
   "metadata": {},
   "outputs": [],
   "source": [
    "# Normalize features \n",
    "## In lasso, normalization is required as features with diff scales can have different weights and can be unnecessarily pushed to zero! Norm ensures equal consideration to all features.\n",
    "def normalize_features(features):\n",
    "    norm = np.linalg.norm(features, axis = 0) # This is 2-norm\n",
    "    norm_features = features/norm \n",
    "    return norm_features, norm\n",
    "\n",
    "## Example\n",
    "# normalize_features(np.array([[3.,6.,9.],[4.,8.,12.]]))"
   ]
  },
  {
   "cell_type": "code",
   "execution_count": 26,
   "metadata": {},
   "outputs": [],
   "source": [
    "simple_feature_matrix, norms = normalize_features(simple_feature_matrix)"
   ]
  },
  {
   "cell_type": "code",
   "execution_count": 28,
   "metadata": {},
   "outputs": [],
   "source": [
    "## single co-ord descent step:\n",
    "theta = np.array([0., 0., 0.])\n",
    "prediction = np.dot(simple_feature_matrix, theta)\n",
    "l1_penalty = 1e7\n",
    "def lasso_coordinate_descent_step(i, simple_feature_matrix, output, theta, l1_penalty):\n",
    "    prediction = np.dot(simple_feature_matrix, theta)\n",
    "    ro_i = (simple_feature_matrix[:, i]*(output - prediction + theta[i]*simple_feature_matrix[:,i])).sum()\n",
    "    if i == 0: # intercept -- do not regularize\n",
    "        new_weight_i = ro_i \n",
    "    elif ro_i < -l1_penalty/2.:\n",
    "        new_weight_i = ro_i + l1_penalty/2\n",
    "    elif ro_i > l1_penalty/2.:\n",
    "        new_weight_i = ro_i - l1_penalty/2\n",
    "    else:\n",
    "        new_weight_i = 0.\n",
    "    return new_weight_i"
   ]
  },
  {
   "cell_type": "code",
   "execution_count": 29,
   "metadata": {},
   "outputs": [],
   "source": [
    "def lasso_cyclical_coordinate_descent(feature_matrix, output, initial_weights, l1_penalty, tolerance):\n",
    "    weights = initial_weights\n",
    "    optimized = False\n",
    "    while not optimized:\n",
    "        weights_diff = []\n",
    "        for i in range(len(weights)):\n",
    "            old_weights_i = weights[i] # remember old value of weight[i], as it will be overwritten\n",
    "            \n",
    "            # the following line uses new values for weight[0], weight[1], ..., weight[i-1]\n",
    "            #     and old values for weight[i], ..., weight[d-1]\n",
    "            weights[i] = lasso_coordinate_descent_step(i, feature_matrix, output, weights, l1_penalty)\n",
    "            # use old_weights_i to compute change in coordinate\n",
    "            weights_diff.append(abs(old_weights_i - weights[i]))\n",
    "        \n",
    "        if sum(weights_diff) < tolerance:\n",
    "            optimized = True\n",
    "    return weights"
   ]
  },
  {
   "cell_type": "code",
   "execution_count": 33,
   "metadata": {
    "tags": []
   },
   "outputs": [
    {
     "output_type": "stream",
     "name": "stdout",
     "text": "[21755990.92839076 53962852.17886249        0.        ]\n"
    }
   ],
   "source": [
    "simple_feature_matrix, norms = normalize_features(simple_feature_matrix)\n",
    "initial_weights = np.zeros(3)\n",
    "l1_penalty = 1e7\n",
    "tolerance = 1.0\n",
    "\n",
    "weights = lasso_cyclical_coordinate_descent(simple_feature_matrix, output,\n",
    "                                            initial_weights, l1_penalty, tolerance)\n",
    "\n",
    "print(weights)"
   ]
  },
  {
   "cell_type": "markdown",
   "metadata": {},
   "source": [
    "# Adding more features"
   ]
  },
  {
   "cell_type": "code",
   "execution_count": 35,
   "metadata": {},
   "outputs": [],
   "source": [
    "all_features = ['bedrooms',\n",
    "                'bathrooms',\n",
    "                'sqft_living',\n",
    "                'sqft_lot',\n",
    "                'floors',\n",
    "                'waterfront', \n",
    "                'view', \n",
    "                'condition', \n",
    "                'grade',\n",
    "                'sqft_above',\n",
    "                'sqft_basement',\n",
    "                'yr_built', \n",
    "                'yr_renovated']\n",
    "simple_feature_matrix = np.ones(shape = (train_data.shape[0], len(all_features)+1))\n",
    "simple_feature_matrix[:,1:] = train_data[all_features].values\n",
    "output = train_data['price'].values"
   ]
  },
  {
   "cell_type": "code",
   "execution_count": 42,
   "metadata": {
    "tags": []
   },
   "outputs": [
    {
     "output_type": "execute_result",
     "data": {
      "text/plain": "                0            1\n0        bedrooms            0\n1       bathrooms            0\n2     sqft_living  4.84054e+07\n3        sqft_lot            0\n4          floors            0\n5      waterfront  2.60271e+06\n6            view  7.50107e+06\n7       condition            0\n8           grade            0\n9      sqft_above            0\n10  sqft_basement            0\n11       yr_built            0\n12   yr_renovated            0",
      "text/html": "<div>\n<style scoped>\n    .dataframe tbody tr th:only-of-type {\n        vertical-align: middle;\n    }\n\n    .dataframe tbody tr th {\n        vertical-align: top;\n    }\n\n    .dataframe thead th {\n        text-align: right;\n    }\n</style>\n<table border=\"1\" class=\"dataframe\">\n  <thead>\n    <tr style=\"text-align: right;\">\n      <th></th>\n      <th>0</th>\n      <th>1</th>\n    </tr>\n  </thead>\n  <tbody>\n    <tr>\n      <th>0</th>\n      <td>bedrooms</td>\n      <td>0</td>\n    </tr>\n    <tr>\n      <th>1</th>\n      <td>bathrooms</td>\n      <td>0</td>\n    </tr>\n    <tr>\n      <th>2</th>\n      <td>sqft_living</td>\n      <td>4.84054e+07</td>\n    </tr>\n    <tr>\n      <th>3</th>\n      <td>sqft_lot</td>\n      <td>0</td>\n    </tr>\n    <tr>\n      <th>4</th>\n      <td>floors</td>\n      <td>0</td>\n    </tr>\n    <tr>\n      <th>5</th>\n      <td>waterfront</td>\n      <td>2.60271e+06</td>\n    </tr>\n    <tr>\n      <th>6</th>\n      <td>view</td>\n      <td>7.50107e+06</td>\n    </tr>\n    <tr>\n      <th>7</th>\n      <td>condition</td>\n      <td>0</td>\n    </tr>\n    <tr>\n      <th>8</th>\n      <td>grade</td>\n      <td>0</td>\n    </tr>\n    <tr>\n      <th>9</th>\n      <td>sqft_above</td>\n      <td>0</td>\n    </tr>\n    <tr>\n      <th>10</th>\n      <td>sqft_basement</td>\n      <td>0</td>\n    </tr>\n    <tr>\n      <th>11</th>\n      <td>yr_built</td>\n      <td>0</td>\n    </tr>\n    <tr>\n      <th>12</th>\n      <td>yr_renovated</td>\n      <td>0</td>\n    </tr>\n  </tbody>\n</table>\n</div>"
     },
     "metadata": {},
     "execution_count": 42
    }
   ],
   "source": [
    "simple_feature_matrix, norms = normalize_features(simple_feature_matrix)\n",
    "initial_weights = np.zeros(len(all_features)+1)\n",
    "l1_penalty = 1e7\n",
    "tolerance = 1.0\n",
    "\n",
    "weights = lasso_cyclical_coordinate_descent(simple_feature_matrix, output,\n",
    "                                            initial_weights, l1_penalty, tolerance)\n",
    "pd.DataFrame(data = [all_features, weights[1:]]).T"
   ]
  },
  {
   "cell_type": "code",
   "execution_count": 47,
   "metadata": {},
   "outputs": [
    {
     "output_type": "execute_result",
     "data": {
      "text/plain": "                0            1\n0        bedrooms            0\n1       bathrooms            0\n2     sqft_living  1.90841e+07\n3        sqft_lot            0\n4          floors            0\n5      waterfront            0\n6            view  6.57631e+06\n7       condition            0\n8           grade            0\n9      sqft_above            0\n10  sqft_basement            0\n11       yr_built            0\n12   yr_renovated            0",
      "text/html": "<div>\n<style scoped>\n    .dataframe tbody tr th:only-of-type {\n        vertical-align: middle;\n    }\n\n    .dataframe tbody tr th {\n        vertical-align: top;\n    }\n\n    .dataframe thead th {\n        text-align: right;\n    }\n</style>\n<table border=\"1\" class=\"dataframe\">\n  <thead>\n    <tr style=\"text-align: right;\">\n      <th></th>\n      <th>0</th>\n      <th>1</th>\n    </tr>\n  </thead>\n  <tbody>\n    <tr>\n      <th>0</th>\n      <td>bedrooms</td>\n      <td>0</td>\n    </tr>\n    <tr>\n      <th>1</th>\n      <td>bathrooms</td>\n      <td>0</td>\n    </tr>\n    <tr>\n      <th>2</th>\n      <td>sqft_living</td>\n      <td>1.90841e+07</td>\n    </tr>\n    <tr>\n      <th>3</th>\n      <td>sqft_lot</td>\n      <td>0</td>\n    </tr>\n    <tr>\n      <th>4</th>\n      <td>floors</td>\n      <td>0</td>\n    </tr>\n    <tr>\n      <th>5</th>\n      <td>waterfront</td>\n      <td>0</td>\n    </tr>\n    <tr>\n      <th>6</th>\n      <td>view</td>\n      <td>6.57631e+06</td>\n    </tr>\n    <tr>\n      <th>7</th>\n      <td>condition</td>\n      <td>0</td>\n    </tr>\n    <tr>\n      <th>8</th>\n      <td>grade</td>\n      <td>0</td>\n    </tr>\n    <tr>\n      <th>9</th>\n      <td>sqft_above</td>\n      <td>0</td>\n    </tr>\n    <tr>\n      <th>10</th>\n      <td>sqft_basement</td>\n      <td>0</td>\n    </tr>\n    <tr>\n      <th>11</th>\n      <td>yr_built</td>\n      <td>0</td>\n    </tr>\n    <tr>\n      <th>12</th>\n      <td>yr_renovated</td>\n      <td>0</td>\n    </tr>\n  </tbody>\n</table>\n</div>"
     },
     "metadata": {},
     "execution_count": 47
    }
   ],
   "source": [
    "l1_penalty = 2e7\n",
    "tolerance = 1.0\n",
    "weights = lasso_cyclical_coordinate_descent(simple_feature_matrix, output,\n",
    "                                            initial_weights, l1_penalty, tolerance)\n",
    "pd.DataFrame(data = [all_features, weights[1:]]).T"
   ]
  },
  {
   "cell_type": "markdown",
   "metadata": {},
   "source": [
    "# Notes:\n",
    "1. In lasso, normalization is required as features with diff scales can have different weights and can be unnecessarily pushed to zero! Norm ensures equal consideration to all features.           \n",
    "2. Generate the $rho$ for each weights based on formula, check that against the condition to calculate the new weight. Typically, the values keep decreasing and sent to zero.          \n",
    "3. Tolerance is used to check the update of weights between iterations, if there are no updates to weights then iterations stops. All weights asbolute diff is used against tolerance.          \n",
    "4. Coordinate Descent algorithm is used for the update because of L1 norm, which doesnt have proper derivative. It can either solved through sub-set derivative approach or corr desc. The algorithm core is you update one parameter at a time by keeping all other parameters fixed. Consider you are navigating frm Place A to Place B, you need traverse like manhattan distance and not euclidean based distance. Similar analogy."
   ]
  },
  {
   "cell_type": "code",
   "execution_count": null,
   "metadata": {},
   "outputs": [],
   "source": []
  }
 ],
 "metadata": {
  "kernelspec": {
   "display_name": "Python 3.7.6 64-bit ('base': conda)",
   "language": "python",
   "name": "python_defaultSpec_1594575806198"
  },
  "language_info": {
   "codemirror_mode": {
    "name": "ipython",
    "version": 2
   },
   "file_extension": ".py",
   "mimetype": "text/x-python",
   "name": "python",
   "nbconvert_exporter": "python",
   "pygments_lexer": "ipython2",
   "version": "3.7.6-final"
  }
 },
 "nbformat": 4,
 "nbformat_minor": 1
}