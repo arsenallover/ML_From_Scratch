{
 "cells": [
  {
   "cell_type": "markdown",
   "metadata": {},
   "source": [
    "## Motivation to move away from Linear Regression\n",
    "\n",
    "Consider x and y where the relationship is not clear that initially it is linear, midway it constant and towards end it is quadratic. It is difficult to model these changing behaviour well through linear regression. Polynomial regression could capture them, but again at the extent of high variance.\n",
    "\n",
    "Hence, KNN type of non-parametric approaches work well in such scenario.\n"
   ]
  },
  {
   "cell_type": "markdown",
   "metadata": {},
   "source": [
    "### 1D KNN:\n",
    "You are predicting price of house based on sqft. As per below figure you dont build any parametric model, rather you find the closest match in price for the sqft rate of interest.\n",
    "\n",
    "Pick a Xq and go to left and right along y and choose the prediction.\n",
    "\n",
    "![title](Images\\KNN_Concept.PNG)\n",
    "\n",
    "### 1D KNN in multiple dimesions:\n",
    "Voronoi Tesselation : Divide space into N regions each containting single datapoint. Where any predicted example lying in the space, distance is calculated to nearest all data points. The prediction is given as per min distance.\n",
    "![title](Images\\KNN_Concept_1D.PNG)\n",
    "\n",
    "## Distance Metrics\n",
    "\n",
    "Euclidean Distance: the usual Distance using shortest minimum distance between two points.          \n",
    "Manhattan Distance : just think of New York and driving along the streets of New York. It's measuring distance along this axis-aligned directions, so it's distance along the x direction plus distance along the y direction which is a different difference than our standard Euclidean distance"
   ]
  },
  {
   "cell_type": "markdown",
   "metadata": {},
   "source": [
    "### KNN algorithm : \n",
    "1. Initialize the prediction to $\\inf$.            \n",
    "2. Loop over all data points:        \n",
    "    2.1 calculate the distance from test data to that data point.           \n",
    "    2.2 If the value is lower than stored prediction, replace with new value\n",
    "\n",
    "### Problem with KNN:\n",
    "1. Sensitive"
   ]
  },
  {
   "cell_type": "code",
   "execution_count": null,
   "metadata": {},
   "outputs": [],
   "source": []
  }
 ],
 "metadata": {
  "language_info": {
   "codemirror_mode": {
    "name": "ipython",
    "version": 3
   },
   "file_extension": ".py",
   "mimetype": "text/x-python",
   "name": "python",
   "nbconvert_exporter": "python",
   "pygments_lexer": "ipython3",
   "version": 3
  },
  "orig_nbformat": 2
 },
 "nbformat": 4,
 "nbformat_minor": 2
}