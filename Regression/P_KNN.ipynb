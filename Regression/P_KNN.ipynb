{
 "cells": [
  {
   "cell_type": "code",
   "execution_count": 114,
   "metadata": {},
   "outputs": [],
   "source": [
    "import pandas as pd\n",
    "import numpy as np\n",
    "from sklearn.model_selection import train_test_split\n",
    "import matplotlib.pyplot as plt\n",
    "df = pd.read_csv(r\"Data/kc_house_data.csv\")\n",
    "\n",
    "train_data = df.sample(100,random_state=0)\n",
    "input = train_data[['sqft_living']].values\n",
    "output = train_data['price'].values"
   ]
  },
  {
   "cell_type": "code",
   "execution_count": 115,
   "metadata": {},
   "outputs": [],
   "source": [
    "def normalize_features(feature_matrix):\n",
    "    norms = np.linalg.norm(feature_matrix, axis=0)\n",
    "    normalized_features = feature_matrix / norms\n",
    "    return (normalized_features, norms)\n"
   ]
  },
  {
   "cell_type": "markdown",
   "metadata": {},
   "source": [
    "## 1D KNN (K = 1)"
   ]
  },
  {
   "cell_type": "code",
   "execution_count": 116,
   "metadata": {
    "tags": []
   },
   "outputs": [
    {
     "output_type": "stream",
     "name": "stdout",
     "text": "0 0.135\n1 0.0\n2 0.013\n3 0.073\n4 0.009\n5 0.012\n6 0.046\n7 0.043\n8 0.126\n9 0.039\n10 0.012\n11 0.017\n12 0.004\n13 0.073\n14 0.009\n15 0.004\n16 0.029\n17 0.021\n18 0.003\n19 0.01\n20 0.033\n21 0.02\n22 0.014\n23 0.039\n24 0.014\n25 0.004\n26 0.009\n27 0.028\n28 0.011\n29 0.027\n30 0.025\n31 0.047\n32 0.079\n33 0.068\n34 0.016\n35 0.007\n36 0.025\n37 0.049\n38 0.015\n39 0.01\n40 0.002\n41 0.041\n42 0.051\n43 0.038\n44 0.039\n45 0.018\n46 0.071\n47 0.005\n48 0.073\n49 0.0\n50 0.033\n51 0.074\n52 0.012\n53 0.087\n54 0.004\n55 0.004\n56 0.024\n57 0.006\n58 0.053\n59 0.008\n60 0.027\n61 0.003\n62 0.07\n63 0.059\n64 0.072\n65 0.009\n66 0.055\n67 0.085\n68 0.023\n69 0.094\n70 0.005\n71 0.028\n72 0.008\n73 0.073\n74 0.127\n75 0.049\n76 0.082\n77 0.01\n78 0.029\n79 0.024\n80 0.04\n81 0.104\n82 0.03\n83 0.027\n84 0.026\n85 0.005\n86 0.004\n87 0.013\n88 0.012\n89 0.173\n90 0.053\n91 0.04\n92 0.037\n93 0.141\n94 0.008\n95 0.027\n96 0.053\n97 0.004\n98 0.029\n"
    }
   ],
   "source": [
    "# This code calculates the euclidean distance for the first house wrt to next 9 houses (sample)\n",
    "input = train_data[['sqft_living']].values\n",
    "output = train_data['price'].values\n",
    "norm_input, norms = normalize_features(input)\n",
    "euc_dist = []\n",
    "train_input, train_output = norm_input[1:], output[1:]\n",
    "test_input, test_output = norm_input[0], output[0]\n",
    "for index, i in enumerate(train_input):\n",
    "    distance = np.round(np.sqrt((test_input - i)**2), 3)\n",
    "    euc_dist.append(distance)\n",
    "    print(index, *distance)"
   ]
  },
  {
   "cell_type": "code",
   "execution_count": 117,
   "metadata": {
    "tags": []
   },
   "outputs": [
    {
     "output_type": "stream",
     "name": "stdout",
     "text": "Actual : 297000.0, prediction : 562100.0\n"
    }
   ],
   "source": [
    "neighbour = np.argmin(euc_dist)\n",
    "print(f\"Actual : {test_output}, prediction : {train_output[neighbour]}\")"
   ]
  },
  {
   "cell_type": "code",
   "execution_count": 118,
   "metadata": {
    "tags": []
   },
   "outputs": [
    {
     "output_type": "stream",
     "name": "stdout",
     "text": "[1430.] [4670.] [1440.] [1130.] [3180.] [1650.] [1720.] [2538.] [2460.] [4460.] [2360.] [1720.] [1020.] [1340.] [3180.] [1220.] [1530.] [2130.] [930.] [1370.] [1670.] [2220.] [1900.] [1100.] [2370.] [1100.] [1530.] [1640.] [2110.] [1690.] [2070.] [2020.] [2560.] [3330.] [3070.] [1820.] [1260.] [2040.] [2600.] [1080.] [1180.] [1390.] [2410.] [2650.] [2350.] [2370.] [1870.] [3140.] [1550.] [3170.] [1420.] [2210.] [3200.] [1150.] [3510.] [1330.] [1530.] [2000.] [1280.] [2700.] [1250.] [2070.] [1350.] [3110.] [2840.] [3160.] [1640.] [2740.] [3460.] [1970.] [3672.] [1540.] [2110.] [1630.] [3190.] [4480.] [2610.] [3390.] [1680.] [2130.] [2010.] [2390.] [3910.] [2150.] [2070.] [2060.] [1550.] [1340.] [1750.] [1150.] [5584.] [2690.] [2390.] [2320.] [4810.] [1610.] [2080.] [2710.] [1530.] [2130.] 297000.0 1578000.0 562100.0 631500.0 780000.0 485000.0 340000.0 335606.0 425000.0 490000.0 732000.0 389700.0 450000.0 357000.0 960000.0 257000.0 448000.0 610000.0 230950.0 377500.0 375000.0 410000.0 459000.0 190000.0 585000.0 280000.0 500000.0 465000.0 802000.0 440000.0 1452000.0 575000.0 390000.0 1210000.0 858000.0 453000.0 245000.0 279000.0 482000.0 228500.0 397990.0 400000.0 325000.0 699000.0 555000.0 687000.0 310000.0 400000.0 525000.0 1035000.0 255000.0 245000.0 1325000.0 309212.0 782000.0 553000.0 390500.0 330000.0 425000.0 552500.0 308000.0 320000.0 382000.0 435000.0 372000.0 1381000.0 349950.0 350000.0 1315000.0 255000.0 405000.0 442500.0 772000.0 767450.0 832000.0 835000.0 2000000.0 460000.0 500000.0 620000.0 605000.0 790000.0 1749000.0 513000.0 600000.0 680000.0 350000.0 332000.0 605000.0 325000.0 1680000.0 555000.0 565000.0 480000.0 3204000.0 215000.0 605000.0 623000.0 536000.0 370000.0\n"
    }
   ],
   "source": [
    "# Validate\n",
    "print(*input, *output)"
   ]
  },
  {
   "cell_type": "markdown",
   "metadata": {},
   "source": [
    "## Multi Dimension KNN (K = 1)\n"
   ]
  },
  {
   "cell_type": "code",
   "execution_count": 119,
   "metadata": {
    "tags": []
   },
   "outputs": [
    {
     "output_type": "stream",
     "name": "stdout",
     "text": "0 0.192\n1 0.0\n2 0.013\n3 0.13\n4 0.038\n5 0.04\n6 0.075\n7 0.1\n8 0.212\n9 0.096\n10 0.04\n11 0.017\n12 0.025\n13 0.13\n14 0.009\n15 0.033\n16 0.086\n17 0.021\n18 0.026\n19 0.038\n20 0.09\n21 0.076\n22 0.015\n23 0.096\n24 0.015\n25 0.061\n26 0.066\n27 0.028\n28 0.039\n29 0.027\n30 0.081\n31 0.104\n32 0.136\n33 0.125\n34 0.045\n35 0.021\n36 0.082\n37 0.077\n38 0.014\n39 0.018\n40 0.03\n41 0.098\n42 0.108\n43 0.095\n44 0.096\n45 0.075\n46 0.128\n47 0.033\n48 0.129\n49 0.028\n50 0.061\n51 0.159\n52 0.017\n53 0.144\n54 0.024\n55 0.033\n56 0.109\n57 0.022\n58 0.081\n59 0.021\n60 0.083\n61 0.003\n62 0.099\n63 0.144\n64 0.129\n65 0.037\n66 0.111\n67 0.142\n68 0.108\n69 0.179\n70 0.061\n71 0.085\n72 0.037\n73 0.13\n74 0.184\n75 0.078\n76 0.167\n77 0.039\n78 0.086\n79 0.053\n80 0.068\n81 0.16\n82 0.058\n83 0.083\n84 0.055\n85 0.033\n86 0.025\n87 0.07\n88 0.017\n89 0.23\n90 0.081\n91 0.068\n92 0.094\n93 0.198\n94 0.008\n95 0.056\n96 0.11\n97 0.033\n98 0.086\n"
    }
   ],
   "source": [
    "# This code calculates the euclidean distance for the first house wrt to next 9 houses (sample)\n",
    "input = train_data[['sqft_living', 'bedrooms']].values\n",
    "output = train_data['price'].values\n",
    "norm_input, norms = normalize_features(input)\n",
    "euc_dist = []\n",
    "train_input, train_output = norm_input[1:], output[1:]\n",
    "test_input, test_output = norm_input[0], output[0]\n",
    "for index, i in enumerate(train_input):\n",
    "    distance = np.round(np.sqrt((np.sum(test_input - i))**2), 3) # Just sum the differences in each feature row-wise\n",
    "    euc_dist.append(distance)\n",
    "    print(index, distance)"
   ]
  },
  {
   "cell_type": "code",
   "execution_count": 120,
   "metadata": {
    "tags": []
   },
   "outputs": [
    {
     "output_type": "stream",
     "name": "stdout",
     "text": "Actual : 297000.0, prediction : 562100.0\n"
    }
   ],
   "source": [
    "neighbour = np.argmin(euc_dist)\n",
    "print(f\"Actual : {test_output}, prediction : {train_output[neighbour]}\")"
   ]
  },
  {
   "cell_type": "markdown",
   "metadata": {},
   "source": [
    "## Multi-Dimension KNN (K > 1)"
   ]
  },
  {
   "cell_type": "code",
   "execution_count": 122,
   "metadata": {
    "tags": []
   },
   "outputs": [
    {
     "output_type": "stream",
     "name": "stdout",
     "text": "0 0.192\n1 0.0\n2 0.013\n3 0.13\n4 0.038\n5 0.04\n6 0.075\n7 0.1\n8 0.212\n9 0.096\n10 0.04\n11 0.017\n12 0.025\n13 0.13\n14 0.009\n15 0.033\n16 0.086\n17 0.021\n18 0.026\n19 0.038\n20 0.09\n21 0.076\n22 0.015\n23 0.096\n24 0.015\n25 0.061\n26 0.066\n27 0.028\n28 0.039\n29 0.027\n30 0.081\n31 0.104\n32 0.136\n33 0.125\n34 0.045\n35 0.021\n36 0.082\n37 0.077\n38 0.014\n39 0.018\n40 0.03\n41 0.098\n42 0.108\n43 0.095\n44 0.096\n45 0.075\n46 0.128\n47 0.033\n48 0.129\n49 0.028\n50 0.061\n51 0.159\n52 0.017\n53 0.144\n54 0.024\n55 0.033\n56 0.109\n57 0.022\n58 0.081\n59 0.021\n60 0.083\n61 0.003\n62 0.099\n63 0.144\n64 0.129\n65 0.037\n66 0.111\n67 0.142\n68 0.108\n69 0.179\n70 0.061\n71 0.085\n72 0.037\n73 0.13\n74 0.184\n75 0.078\n76 0.167\n77 0.039\n78 0.086\n79 0.053\n80 0.068\n81 0.16\n82 0.058\n83 0.083\n84 0.055\n85 0.033\n86 0.025\n87 0.07\n88 0.017\n89 0.23\n90 0.081\n91 0.068\n92 0.094\n93 0.198\n94 0.008\n95 0.056\n96 0.11\n97 0.033\n98 0.086\n"
    }
   ],
   "source": [
    "# This code calculates the euclidean distance for the first house wrt to next 9 houses (sample)\n",
    "input = train_data[['sqft_living', 'bedrooms']].values\n",
    "output = train_data['price'].values\n",
    "norm_input, norms = normalize_features(input)\n",
    "euc_dist = []\n",
    "train_input, train_output = norm_input[1:], output[1:]\n",
    "test_input, test_output = norm_input[0], output[0]\n",
    "for index, i in enumerate(train_input):\n",
    "    distance = np.round(np.sqrt((np.sum(test_input - i))**2), 3) # Just sum the differences in each feature row-wise\n",
    "    euc_dist.append(distance)\n",
    "    print(index, distance)"
   ]
  },
  {
   "cell_type": "code",
   "execution_count": 123,
   "metadata": {},
   "outputs": [],
   "source": [
    "def get_knn_result(euc_dist, train_output, k):\n",
    "    ind = np.argsort(euc_dist)[:k]\n",
    "    pred = np.mean([train_output[i] for i in ind])\n",
    "    return pred"
   ]
  },
  {
   "cell_type": "code",
   "execution_count": 124,
   "metadata": {
    "tags": []
   },
   "outputs": [],
   "source": [
    "prediction_all = []\n",
    "test_error_all = []\n",
    "for k in range(10):\n",
    "    k += 1\n",
    "    prediction = get_knn_result(euc_dist, train_output, k)\n",
    "    test_error = np.sqrt((prediction - test_output)**2)\n",
    "    prediction_all.append(prediction)\n",
    "    test_error_all.append(test_error)"
   ]
  },
  {
   "cell_type": "code",
   "execution_count": 128,
   "metadata": {},
   "outputs": [
    {
     "output_type": "execute_result",
     "data": {
      "text/plain": "[<matplotlib.lines.Line2D at 0x109ce848>]"
     },
     "metadata": {},
     "execution_count": 128
    },
    {
     "output_type": "display_data",
     "data": {
      "text/plain": "<Figure size 432x288 with 1 Axes>",
      "image/svg+xml": "<?xml version=\"1.0\" encoding=\"utf-8\" standalone=\"no\"?>\r\n<!DOCTYPE svg PUBLIC \"-//W3C//DTD SVG 1.1//EN\"\r\n  \"http://www.w3.org/Graphics/SVG/1.1/DTD/svg11.dtd\">\r\n<!-- Created with matplotlib (https://matplotlib.org/) -->\r\n<svg height=\"248.518125pt\" version=\"1.1\" viewBox=\"0 0 394.375 248.518125\" width=\"394.375pt\" xmlns=\"http://www.w3.org/2000/svg\" xmlns:xlink=\"http://www.w3.org/1999/xlink\">\r\n <defs>\r\n  <style type=\"text/css\">\r\n*{stroke-linecap:butt;stroke-linejoin:round;}\r\n  </style>\r\n </defs>\r\n <g id=\"figure_1\">\r\n  <g id=\"patch_1\">\r\n   <path d=\"M 0 248.518125 \r\nL 394.375 248.518125 \r\nL 394.375 0 \r\nL 0 0 \r\nz\r\n\" style=\"fill:none;\"/>\r\n  </g>\r\n  <g id=\"axes_1\">\r\n   <g id=\"patch_2\">\r\n    <path d=\"M 52.375 224.64 \r\nL 387.175 224.64 \r\nL 387.175 7.2 \r\nL 52.375 7.2 \r\nz\r\n\" style=\"fill:#ffffff;\"/>\r\n   </g>\r\n   <g id=\"matplotlib.axis_1\">\r\n    <g id=\"xtick_1\">\r\n     <g id=\"line2d_1\">\r\n      <defs>\r\n       <path d=\"M 0 0 \r\nL 0 3.5 \r\n\" id=\"ma9970562f5\" style=\"stroke:#000000;stroke-width:0.8;\"/>\r\n      </defs>\r\n      <g>\r\n       <use style=\"stroke:#000000;stroke-width:0.8;\" x=\"67.593182\" xlink:href=\"#ma9970562f5\" y=\"224.64\"/>\r\n      </g>\r\n     </g>\r\n     <g id=\"text_1\">\r\n      <!-- 0 -->\r\n      <defs>\r\n       <path d=\"M 31.78125 66.40625 \r\nQ 24.171875 66.40625 20.328125 58.90625 \r\nQ 16.5 51.421875 16.5 36.375 \r\nQ 16.5 21.390625 20.328125 13.890625 \r\nQ 24.171875 6.390625 31.78125 6.390625 \r\nQ 39.453125 6.390625 43.28125 13.890625 \r\nQ 47.125 21.390625 47.125 36.375 \r\nQ 47.125 51.421875 43.28125 58.90625 \r\nQ 39.453125 66.40625 31.78125 66.40625 \r\nz\r\nM 31.78125 74.21875 \r\nQ 44.046875 74.21875 50.515625 64.515625 \r\nQ 56.984375 54.828125 56.984375 36.375 \r\nQ 56.984375 17.96875 50.515625 8.265625 \r\nQ 44.046875 -1.421875 31.78125 -1.421875 \r\nQ 19.53125 -1.421875 13.0625 8.265625 \r\nQ 6.59375 17.96875 6.59375 36.375 \r\nQ 6.59375 54.828125 13.0625 64.515625 \r\nQ 19.53125 74.21875 31.78125 74.21875 \r\nz\r\n\" id=\"DejaVuSans-48\"/>\r\n      </defs>\r\n      <g transform=\"translate(64.411932 239.238438)scale(0.1 -0.1)\">\r\n       <use xlink:href=\"#DejaVuSans-48\"/>\r\n      </g>\r\n     </g>\r\n    </g>\r\n    <g id=\"xtick_2\">\r\n     <g id=\"line2d_2\">\r\n      <g>\r\n       <use style=\"stroke:#000000;stroke-width:0.8;\" x=\"135.229545\" xlink:href=\"#ma9970562f5\" y=\"224.64\"/>\r\n      </g>\r\n     </g>\r\n     <g id=\"text_2\">\r\n      <!-- 2 -->\r\n      <defs>\r\n       <path d=\"M 19.1875 8.296875 \r\nL 53.609375 8.296875 \r\nL 53.609375 0 \r\nL 7.328125 0 \r\nL 7.328125 8.296875 \r\nQ 12.9375 14.109375 22.625 23.890625 \r\nQ 32.328125 33.6875 34.8125 36.53125 \r\nQ 39.546875 41.84375 41.421875 45.53125 \r\nQ 43.3125 49.21875 43.3125 52.78125 \r\nQ 43.3125 58.59375 39.234375 62.25 \r\nQ 35.15625 65.921875 28.609375 65.921875 \r\nQ 23.96875 65.921875 18.8125 64.3125 \r\nQ 13.671875 62.703125 7.8125 59.421875 \r\nL 7.8125 69.390625 \r\nQ 13.765625 71.78125 18.9375 73 \r\nQ 24.125 74.21875 28.421875 74.21875 \r\nQ 39.75 74.21875 46.484375 68.546875 \r\nQ 53.21875 62.890625 53.21875 53.421875 \r\nQ 53.21875 48.921875 51.53125 44.890625 \r\nQ 49.859375 40.875 45.40625 35.40625 \r\nQ 44.1875 33.984375 37.640625 27.21875 \r\nQ 31.109375 20.453125 19.1875 8.296875 \r\nz\r\n\" id=\"DejaVuSans-50\"/>\r\n      </defs>\r\n      <g transform=\"translate(132.048295 239.238438)scale(0.1 -0.1)\">\r\n       <use xlink:href=\"#DejaVuSans-50\"/>\r\n      </g>\r\n     </g>\r\n    </g>\r\n    <g id=\"xtick_3\">\r\n     <g id=\"line2d_3\">\r\n      <g>\r\n       <use style=\"stroke:#000000;stroke-width:0.8;\" x=\"202.865909\" xlink:href=\"#ma9970562f5\" y=\"224.64\"/>\r\n      </g>\r\n     </g>\r\n     <g id=\"text_3\">\r\n      <!-- 4 -->\r\n      <defs>\r\n       <path d=\"M 37.796875 64.3125 \r\nL 12.890625 25.390625 \r\nL 37.796875 25.390625 \r\nz\r\nM 35.203125 72.90625 \r\nL 47.609375 72.90625 \r\nL 47.609375 25.390625 \r\nL 58.015625 25.390625 \r\nL 58.015625 17.1875 \r\nL 47.609375 17.1875 \r\nL 47.609375 0 \r\nL 37.796875 0 \r\nL 37.796875 17.1875 \r\nL 4.890625 17.1875 \r\nL 4.890625 26.703125 \r\nz\r\n\" id=\"DejaVuSans-52\"/>\r\n      </defs>\r\n      <g transform=\"translate(199.684659 239.238438)scale(0.1 -0.1)\">\r\n       <use xlink:href=\"#DejaVuSans-52\"/>\r\n      </g>\r\n     </g>\r\n    </g>\r\n    <g id=\"xtick_4\">\r\n     <g id=\"line2d_4\">\r\n      <g>\r\n       <use style=\"stroke:#000000;stroke-width:0.8;\" x=\"270.502273\" xlink:href=\"#ma9970562f5\" y=\"224.64\"/>\r\n      </g>\r\n     </g>\r\n     <g id=\"text_4\">\r\n      <!-- 6 -->\r\n      <defs>\r\n       <path d=\"M 33.015625 40.375 \r\nQ 26.375 40.375 22.484375 35.828125 \r\nQ 18.609375 31.296875 18.609375 23.390625 \r\nQ 18.609375 15.53125 22.484375 10.953125 \r\nQ 26.375 6.390625 33.015625 6.390625 \r\nQ 39.65625 6.390625 43.53125 10.953125 \r\nQ 47.40625 15.53125 47.40625 23.390625 \r\nQ 47.40625 31.296875 43.53125 35.828125 \r\nQ 39.65625 40.375 33.015625 40.375 \r\nz\r\nM 52.59375 71.296875 \r\nL 52.59375 62.3125 \r\nQ 48.875 64.0625 45.09375 64.984375 \r\nQ 41.3125 65.921875 37.59375 65.921875 \r\nQ 27.828125 65.921875 22.671875 59.328125 \r\nQ 17.53125 52.734375 16.796875 39.40625 \r\nQ 19.671875 43.65625 24.015625 45.921875 \r\nQ 28.375 48.1875 33.59375 48.1875 \r\nQ 44.578125 48.1875 50.953125 41.515625 \r\nQ 57.328125 34.859375 57.328125 23.390625 \r\nQ 57.328125 12.15625 50.6875 5.359375 \r\nQ 44.046875 -1.421875 33.015625 -1.421875 \r\nQ 20.359375 -1.421875 13.671875 8.265625 \r\nQ 6.984375 17.96875 6.984375 36.375 \r\nQ 6.984375 53.65625 15.1875 63.9375 \r\nQ 23.390625 74.21875 37.203125 74.21875 \r\nQ 40.921875 74.21875 44.703125 73.484375 \r\nQ 48.484375 72.75 52.59375 71.296875 \r\nz\r\n\" id=\"DejaVuSans-54\"/>\r\n      </defs>\r\n      <g transform=\"translate(267.321023 239.238438)scale(0.1 -0.1)\">\r\n       <use xlink:href=\"#DejaVuSans-54\"/>\r\n      </g>\r\n     </g>\r\n    </g>\r\n    <g id=\"xtick_5\">\r\n     <g id=\"line2d_5\">\r\n      <g>\r\n       <use style=\"stroke:#000000;stroke-width:0.8;\" x=\"338.138636\" xlink:href=\"#ma9970562f5\" y=\"224.64\"/>\r\n      </g>\r\n     </g>\r\n     <g id=\"text_5\">\r\n      <!-- 8 -->\r\n      <defs>\r\n       <path d=\"M 31.78125 34.625 \r\nQ 24.75 34.625 20.71875 30.859375 \r\nQ 16.703125 27.09375 16.703125 20.515625 \r\nQ 16.703125 13.921875 20.71875 10.15625 \r\nQ 24.75 6.390625 31.78125 6.390625 \r\nQ 38.8125 6.390625 42.859375 10.171875 \r\nQ 46.921875 13.96875 46.921875 20.515625 \r\nQ 46.921875 27.09375 42.890625 30.859375 \r\nQ 38.875 34.625 31.78125 34.625 \r\nz\r\nM 21.921875 38.8125 \r\nQ 15.578125 40.375 12.03125 44.71875 \r\nQ 8.5 49.078125 8.5 55.328125 \r\nQ 8.5 64.0625 14.71875 69.140625 \r\nQ 20.953125 74.21875 31.78125 74.21875 \r\nQ 42.671875 74.21875 48.875 69.140625 \r\nQ 55.078125 64.0625 55.078125 55.328125 \r\nQ 55.078125 49.078125 51.53125 44.71875 \r\nQ 48 40.375 41.703125 38.8125 \r\nQ 48.828125 37.15625 52.796875 32.3125 \r\nQ 56.78125 27.484375 56.78125 20.515625 \r\nQ 56.78125 9.90625 50.3125 4.234375 \r\nQ 43.84375 -1.421875 31.78125 -1.421875 \r\nQ 19.734375 -1.421875 13.25 4.234375 \r\nQ 6.78125 9.90625 6.78125 20.515625 \r\nQ 6.78125 27.484375 10.78125 32.3125 \r\nQ 14.796875 37.15625 21.921875 38.8125 \r\nz\r\nM 18.3125 54.390625 \r\nQ 18.3125 48.734375 21.84375 45.5625 \r\nQ 25.390625 42.390625 31.78125 42.390625 \r\nQ 38.140625 42.390625 41.71875 45.5625 \r\nQ 45.3125 48.734375 45.3125 54.390625 \r\nQ 45.3125 60.0625 41.71875 63.234375 \r\nQ 38.140625 66.40625 31.78125 66.40625 \r\nQ 25.390625 66.40625 21.84375 63.234375 \r\nQ 18.3125 60.0625 18.3125 54.390625 \r\nz\r\n\" id=\"DejaVuSans-56\"/>\r\n      </defs>\r\n      <g transform=\"translate(334.957386 239.238438)scale(0.1 -0.1)\">\r\n       <use xlink:href=\"#DejaVuSans-56\"/>\r\n      </g>\r\n     </g>\r\n    </g>\r\n   </g>\r\n   <g id=\"matplotlib.axis_2\">\r\n    <g id=\"ytick_1\">\r\n     <g id=\"line2d_6\">\r\n      <defs>\r\n       <path d=\"M 0 0 \r\nL -3.5 0 \r\n\" id=\"m022a89f3f3\" style=\"stroke:#000000;stroke-width:0.8;\"/>\r\n      </defs>\r\n      <g>\r\n       <use style=\"stroke:#000000;stroke-width:0.8;\" x=\"52.375\" xlink:href=\"#m022a89f3f3\" y=\"211.380334\"/>\r\n      </g>\r\n     </g>\r\n     <g id=\"text_6\">\r\n      <!-- 50000 -->\r\n      <defs>\r\n       <path d=\"M 10.796875 72.90625 \r\nL 49.515625 72.90625 \r\nL 49.515625 64.59375 \r\nL 19.828125 64.59375 \r\nL 19.828125 46.734375 \r\nQ 21.96875 47.46875 24.109375 47.828125 \r\nQ 26.265625 48.1875 28.421875 48.1875 \r\nQ 40.625 48.1875 47.75 41.5 \r\nQ 54.890625 34.8125 54.890625 23.390625 \r\nQ 54.890625 11.625 47.5625 5.09375 \r\nQ 40.234375 -1.421875 26.90625 -1.421875 \r\nQ 22.3125 -1.421875 17.546875 -0.640625 \r\nQ 12.796875 0.140625 7.71875 1.703125 \r\nL 7.71875 11.625 \r\nQ 12.109375 9.234375 16.796875 8.0625 \r\nQ 21.484375 6.890625 26.703125 6.890625 \r\nQ 35.15625 6.890625 40.078125 11.328125 \r\nQ 45.015625 15.765625 45.015625 23.390625 \r\nQ 45.015625 31 40.078125 35.4375 \r\nQ 35.15625 39.890625 26.703125 39.890625 \r\nQ 22.75 39.890625 18.8125 39.015625 \r\nQ 14.890625 38.140625 10.796875 36.28125 \r\nz\r\n\" id=\"DejaVuSans-53\"/>\r\n      </defs>\r\n      <g transform=\"translate(13.5625 215.179553)scale(0.1 -0.1)\">\r\n       <use xlink:href=\"#DejaVuSans-53\"/>\r\n       <use x=\"63.623047\" xlink:href=\"#DejaVuSans-48\"/>\r\n       <use x=\"127.246094\" xlink:href=\"#DejaVuSans-48\"/>\r\n       <use x=\"190.869141\" xlink:href=\"#DejaVuSans-48\"/>\r\n       <use x=\"254.492188\" xlink:href=\"#DejaVuSans-48\"/>\r\n      </g>\r\n     </g>\r\n    </g>\r\n    <g id=\"ytick_2\">\r\n     <g id=\"line2d_7\">\r\n      <g>\r\n       <use style=\"stroke:#000000;stroke-width:0.8;\" x=\"52.375\" xlink:href=\"#m022a89f3f3\" y=\"166.216062\"/>\r\n      </g>\r\n     </g>\r\n     <g id=\"text_7\">\r\n      <!-- 100000 -->\r\n      <defs>\r\n       <path d=\"M 12.40625 8.296875 \r\nL 28.515625 8.296875 \r\nL 28.515625 63.921875 \r\nL 10.984375 60.40625 \r\nL 10.984375 69.390625 \r\nL 28.421875 72.90625 \r\nL 38.28125 72.90625 \r\nL 38.28125 8.296875 \r\nL 54.390625 8.296875 \r\nL 54.390625 0 \r\nL 12.40625 0 \r\nz\r\n\" id=\"DejaVuSans-49\"/>\r\n      </defs>\r\n      <g transform=\"translate(7.2 170.015281)scale(0.1 -0.1)\">\r\n       <use xlink:href=\"#DejaVuSans-49\"/>\r\n       <use x=\"63.623047\" xlink:href=\"#DejaVuSans-48\"/>\r\n       <use x=\"127.246094\" xlink:href=\"#DejaVuSans-48\"/>\r\n       <use x=\"190.869141\" xlink:href=\"#DejaVuSans-48\"/>\r\n       <use x=\"254.492188\" xlink:href=\"#DejaVuSans-48\"/>\r\n       <use x=\"318.115234\" xlink:href=\"#DejaVuSans-48\"/>\r\n      </g>\r\n     </g>\r\n    </g>\r\n    <g id=\"ytick_3\">\r\n     <g id=\"line2d_8\">\r\n      <g>\r\n       <use style=\"stroke:#000000;stroke-width:0.8;\" x=\"52.375\" xlink:href=\"#m022a89f3f3\" y=\"121.05179\"/>\r\n      </g>\r\n     </g>\r\n     <g id=\"text_8\">\r\n      <!-- 150000 -->\r\n      <g transform=\"translate(7.2 124.851009)scale(0.1 -0.1)\">\r\n       <use xlink:href=\"#DejaVuSans-49\"/>\r\n       <use x=\"63.623047\" xlink:href=\"#DejaVuSans-53\"/>\r\n       <use x=\"127.246094\" xlink:href=\"#DejaVuSans-48\"/>\r\n       <use x=\"190.869141\" xlink:href=\"#DejaVuSans-48\"/>\r\n       <use x=\"254.492188\" xlink:href=\"#DejaVuSans-48\"/>\r\n       <use x=\"318.115234\" xlink:href=\"#DejaVuSans-48\"/>\r\n      </g>\r\n     </g>\r\n    </g>\r\n    <g id=\"ytick_4\">\r\n     <g id=\"line2d_9\">\r\n      <g>\r\n       <use style=\"stroke:#000000;stroke-width:0.8;\" x=\"52.375\" xlink:href=\"#m022a89f3f3\" y=\"75.887518\"/>\r\n      </g>\r\n     </g>\r\n     <g id=\"text_9\">\r\n      <!-- 200000 -->\r\n      <g transform=\"translate(7.2 79.686737)scale(0.1 -0.1)\">\r\n       <use xlink:href=\"#DejaVuSans-50\"/>\r\n       <use x=\"63.623047\" xlink:href=\"#DejaVuSans-48\"/>\r\n       <use x=\"127.246094\" xlink:href=\"#DejaVuSans-48\"/>\r\n       <use x=\"190.869141\" xlink:href=\"#DejaVuSans-48\"/>\r\n       <use x=\"254.492188\" xlink:href=\"#DejaVuSans-48\"/>\r\n       <use x=\"318.115234\" xlink:href=\"#DejaVuSans-48\"/>\r\n      </g>\r\n     </g>\r\n    </g>\r\n    <g id=\"ytick_5\">\r\n     <g id=\"line2d_10\">\r\n      <g>\r\n       <use style=\"stroke:#000000;stroke-width:0.8;\" x=\"52.375\" xlink:href=\"#m022a89f3f3\" y=\"30.723246\"/>\r\n      </g>\r\n     </g>\r\n     <g id=\"text_10\">\r\n      <!-- 250000 -->\r\n      <g transform=\"translate(7.2 34.522465)scale(0.1 -0.1)\">\r\n       <use xlink:href=\"#DejaVuSans-50\"/>\r\n       <use x=\"63.623047\" xlink:href=\"#DejaVuSans-53\"/>\r\n       <use x=\"127.246094\" xlink:href=\"#DejaVuSans-48\"/>\r\n       <use x=\"190.869141\" xlink:href=\"#DejaVuSans-48\"/>\r\n       <use x=\"254.492188\" xlink:href=\"#DejaVuSans-48\"/>\r\n       <use x=\"318.115234\" xlink:href=\"#DejaVuSans-48\"/>\r\n      </g>\r\n     </g>\r\n    </g>\r\n   </g>\r\n   <g id=\"line2d_11\">\r\n    <path clip-path=\"url(#p4a207239bf)\" d=\"M 67.593182 17.083636 \r\nL 101.411364 98.42449 \r\nL 135.229545 175.820998 \r\nL 169.047727 205.034754 \r\nL 202.865909 154.906929 \r\nL 236.684091 182.15905 \r\nL 270.502273 194.979252 \r\nL 304.320455 214.756364 \r\nL 338.138636 204.043649 \r\nL 371.956818 206.764546 \r\n\" style=\"fill:none;stroke:#0000ff;stroke-linecap:square;stroke-width:1.5;\"/>\r\n    <defs>\r\n     <path d=\"M 0 3 \r\nC 0.795609 3 1.55874 2.683901 2.12132 2.12132 \r\nC 2.683901 1.55874 3 0.795609 3 0 \r\nC 3 -0.795609 2.683901 -1.55874 2.12132 -2.12132 \r\nC 1.55874 -2.683901 0.795609 -3 0 -3 \r\nC -0.795609 -3 -1.55874 -2.683901 -2.12132 -2.12132 \r\nC -2.683901 -1.55874 -3 -0.795609 -3 0 \r\nC -3 0.795609 -2.683901 1.55874 -2.12132 2.12132 \r\nC -1.55874 2.683901 -0.795609 3 0 3 \r\nz\r\n\" id=\"md4694e9eb1\" style=\"stroke:#0000ff;\"/>\r\n    </defs>\r\n    <g clip-path=\"url(#p4a207239bf)\">\r\n     <use style=\"fill:#0000ff;stroke:#0000ff;\" x=\"67.593182\" xlink:href=\"#md4694e9eb1\" y=\"17.083636\"/>\r\n     <use style=\"fill:#0000ff;stroke:#0000ff;\" x=\"101.411364\" xlink:href=\"#md4694e9eb1\" y=\"98.42449\"/>\r\n     <use style=\"fill:#0000ff;stroke:#0000ff;\" x=\"135.229545\" xlink:href=\"#md4694e9eb1\" y=\"175.820998\"/>\r\n     <use style=\"fill:#0000ff;stroke:#0000ff;\" x=\"169.047727\" xlink:href=\"#md4694e9eb1\" y=\"205.034754\"/>\r\n     <use style=\"fill:#0000ff;stroke:#0000ff;\" x=\"202.865909\" xlink:href=\"#md4694e9eb1\" y=\"154.906929\"/>\r\n     <use style=\"fill:#0000ff;stroke:#0000ff;\" x=\"236.684091\" xlink:href=\"#md4694e9eb1\" y=\"182.15905\"/>\r\n     <use style=\"fill:#0000ff;stroke:#0000ff;\" x=\"270.502273\" xlink:href=\"#md4694e9eb1\" y=\"194.979252\"/>\r\n     <use style=\"fill:#0000ff;stroke:#0000ff;\" x=\"304.320455\" xlink:href=\"#md4694e9eb1\" y=\"214.756364\"/>\r\n     <use style=\"fill:#0000ff;stroke:#0000ff;\" x=\"338.138636\" xlink:href=\"#md4694e9eb1\" y=\"204.043649\"/>\r\n     <use style=\"fill:#0000ff;stroke:#0000ff;\" x=\"371.956818\" xlink:href=\"#md4694e9eb1\" y=\"206.764546\"/>\r\n    </g>\r\n   </g>\r\n   <g id=\"patch_3\">\r\n    <path d=\"M 52.375 224.64 \r\nL 52.375 7.2 \r\n\" style=\"fill:none;stroke:#000000;stroke-linecap:square;stroke-linejoin:miter;stroke-width:0.8;\"/>\r\n   </g>\r\n   <g id=\"patch_4\">\r\n    <path d=\"M 387.175 224.64 \r\nL 387.175 7.2 \r\n\" style=\"fill:none;stroke:#000000;stroke-linecap:square;stroke-linejoin:miter;stroke-width:0.8;\"/>\r\n   </g>\r\n   <g id=\"patch_5\">\r\n    <path d=\"M 52.375 224.64 \r\nL 387.175 224.64 \r\n\" style=\"fill:none;stroke:#000000;stroke-linecap:square;stroke-linejoin:miter;stroke-width:0.8;\"/>\r\n   </g>\r\n   <g id=\"patch_6\">\r\n    <path d=\"M 52.375 7.2 \r\nL 387.175 7.2 \r\n\" style=\"fill:none;stroke:#000000;stroke-linecap:square;stroke-linejoin:miter;stroke-width:0.8;\"/>\r\n   </g>\r\n  </g>\r\n </g>\r\n <defs>\r\n  <clipPath id=\"p4a207239bf\">\r\n   <rect height=\"217.44\" width=\"334.8\" x=\"52.375\" y=\"7.2\"/>\r\n  </clipPath>\r\n </defs>\r\n</svg>\r\n",
      "image/png": "[encoded data removed]"
     },
     "metadata": {
      "needs_background": "light"
     }
    }
   ],
   "source": [
    "plt.plot(np.arange(10), test_error_all, 'bo-')"
   ]
  },
  {
   "cell_type": "markdown",
   "metadata": {},
   "source": [
    "## Notes:       \n",
    "1. Changing the number of training data, affects the testing equvialently. As more nearest nieghbours to find from.             \n",
    "2. Difference between 1-D and N-D data is about summing the differences in features before taking square root for euclidean distance.       \n",
    "3. As you increase the K in KNN, errors reduce and it will be generalize more. But again it can underfit or it can be biased to larger class. Hence, look at elbow curve and choose the minimum value which had low error.          "
   ]
  }
 ],
 "metadata": {
  "language_info": {
   "codemirror_mode": {
    "name": "ipython",
    "version": 3
   },
   "file_extension": ".py",
   "mimetype": "text/x-python",
   "name": "python",
   "nbconvert_exporter": "python",
   "pygments_lexer": "ipython3",
   "version": 3
  },
  "orig_nbformat": 2,
  "kernelspec": {
   "name": "python_defaultSpec_1594743046331",
   "display_name": "Python 3.7.6 64-bit ('PanduranganR': virtualenv)"
  }
 },
 "nbformat": 4,
 "nbformat_minor": 2
}