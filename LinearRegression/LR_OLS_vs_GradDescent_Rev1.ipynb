{
 "cells": [
  {
   "cell_type": "code",
   "execution_count": 4,
   "metadata": {},
   "outputs": [],
   "source": [
    "import numpy as np\n",
    "import pandas as pd\n",
    "import matplotlib.pyplot as plt"
   ]
  },
  {
   "cell_type": "code",
   "execution_count": 5,
   "metadata": {},
   "outputs": [
    {
     "output_type": "execute_result",
     "data": {
      "text/plain": "<matplotlib.collections.PathCollection at 0x8a0dd08>"
     },
     "metadata": {},
     "execution_count": 5
    },
    {
     "output_type": "display_data",
     "data": {
      "text/plain": "<Figure size 432x288 with 1 Axes>",
      "image/svg+xml": "<?xml version=\"1.0\" encoding=\"utf-8\" standalone=\"no\"?>\r\n<!DOCTYPE svg PUBLIC \"-//W3C//DTD SVG 1.1//EN\"\r\n  \"http://www.w3.org/Graphics/SVG/1.1/DTD/svg11.dtd\">\r\n<!-- Created with matplotlib (https://matplotlib.org/) -->\r\n<svg height=\"248.518125pt\" version=\"1.1\" viewBox=\"0 0 370.136972 248.518125\" width=\"370.136972pt\" xmlns=\"http://www.w3.org/2000/svg\" xmlns:xlink=\"http://www.w3.org/1999/xlink\">\r\n <defs>\r\n  <style type=\"text/css\">\r\n*{stroke-linecap:butt;stroke-linejoin:round;}\r\n  </style>\r\n </defs>\r\n <g id=\"figure_1\">\r\n  <g id=\"patch_1\">\r\n   <path d=\"M -0 248.518125 \r\nL 370.136972 248.518125 \r\nL 370.136972 0 \r\nL -0 0 \r\nz\r\n\" style=\"fill:none;\"/>\r\n  </g>\r\n  <g id=\"axes_1\">\r\n   <g id=\"patch_2\">\r\n    <path d=\"M 26.925 224.64 \r\nL 361.725 224.64 \r\nL 361.725 7.2 \r\nL 26.925 7.2 \r\nz\r\n\" style=\"fill:#ffffff;\"/>\r\n   </g>\r\n   <g id=\"PathCollection_1\">\r\n    <defs>\r\n     <path d=\"M 0 3 \r\nC 0.795609 3 1.55874 2.683901 2.12132 2.12132 \r\nC 2.683901 1.55874 3 0.795609 3 0 \r\nC 3 -0.795609 2.683901 -1.55874 2.12132 -2.12132 \r\nC 1.55874 -2.683901 0.795609 -3 0 -3 \r\nC -0.795609 -3 -1.55874 -2.683901 -2.12132 -2.12132 \r\nC -2.683901 -1.55874 -3 -0.795609 -3 0 \r\nC -3 0.795609 -2.683901 1.55874 -2.12132 2.12132 \r\nC -1.55874 2.683901 -0.795609 3 0 3 \r\nz\r\n\" id=\"mc02da9b4eb\" style=\"stroke:#1f77b4;\"/>\r\n    </defs>\r\n    <g clip-path=\"url(#pc7732d3a41)\">\r\n     <use style=\"fill:#1f77b4;stroke:#1f77b4;\" x=\"257.406609\" xlink:href=\"#mc02da9b4eb\" y=\"83.795501\"/>\r\n     <use style=\"fill:#1f77b4;stroke:#1f77b4;\" x=\"277.223696\" xlink:href=\"#mc02da9b4eb\" y=\"105.299484\"/>\r\n     <use style=\"fill:#1f77b4;stroke:#1f77b4;\" x=\"86.580282\" xlink:href=\"#mc02da9b4eb\" y=\"205.26264\"/>\r\n     <use style=\"fill:#1f77b4;stroke:#1f77b4;\" x=\"97.809977\" xlink:href=\"#mc02da9b4eb\" y=\"150.813977\"/>\r\n     <use style=\"fill:#1f77b4;stroke:#1f77b4;\" x=\"329.602438\" xlink:href=\"#mc02da9b4eb\" y=\"86.331396\"/>\r\n     <use style=\"fill:#1f77b4;stroke:#1f77b4;\" x=\"53.812741\" xlink:href=\"#mc02da9b4eb\" y=\"137.652161\"/>\r\n     <use style=\"fill:#1f77b4;stroke:#1f77b4;\" x=\"131.434452\" xlink:href=\"#mc02da9b4eb\" y=\"91.29716\"/>\r\n     <use style=\"fill:#1f77b4;stroke:#1f77b4;\" x=\"151.381038\" xlink:href=\"#mc02da9b4eb\" y=\"161.031455\"/>\r\n     <use style=\"fill:#1f77b4;stroke:#1f77b4;\" x=\"74.916223\" xlink:href=\"#mc02da9b4eb\" y=\"192.730651\"/>\r\n     <use style=\"fill:#1f77b4;stroke:#1f77b4;\" x=\"300.618432\" xlink:href=\"#mc02da9b4eb\" y=\"90.107739\"/>\r\n     <use style=\"fill:#1f77b4;stroke:#1f77b4;\" x=\"183.501319\" xlink:href=\"#mc02da9b4eb\" y=\"112.757411\"/>\r\n     <use style=\"fill:#1f77b4;stroke:#1f77b4;\" x=\"95.374437\" xlink:href=\"#mc02da9b4eb\" y=\"189.104319\"/>\r\n     <use style=\"fill:#1f77b4;stroke:#1f77b4;\" x=\"147.679318\" xlink:href=\"#mc02da9b4eb\" y=\"140.5501\"/>\r\n     <use style=\"fill:#1f77b4;stroke:#1f77b4;\" x=\"233.09369\" xlink:href=\"#mc02da9b4eb\" y=\"111.59109\"/>\r\n     <use style=\"fill:#1f77b4;stroke:#1f77b4;\" x=\"83.906316\" xlink:href=\"#mc02da9b4eb\" y=\"145.543219\"/>\r\n     <use style=\"fill:#1f77b4;stroke:#1f77b4;\" x=\"150.767625\" xlink:href=\"#mc02da9b4eb\" y=\"103.849068\"/>\r\n     <use style=\"fill:#1f77b4;stroke:#1f77b4;\" x=\"345.07571\" xlink:href=\"#mc02da9b4eb\" y=\"68.746343\"/>\r\n     <use style=\"fill:#1f77b4;stroke:#1f77b4;\" x=\"194.082022\" xlink:href=\"#mc02da9b4eb\" y=\"108.502418\"/>\r\n     <use style=\"fill:#1f77b4;stroke:#1f77b4;\" x=\"339.580558\" xlink:href=\"#mc02da9b4eb\" y=\"33.159324\"/>\r\n     <use style=\"fill:#1f77b4;stroke:#1f77b4;\" x=\"66.394926\" xlink:href=\"#mc02da9b4eb\" y=\"173.522933\"/>\r\n     <use style=\"fill:#1f77b4;stroke:#1f77b4;\" x=\"156.387775\" xlink:href=\"#mc02da9b4eb\" y=\"119.698009\"/>\r\n     <use style=\"fill:#1f77b4;stroke:#1f77b4;\" x=\"240.792116\" xlink:href=\"#mc02da9b4eb\" y=\"68.353531\"/>\r\n     <use style=\"fill:#1f77b4;stroke:#1f77b4;\" x=\"276.619255\" xlink:href=\"#mc02da9b4eb\" y=\"58.003188\"/>\r\n     <use style=\"fill:#1f77b4;stroke:#1f77b4;\" x=\"54.334602\" xlink:href=\"#mc02da9b4eb\" y=\"151.882456\"/>\r\n     <use style=\"fill:#1f77b4;stroke:#1f77b4;\" x=\"272.180816\" xlink:href=\"#mc02da9b4eb\" y=\"89.49628\"/>\r\n     <use style=\"fill:#1f77b4;stroke:#1f77b4;\" x=\"296.361563\" xlink:href=\"#mc02da9b4eb\" y=\"59.01218\"/>\r\n     <use style=\"fill:#1f77b4;stroke:#1f77b4;\" x=\"58.752712\" xlink:href=\"#mc02da9b4eb\" y=\"179.01041\"/>\r\n     <use style=\"fill:#1f77b4;stroke:#1f77b4;\" x=\"311.970592\" xlink:href=\"#mc02da9b4eb\" y=\"41.578788\"/>\r\n     <use style=\"fill:#1f77b4;stroke:#1f77b4;\" x=\"172.19838\" xlink:href=\"#mc02da9b4eb\" y=\"130.409938\"/>\r\n     <use style=\"fill:#1f77b4;stroke:#1f77b4;\" x=\"277.049236\" xlink:href=\"#mc02da9b4eb\" y=\"105.77242\"/>\r\n     <use style=\"fill:#1f77b4;stroke:#1f77b4;\" x=\"72.007048\" xlink:href=\"#mc02da9b4eb\" y=\"166.666989\"/>\r\n     <use style=\"fill:#1f77b4;stroke:#1f77b4;\" x=\"262.069096\" xlink:href=\"#mc02da9b4eb\" y=\"97.714182\"/>\r\n     <use style=\"fill:#1f77b4;stroke:#1f77b4;\" x=\"160.047497\" xlink:href=\"#mc02da9b4eb\" y=\"156.550134\"/>\r\n     <use style=\"fill:#1f77b4;stroke:#1f77b4;\" x=\"271.000047\" xlink:href=\"#mc02da9b4eb\" y=\"92.667307\"/>\r\n     <use style=\"fill:#1f77b4;stroke:#1f77b4;\" x=\"46.177386\" xlink:href=\"#mc02da9b4eb\" y=\"179.289874\"/>\r\n     <use style=\"fill:#1f77b4;stroke:#1f77b4;\" x=\"239.932704\" xlink:href=\"#mc02da9b4eb\" y=\"86.374408\"/>\r\n     <use style=\"fill:#1f77b4;stroke:#1f77b4;\" x=\"284.501301\" xlink:href=\"#mc02da9b4eb\" y=\"129.251947\"/>\r\n     <use style=\"fill:#1f77b4;stroke:#1f77b4;\" x=\"273.115227\" xlink:href=\"#mc02da9b4eb\" y=\"64.86526\"/>\r\n     <use style=\"fill:#1f77b4;stroke:#1f77b4;\" x=\"208.576656\" xlink:href=\"#mc02da9b4eb\" y=\"124.986556\"/>\r\n     <use style=\"fill:#1f77b4;stroke:#1f77b4;\" x=\"250.466407\" xlink:href=\"#mc02da9b4eb\" y=\"78.425785\"/>\r\n     <use style=\"fill:#1f77b4;stroke:#1f77b4;\" x=\"167.868008\" xlink:href=\"#mc02da9b4eb\" y=\"141.751797\"/>\r\n     <use style=\"fill:#1f77b4;stroke:#1f77b4;\" x=\"326.955565\" xlink:href=\"#mc02da9b4eb\" y=\"52.134844\"/>\r\n     <use style=\"fill:#1f77b4;stroke:#1f77b4;\" x=\"162.733969\" xlink:href=\"#mc02da9b4eb\" y=\"153.062391\"/>\r\n     <use style=\"fill:#1f77b4;stroke:#1f77b4;\" x=\"189.928117\" xlink:href=\"#mc02da9b4eb\" y=\"142.128084\"/>\r\n     <use style=\"fill:#1f77b4;stroke:#1f77b4;\" x=\"184.4523\" xlink:href=\"#mc02da9b4eb\" y=\"120.87681\"/>\r\n     <use style=\"fill:#1f77b4;stroke:#1f77b4;\" x=\"146.718343\" xlink:href=\"#mc02da9b4eb\" y=\"153.390409\"/>\r\n     <use style=\"fill:#1f77b4;stroke:#1f77b4;\" x=\"141.105641\" xlink:href=\"#mc02da9b4eb\" y=\"144.079489\"/>\r\n     <use style=\"fill:#1f77b4;stroke:#1f77b4;\" x=\"126.017211\" xlink:href=\"#mc02da9b4eb\" y=\"131.789397\"/>\r\n     <use style=\"fill:#1f77b4;stroke:#1f77b4;\" x=\"263.729043\" xlink:href=\"#mc02da9b4eb\" y=\"85.469898\"/>\r\n     <use style=\"fill:#1f77b4;stroke:#1f77b4;\" x=\"43.57429\" xlink:href=\"#mc02da9b4eb\" y=\"195.618924\"/>\r\n     <use style=\"fill:#1f77b4;stroke:#1f77b4;\" x=\"251.868286\" xlink:href=\"#mc02da9b4eb\" y=\"57.840062\"/>\r\n     <use style=\"fill:#1f77b4;stroke:#1f77b4;\" x=\"159.000594\" xlink:href=\"#mc02da9b4eb\" y=\"152.886976\"/>\r\n     <use style=\"fill:#1f77b4;stroke:#1f77b4;\" x=\"168.045741\" xlink:href=\"#mc02da9b4eb\" y=\"147.059552\"/>\r\n     <use style=\"fill:#1f77b4;stroke:#1f77b4;\" x=\"279.200973\" xlink:href=\"#mc02da9b4eb\" y=\"115.46531\"/>\r\n     <use style=\"fill:#1f77b4;stroke:#1f77b4;\" x=\"60.49104\" xlink:href=\"#mc02da9b4eb\" y=\"182.962055\"/>\r\n     <use style=\"fill:#1f77b4;stroke:#1f77b4;\" x=\"235.035608\" xlink:href=\"#mc02da9b4eb\" y=\"61.117792\"/>\r\n     <use style=\"fill:#1f77b4;stroke:#1f77b4;\" x=\"59.755514\" xlink:href=\"#mc02da9b4eb\" y=\"176.265656\"/>\r\n     <use style=\"fill:#1f77b4;stroke:#1f77b4;\" x=\"283.704256\" xlink:href=\"#mc02da9b4eb\" y=\"106.304751\"/>\r\n     <use style=\"fill:#1f77b4;stroke:#1f77b4;\" x=\"112.032166\" xlink:href=\"#mc02da9b4eb\" y=\"113.723381\"/>\r\n     <use style=\"fill:#1f77b4;stroke:#1f77b4;\" x=\"191.945694\" xlink:href=\"#mc02da9b4eb\" y=\"107.119508\"/>\r\n     <use style=\"fill:#1f77b4;stroke:#1f77b4;\" x=\"261.486084\" xlink:href=\"#mc02da9b4eb\" y=\"88.982711\"/>\r\n     <use style=\"fill:#1f77b4;stroke:#1f77b4;\" x=\"102.506223\" xlink:href=\"#mc02da9b4eb\" y=\"194.208847\"/>\r\n     <use style=\"fill:#1f77b4;stroke:#1f77b4;\" x=\"91.663046\" xlink:href=\"#mc02da9b4eb\" y=\"123.674991\"/>\r\n     <use style=\"fill:#1f77b4;stroke:#1f77b4;\" x=\"263.452269\" xlink:href=\"#mc02da9b4eb\" y=\"62.588337\"/>\r\n     <use style=\"fill:#1f77b4;stroke:#1f77b4;\" x=\"185.139715\" xlink:href=\"#mc02da9b4eb\" y=\"106.37198\"/>\r\n     <use style=\"fill:#1f77b4;stroke:#1f77b4;\" x=\"245.86454\" xlink:href=\"#mc02da9b4eb\" y=\"105.762925\"/>\r\n     <use style=\"fill:#1f77b4;stroke:#1f77b4;\" x=\"98.990407\" xlink:href=\"#mc02da9b4eb\" y=\"126.60347\"/>\r\n     <use style=\"fill:#1f77b4;stroke:#1f77b4;\" x=\"56.10352\" xlink:href=\"#mc02da9b4eb\" y=\"214.424794\"/>\r\n     <use style=\"fill:#1f77b4;stroke:#1f77b4;\" x=\"139.849224\" xlink:href=\"#mc02da9b4eb\" y=\"88.206363\"/>\r\n     <use style=\"fill:#1f77b4;stroke:#1f77b4;\" x=\"298.09571\" xlink:href=\"#mc02da9b4eb\" y=\"77.875519\"/>\r\n     <use style=\"fill:#1f77b4;stroke:#1f77b4;\" x=\"152.756791\" xlink:href=\"#mc02da9b4eb\" y=\"109.9183\"/>\r\n     <use style=\"fill:#1f77b4;stroke:#1f77b4;\" x=\"295.0316\" xlink:href=\"#mc02da9b4eb\" y=\"99.388376\"/>\r\n     <use style=\"fill:#1f77b4;stroke:#1f77b4;\" x=\"331.309063\" xlink:href=\"#mc02da9b4eb\" y=\"83.996168\"/>\r\n     <use style=\"fill:#1f77b4;stroke:#1f77b4;\" x=\"109.950208\" xlink:href=\"#mc02da9b4eb\" y=\"151.287085\"/>\r\n     <use style=\"fill:#1f77b4;stroke:#1f77b4;\" x=\"265.740162\" xlink:href=\"#mc02da9b4eb\" y=\"66.245084\"/>\r\n     <use style=\"fill:#1f77b4;stroke:#1f77b4;\" x=\"283.739852\" xlink:href=\"#mc02da9b4eb\" y=\"70.852513\"/>\r\n     <use style=\"fill:#1f77b4;stroke:#1f77b4;\" x=\"59.736131\" xlink:href=\"#mc02da9b4eb\" y=\"206.401226\"/>\r\n     <use style=\"fill:#1f77b4;stroke:#1f77b4;\" x=\"330.406428\" xlink:href=\"#mc02da9b4eb\" y=\"69.427427\"/>\r\n     <use style=\"fill:#1f77b4;stroke:#1f77b4;\" x=\"223.675147\" xlink:href=\"#mc02da9b4eb\" y=\"88.738498\"/>\r\n     <use style=\"fill:#1f77b4;stroke:#1f77b4;\" x=\"236.600565\" xlink:href=\"#mc02da9b4eb\" y=\"97.334285\"/>\r\n     <use style=\"fill:#1f77b4;stroke:#1f77b4;\" x=\"290.655167\" xlink:href=\"#mc02da9b4eb\" y=\"111.467819\"/>\r\n     <use style=\"fill:#1f77b4;stroke:#1f77b4;\" x=\"148.227785\" xlink:href=\"#mc02da9b4eb\" y=\"181.693404\"/>\r\n     <use style=\"fill:#1f77b4;stroke:#1f77b4;\" x=\"313.129369\" xlink:href=\"#mc02da9b4eb\" y=\"50.506985\"/>\r\n     <use style=\"fill:#1f77b4;stroke:#1f77b4;\" x=\"166.336705\" xlink:href=\"#mc02da9b4eb\" y=\"86.62665\"/>\r\n     <use style=\"fill:#1f77b4;stroke:#1f77b4;\" x=\"222.230434\" xlink:href=\"#mc02da9b4eb\" y=\"98.117204\"/>\r\n     <use style=\"fill:#1f77b4;stroke:#1f77b4;\" x=\"159.427079\" xlink:href=\"#mc02da9b4eb\" y=\"166.451341\"/>\r\n     <use style=\"fill:#1f77b4;stroke:#1f77b4;\" x=\"129.717916\" xlink:href=\"#mc02da9b4eb\" y=\"172.019805\"/>\r\n     <use style=\"fill:#1f77b4;stroke:#1f77b4;\" x=\"201.027947\" xlink:href=\"#mc02da9b4eb\" y=\"113.113311\"/>\r\n     <use style=\"fill:#1f77b4;stroke:#1f77b4;\" x=\"51.921808\" xlink:href=\"#mc02da9b4eb\" y=\"161.476764\"/>\r\n     <use style=\"fill:#1f77b4;stroke:#1f77b4;\" x=\"292.910016\" xlink:href=\"#mc02da9b4eb\" y=\"59.288645\"/>\r\n     <use style=\"fill:#1f77b4;stroke:#1f77b4;\" x=\"338.519396\" xlink:href=\"#mc02da9b4eb\" y=\"17.415206\"/>\r\n     <use style=\"fill:#1f77b4;stroke:#1f77b4;\" x=\"324.214617\" xlink:href=\"#mc02da9b4eb\" y=\"41.748899\"/>\r\n     <use style=\"fill:#1f77b4;stroke:#1f77b4;\" x=\"208.259979\" xlink:href=\"#mc02da9b4eb\" y=\"119.138373\"/>\r\n     <use style=\"fill:#1f77b4;stroke:#1f77b4;\" x=\"294.596038\" xlink:href=\"#mc02da9b4eb\" y=\"71.323908\"/>\r\n     <use style=\"fill:#1f77b4;stroke:#1f77b4;\" x=\"179.79328\" xlink:href=\"#mc02da9b4eb\" y=\"144.301578\"/>\r\n     <use style=\"fill:#1f77b4;stroke:#1f77b4;\" x=\"103.839578\" xlink:href=\"#mc02da9b4eb\" y=\"170.418321\"/>\r\n     <use style=\"fill:#1f77b4;stroke:#1f77b4;\" x=\"186.552752\" xlink:href=\"#mc02da9b4eb\" y=\"112.535456\"/>\r\n     <use style=\"fill:#1f77b4;stroke:#1f77b4;\" x=\"171.995428\" xlink:href=\"#mc02da9b4eb\" y=\"101.043598\"/>\r\n     <use style=\"fill:#1f77b4;stroke:#1f77b4;\" x=\"176.579918\" xlink:href=\"#mc02da9b4eb\" y=\"168.63492\"/>\r\n     <use style=\"fill:#1f77b4;stroke:#1f77b4;\" x=\"119.799311\" xlink:href=\"#mc02da9b4eb\" y=\"152.769704\"/>\r\n    </g>\r\n   </g>\r\n   <g id=\"matplotlib.axis_1\">\r\n    <g id=\"xtick_1\">\r\n     <g id=\"line2d_1\">\r\n      <defs>\r\n       <path d=\"M 0 0 \r\nL 0 3.5 \r\n\" id=\"md9ffd76c2a\" style=\"stroke:#000000;stroke-width:0.8;\"/>\r\n      </defs>\r\n      <g>\r\n       <use style=\"stroke:#000000;stroke-width:0.8;\" x=\"32.380893\" xlink:href=\"#md9ffd76c2a\" y=\"224.64\"/>\r\n      </g>\r\n     </g>\r\n     <g id=\"text_1\">\r\n      <!-- 0.00 -->\r\n      <defs>\r\n       <path d=\"M 31.78125 66.40625 \r\nQ 24.171875 66.40625 20.328125 58.90625 \r\nQ 16.5 51.421875 16.5 36.375 \r\nQ 16.5 21.390625 20.328125 13.890625 \r\nQ 24.171875 6.390625 31.78125 6.390625 \r\nQ 39.453125 6.390625 43.28125 13.890625 \r\nQ 47.125 21.390625 47.125 36.375 \r\nQ 47.125 51.421875 43.28125 58.90625 \r\nQ 39.453125 66.40625 31.78125 66.40625 \r\nz\r\nM 31.78125 74.21875 \r\nQ 44.046875 74.21875 50.515625 64.515625 \r\nQ 56.984375 54.828125 56.984375 36.375 \r\nQ 56.984375 17.96875 50.515625 8.265625 \r\nQ 44.046875 -1.421875 31.78125 -1.421875 \r\nQ 19.53125 -1.421875 13.0625 8.265625 \r\nQ 6.59375 17.96875 6.59375 36.375 \r\nQ 6.59375 54.828125 13.0625 64.515625 \r\nQ 19.53125 74.21875 31.78125 74.21875 \r\nz\r\n\" id=\"DejaVuSans-48\"/>\r\n       <path d=\"M 10.6875 12.40625 \r\nL 21 12.40625 \r\nL 21 0 \r\nL 10.6875 0 \r\nz\r\n\" id=\"DejaVuSans-46\"/>\r\n      </defs>\r\n      <g transform=\"translate(21.248081 239.238437)scale(0.1 -0.1)\">\r\n       <use xlink:href=\"#DejaVuSans-48\"/>\r\n       <use x=\"63.623047\" xlink:href=\"#DejaVuSans-46\"/>\r\n       <use x=\"95.410156\" xlink:href=\"#DejaVuSans-48\"/>\r\n       <use x=\"159.033203\" xlink:href=\"#DejaVuSans-48\"/>\r\n      </g>\r\n     </g>\r\n    </g>\r\n    <g id=\"xtick_2\">\r\n     <g id=\"line2d_2\">\r\n      <g>\r\n       <use style=\"stroke:#000000;stroke-width:0.8;\" x=\"72.308801\" xlink:href=\"#md9ffd76c2a\" y=\"224.64\"/>\r\n      </g>\r\n     </g>\r\n     <g id=\"text_2\">\r\n      <!-- 0.25 -->\r\n      <defs>\r\n       <path d=\"M 19.1875 8.296875 \r\nL 53.609375 8.296875 \r\nL 53.609375 0 \r\nL 7.328125 0 \r\nL 7.328125 8.296875 \r\nQ 12.9375 14.109375 22.625 23.890625 \r\nQ 32.328125 33.6875 34.8125 36.53125 \r\nQ 39.546875 41.84375 41.421875 45.53125 \r\nQ 43.3125 49.21875 43.3125 52.78125 \r\nQ 43.3125 58.59375 39.234375 62.25 \r\nQ 35.15625 65.921875 28.609375 65.921875 \r\nQ 23.96875 65.921875 18.8125 64.3125 \r\nQ 13.671875 62.703125 7.8125 59.421875 \r\nL 7.8125 69.390625 \r\nQ 13.765625 71.78125 18.9375 73 \r\nQ 24.125 74.21875 28.421875 74.21875 \r\nQ 39.75 74.21875 46.484375 68.546875 \r\nQ 53.21875 62.890625 53.21875 53.421875 \r\nQ 53.21875 48.921875 51.53125 44.890625 \r\nQ 49.859375 40.875 45.40625 35.40625 \r\nQ 44.1875 33.984375 37.640625 27.21875 \r\nQ 31.109375 20.453125 19.1875 8.296875 \r\nz\r\n\" id=\"DejaVuSans-50\"/>\r\n       <path d=\"M 10.796875 72.90625 \r\nL 49.515625 72.90625 \r\nL 49.515625 64.59375 \r\nL 19.828125 64.59375 \r\nL 19.828125 46.734375 \r\nQ 21.96875 47.46875 24.109375 47.828125 \r\nQ 26.265625 48.1875 28.421875 48.1875 \r\nQ 40.625 48.1875 47.75 41.5 \r\nQ 54.890625 34.8125 54.890625 23.390625 \r\nQ 54.890625 11.625 47.5625 5.09375 \r\nQ 40.234375 -1.421875 26.90625 -1.421875 \r\nQ 22.3125 -1.421875 17.546875 -0.640625 \r\nQ 12.796875 0.140625 7.71875 1.703125 \r\nL 7.71875 11.625 \r\nQ 12.109375 9.234375 16.796875 8.0625 \r\nQ 21.484375 6.890625 26.703125 6.890625 \r\nQ 35.15625 6.890625 40.078125 11.328125 \r\nQ 45.015625 15.765625 45.015625 23.390625 \r\nQ 45.015625 31 40.078125 35.4375 \r\nQ 35.15625 39.890625 26.703125 39.890625 \r\nQ 22.75 39.890625 18.8125 39.015625 \r\nQ 14.890625 38.140625 10.796875 36.28125 \r\nz\r\n\" id=\"DejaVuSans-53\"/>\r\n      </defs>\r\n      <g transform=\"translate(61.175989 239.238437)scale(0.1 -0.1)\">\r\n       <use xlink:href=\"#DejaVuSans-48\"/>\r\n       <use x=\"63.623047\" xlink:href=\"#DejaVuSans-46\"/>\r\n       <use x=\"95.410156\" xlink:href=\"#DejaVuSans-50\"/>\r\n       <use x=\"159.033203\" xlink:href=\"#DejaVuSans-53\"/>\r\n      </g>\r\n     </g>\r\n    </g>\r\n    <g id=\"xtick_3\">\r\n     <g id=\"line2d_3\">\r\n      <g>\r\n       <use style=\"stroke:#000000;stroke-width:0.8;\" x=\"112.23671\" xlink:href=\"#md9ffd76c2a\" y=\"224.64\"/>\r\n      </g>\r\n     </g>\r\n     <g id=\"text_3\">\r\n      <!-- 0.50 -->\r\n      <g transform=\"translate(101.103897 239.238437)scale(0.1 -0.1)\">\r\n       <use xlink:href=\"#DejaVuSans-48\"/>\r\n       <use x=\"63.623047\" xlink:href=\"#DejaVuSans-46\"/>\r\n       <use x=\"95.410156\" xlink:href=\"#DejaVuSans-53\"/>\r\n       <use x=\"159.033203\" xlink:href=\"#DejaVuSans-48\"/>\r\n      </g>\r\n     </g>\r\n    </g>\r\n    <g id=\"xtick_4\">\r\n     <g id=\"line2d_4\">\r\n      <g>\r\n       <use style=\"stroke:#000000;stroke-width:0.8;\" x=\"152.164618\" xlink:href=\"#md9ffd76c2a\" y=\"224.64\"/>\r\n      </g>\r\n     </g>\r\n     <g id=\"text_4\">\r\n      <!-- 0.75 -->\r\n      <defs>\r\n       <path d=\"M 8.203125 72.90625 \r\nL 55.078125 72.90625 \r\nL 55.078125 68.703125 \r\nL 28.609375 0 \r\nL 18.3125 0 \r\nL 43.21875 64.59375 \r\nL 8.203125 64.59375 \r\nz\r\n\" id=\"DejaVuSans-55\"/>\r\n      </defs>\r\n      <g transform=\"translate(141.031805 239.238437)scale(0.1 -0.1)\">\r\n       <use xlink:href=\"#DejaVuSans-48\"/>\r\n       <use x=\"63.623047\" xlink:href=\"#DejaVuSans-46\"/>\r\n       <use x=\"95.410156\" xlink:href=\"#DejaVuSans-55\"/>\r\n       <use x=\"159.033203\" xlink:href=\"#DejaVuSans-53\"/>\r\n      </g>\r\n     </g>\r\n    </g>\r\n    <g id=\"xtick_5\">\r\n     <g id=\"line2d_5\">\r\n      <g>\r\n       <use style=\"stroke:#000000;stroke-width:0.8;\" x=\"192.092526\" xlink:href=\"#md9ffd76c2a\" y=\"224.64\"/>\r\n      </g>\r\n     </g>\r\n     <g id=\"text_5\">\r\n      <!-- 1.00 -->\r\n      <defs>\r\n       <path d=\"M 12.40625 8.296875 \r\nL 28.515625 8.296875 \r\nL 28.515625 63.921875 \r\nL 10.984375 60.40625 \r\nL 10.984375 69.390625 \r\nL 28.421875 72.90625 \r\nL 38.28125 72.90625 \r\nL 38.28125 8.296875 \r\nL 54.390625 8.296875 \r\nL 54.390625 0 \r\nL 12.40625 0 \r\nz\r\n\" id=\"DejaVuSans-49\"/>\r\n      </defs>\r\n      <g transform=\"translate(180.959714 239.238437)scale(0.1 -0.1)\">\r\n       <use xlink:href=\"#DejaVuSans-49\"/>\r\n       <use x=\"63.623047\" xlink:href=\"#DejaVuSans-46\"/>\r\n       <use x=\"95.410156\" xlink:href=\"#DejaVuSans-48\"/>\r\n       <use x=\"159.033203\" xlink:href=\"#DejaVuSans-48\"/>\r\n      </g>\r\n     </g>\r\n    </g>\r\n    <g id=\"xtick_6\">\r\n     <g id=\"line2d_6\">\r\n      <g>\r\n       <use style=\"stroke:#000000;stroke-width:0.8;\" x=\"232.020434\" xlink:href=\"#md9ffd76c2a\" y=\"224.64\"/>\r\n      </g>\r\n     </g>\r\n     <g id=\"text_6\">\r\n      <!-- 1.25 -->\r\n      <g transform=\"translate(220.887622 239.238437)scale(0.1 -0.1)\">\r\n       <use xlink:href=\"#DejaVuSans-49\"/>\r\n       <use x=\"63.623047\" xlink:href=\"#DejaVuSans-46\"/>\r\n       <use x=\"95.410156\" xlink:href=\"#DejaVuSans-50\"/>\r\n       <use x=\"159.033203\" xlink:href=\"#DejaVuSans-53\"/>\r\n      </g>\r\n     </g>\r\n    </g>\r\n    <g id=\"xtick_7\">\r\n     <g id=\"line2d_7\">\r\n      <g>\r\n       <use style=\"stroke:#000000;stroke-width:0.8;\" x=\"271.948343\" xlink:href=\"#md9ffd76c2a\" y=\"224.64\"/>\r\n      </g>\r\n     </g>\r\n     <g id=\"text_7\">\r\n      <!-- 1.50 -->\r\n      <g transform=\"translate(260.81553 239.238437)scale(0.1 -0.1)\">\r\n       <use xlink:href=\"#DejaVuSans-49\"/>\r\n       <use x=\"63.623047\" xlink:href=\"#DejaVuSans-46\"/>\r\n       <use x=\"95.410156\" xlink:href=\"#DejaVuSans-53\"/>\r\n       <use x=\"159.033203\" xlink:href=\"#DejaVuSans-48\"/>\r\n      </g>\r\n     </g>\r\n    </g>\r\n    <g id=\"xtick_8\">\r\n     <g id=\"line2d_8\">\r\n      <g>\r\n       <use style=\"stroke:#000000;stroke-width:0.8;\" x=\"311.876251\" xlink:href=\"#md9ffd76c2a\" y=\"224.64\"/>\r\n      </g>\r\n     </g>\r\n     <g id=\"text_8\">\r\n      <!-- 1.75 -->\r\n      <g transform=\"translate(300.743439 239.238437)scale(0.1 -0.1)\">\r\n       <use xlink:href=\"#DejaVuSans-49\"/>\r\n       <use x=\"63.623047\" xlink:href=\"#DejaVuSans-46\"/>\r\n       <use x=\"95.410156\" xlink:href=\"#DejaVuSans-55\"/>\r\n       <use x=\"159.033203\" xlink:href=\"#DejaVuSans-53\"/>\r\n      </g>\r\n     </g>\r\n    </g>\r\n    <g id=\"xtick_9\">\r\n     <g id=\"line2d_9\">\r\n      <g>\r\n       <use style=\"stroke:#000000;stroke-width:0.8;\" x=\"351.804159\" xlink:href=\"#md9ffd76c2a\" y=\"224.64\"/>\r\n      </g>\r\n     </g>\r\n     <g id=\"text_9\">\r\n      <!-- 2.00 -->\r\n      <g transform=\"translate(340.671347 239.238437)scale(0.1 -0.1)\">\r\n       <use xlink:href=\"#DejaVuSans-50\"/>\r\n       <use x=\"63.623047\" xlink:href=\"#DejaVuSans-46\"/>\r\n       <use x=\"95.410156\" xlink:href=\"#DejaVuSans-48\"/>\r\n       <use x=\"159.033203\" xlink:href=\"#DejaVuSans-48\"/>\r\n      </g>\r\n     </g>\r\n    </g>\r\n   </g>\r\n   <g id=\"matplotlib.axis_2\">\r\n    <g id=\"ytick_1\">\r\n     <g id=\"line2d_10\">\r\n      <defs>\r\n       <path d=\"M 0 0 \r\nL -3.5 0 \r\n\" id=\"mb231bbd652\" style=\"stroke:#000000;stroke-width:0.8;\"/>\r\n      </defs>\r\n      <g>\r\n       <use style=\"stroke:#000000;stroke-width:0.8;\" x=\"26.925\" xlink:href=\"#mb231bbd652\" y=\"190.945437\"/>\r\n      </g>\r\n     </g>\r\n     <g id=\"text_10\">\r\n      <!-- 4 -->\r\n      <defs>\r\n       <path d=\"M 37.796875 64.3125 \r\nL 12.890625 25.390625 \r\nL 37.796875 25.390625 \r\nz\r\nM 35.203125 72.90625 \r\nL 47.609375 72.90625 \r\nL 47.609375 25.390625 \r\nL 58.015625 25.390625 \r\nL 58.015625 17.1875 \r\nL 47.609375 17.1875 \r\nL 47.609375 0 \r\nL 37.796875 0 \r\nL 37.796875 17.1875 \r\nL 4.890625 17.1875 \r\nL 4.890625 26.703125 \r\nz\r\n\" id=\"DejaVuSans-52\"/>\r\n      </defs>\r\n      <g transform=\"translate(13.5625 194.744656)scale(0.1 -0.1)\">\r\n       <use xlink:href=\"#DejaVuSans-52\"/>\r\n      </g>\r\n     </g>\r\n    </g>\r\n    <g id=\"ytick_2\">\r\n     <g id=\"line2d_11\">\r\n      <g>\r\n       <use style=\"stroke:#000000;stroke-width:0.8;\" x=\"26.925\" xlink:href=\"#mb231bbd652\" y=\"142.881111\"/>\r\n      </g>\r\n     </g>\r\n     <g id=\"text_11\">\r\n      <!-- 6 -->\r\n      <defs>\r\n       <path d=\"M 33.015625 40.375 \r\nQ 26.375 40.375 22.484375 35.828125 \r\nQ 18.609375 31.296875 18.609375 23.390625 \r\nQ 18.609375 15.53125 22.484375 10.953125 \r\nQ 26.375 6.390625 33.015625 6.390625 \r\nQ 39.65625 6.390625 43.53125 10.953125 \r\nQ 47.40625 15.53125 47.40625 23.390625 \r\nQ 47.40625 31.296875 43.53125 35.828125 \r\nQ 39.65625 40.375 33.015625 40.375 \r\nz\r\nM 52.59375 71.296875 \r\nL 52.59375 62.3125 \r\nQ 48.875 64.0625 45.09375 64.984375 \r\nQ 41.3125 65.921875 37.59375 65.921875 \r\nQ 27.828125 65.921875 22.671875 59.328125 \r\nQ 17.53125 52.734375 16.796875 39.40625 \r\nQ 19.671875 43.65625 24.015625 45.921875 \r\nQ 28.375 48.1875 33.59375 48.1875 \r\nQ 44.578125 48.1875 50.953125 41.515625 \r\nQ 57.328125 34.859375 57.328125 23.390625 \r\nQ 57.328125 12.15625 50.6875 5.359375 \r\nQ 44.046875 -1.421875 33.015625 -1.421875 \r\nQ 20.359375 -1.421875 13.671875 8.265625 \r\nQ 6.984375 17.96875 6.984375 36.375 \r\nQ 6.984375 53.65625 15.1875 63.9375 \r\nQ 23.390625 74.21875 37.203125 74.21875 \r\nQ 40.921875 74.21875 44.703125 73.484375 \r\nQ 48.484375 72.75 52.59375 71.296875 \r\nz\r\n\" id=\"DejaVuSans-54\"/>\r\n      </defs>\r\n      <g transform=\"translate(13.5625 146.68033)scale(0.1 -0.1)\">\r\n       <use xlink:href=\"#DejaVuSans-54\"/>\r\n      </g>\r\n     </g>\r\n    </g>\r\n    <g id=\"ytick_3\">\r\n     <g id=\"line2d_12\">\r\n      <g>\r\n       <use style=\"stroke:#000000;stroke-width:0.8;\" x=\"26.925\" xlink:href=\"#mb231bbd652\" y=\"94.816786\"/>\r\n      </g>\r\n     </g>\r\n     <g id=\"text_12\">\r\n      <!-- 8 -->\r\n      <defs>\r\n       <path d=\"M 31.78125 34.625 \r\nQ 24.75 34.625 20.71875 30.859375 \r\nQ 16.703125 27.09375 16.703125 20.515625 \r\nQ 16.703125 13.921875 20.71875 10.15625 \r\nQ 24.75 6.390625 31.78125 6.390625 \r\nQ 38.8125 6.390625 42.859375 10.171875 \r\nQ 46.921875 13.96875 46.921875 20.515625 \r\nQ 46.921875 27.09375 42.890625 30.859375 \r\nQ 38.875 34.625 31.78125 34.625 \r\nz\r\nM 21.921875 38.8125 \r\nQ 15.578125 40.375 12.03125 44.71875 \r\nQ 8.5 49.078125 8.5 55.328125 \r\nQ 8.5 64.0625 14.71875 69.140625 \r\nQ 20.953125 74.21875 31.78125 74.21875 \r\nQ 42.671875 74.21875 48.875 69.140625 \r\nQ 55.078125 64.0625 55.078125 55.328125 \r\nQ 55.078125 49.078125 51.53125 44.71875 \r\nQ 48 40.375 41.703125 38.8125 \r\nQ 48.828125 37.15625 52.796875 32.3125 \r\nQ 56.78125 27.484375 56.78125 20.515625 \r\nQ 56.78125 9.90625 50.3125 4.234375 \r\nQ 43.84375 -1.421875 31.78125 -1.421875 \r\nQ 19.734375 -1.421875 13.25 4.234375 \r\nQ 6.78125 9.90625 6.78125 20.515625 \r\nQ 6.78125 27.484375 10.78125 32.3125 \r\nQ 14.796875 37.15625 21.921875 38.8125 \r\nz\r\nM 18.3125 54.390625 \r\nQ 18.3125 48.734375 21.84375 45.5625 \r\nQ 25.390625 42.390625 31.78125 42.390625 \r\nQ 38.140625 42.390625 41.71875 45.5625 \r\nQ 45.3125 48.734375 45.3125 54.390625 \r\nQ 45.3125 60.0625 41.71875 63.234375 \r\nQ 38.140625 66.40625 31.78125 66.40625 \r\nQ 25.390625 66.40625 21.84375 63.234375 \r\nQ 18.3125 60.0625 18.3125 54.390625 \r\nz\r\n\" id=\"DejaVuSans-56\"/>\r\n      </defs>\r\n      <g transform=\"translate(13.5625 98.616005)scale(0.1 -0.1)\">\r\n       <use xlink:href=\"#DejaVuSans-56\"/>\r\n      </g>\r\n     </g>\r\n    </g>\r\n    <g id=\"ytick_4\">\r\n     <g id=\"line2d_13\">\r\n      <g>\r\n       <use style=\"stroke:#000000;stroke-width:0.8;\" x=\"26.925\" xlink:href=\"#mb231bbd652\" y=\"46.75246\"/>\r\n      </g>\r\n     </g>\r\n     <g id=\"text_13\">\r\n      <!-- 10 -->\r\n      <g transform=\"translate(7.2 50.551679)scale(0.1 -0.1)\">\r\n       <use xlink:href=\"#DejaVuSans-49\"/>\r\n       <use x=\"63.623047\" xlink:href=\"#DejaVuSans-48\"/>\r\n      </g>\r\n     </g>\r\n    </g>\r\n   </g>\r\n   <g id=\"patch_3\">\r\n    <path d=\"M 26.925 224.64 \r\nL 26.925 7.2 \r\n\" style=\"fill:none;stroke:#000000;stroke-linecap:square;stroke-linejoin:miter;stroke-width:0.8;\"/>\r\n   </g>\r\n   <g id=\"patch_4\">\r\n    <path d=\"M 361.725 224.64 \r\nL 361.725 7.2 \r\n\" style=\"fill:none;stroke:#000000;stroke-linecap:square;stroke-linejoin:miter;stroke-width:0.8;\"/>\r\n   </g>\r\n   <g id=\"patch_5\">\r\n    <path d=\"M 26.925 224.64 \r\nL 361.725 224.64 \r\n\" style=\"fill:none;stroke:#000000;stroke-linecap:square;stroke-linejoin:miter;stroke-width:0.8;\"/>\r\n   </g>\r\n   <g id=\"patch_6\">\r\n    <path d=\"M 26.925 7.2 \r\nL 361.725 7.2 \r\n\" style=\"fill:none;stroke:#000000;stroke-linecap:square;stroke-linejoin:miter;stroke-width:0.8;\"/>\r\n   </g>\r\n  </g>\r\n </g>\r\n <defs>\r\n  <clipPath id=\"pc7732d3a41\">\r\n   <rect height=\"217.44\" width=\"334.8\" x=\"26.925\" y=\"7.2\"/>\r\n  </clipPath>\r\n </defs>\r\n</svg>\r\n",
      "image/png": "[encoded data removed]"
     },
     "metadata": {
      "needs_background": "light"
     }
    }
   ],
   "source": [
    "X = 2 * np.random.rand(100, 1)\n",
    "y = 4 + 3 * X + np.random.randn(100, 1)\n",
    "plt.scatter(X, y)"
   ]
  },
  {
   "cell_type": "markdown",
   "metadata": {},
   "source": [
    "## OLS Estimate\n",
    "Note : X is with bias term\n",
    "$$ \\hat \\theta = (X^T X)^{-1} X^T y $$"
   ]
  },
  {
   "cell_type": "code",
   "execution_count": 6,
   "metadata": {
    "tags": []
   },
   "outputs": [
    {
     "output_type": "stream",
     "name": "stdout",
     "text": "[4.14853558] [2.86629477]\n"
    }
   ],
   "source": [
    "# Preparing for getting OLS Estimate\n",
    "X_bias = np.c_[np.ones(shape = (X.shape[0],1)), X]  # Adding Bias to X\n",
    "theta = np.linalg.inv(X_bias.T@X_bias)@X_bias.T@y\n",
    "print(*theta)"
   ]
  },
  {
   "cell_type": "markdown",
   "metadata": {},
   "source": [
    "Ideally we would except 4, 3 as theta, but noise made it difficult to get the exact values."
   ]
  },
  {
   "cell_type": "markdown",
   "metadata": {},
   "source": [
    "# Sklearn Approach"
   ]
  },
  {
   "cell_type": "code",
   "execution_count": 7,
   "metadata": {
    "tags": []
   },
   "outputs": [
    {
     "output_type": "stream",
     "name": "stdout",
     "text": "4.148535584707055 [0.         2.86629477]\n"
    }
   ],
   "source": [
    "from sklearn.linear_model import LinearRegression\n",
    "model = LinearRegression()\n",
    "model.fit(X_bias, y)\n",
    "print(*model.intercept_, *model.coef_)"
   ]
  },
  {
   "cell_type": "code",
   "execution_count": 8,
   "metadata": {},
   "outputs": [
    {
     "output_type": "execute_result",
     "data": {
      "text/plain": "array([[4.14853558],\n       [2.86629477]])"
     },
     "metadata": {},
     "execution_count": 8
    }
   ],
   "source": [
    "# Calculating through Moore-Penrose Inverse (pseudoinverse). Adv of this approach over above equation,1. Efficient, 2. handles singular Xs (which cant be invertible; when rows < features) \n",
    "# Computes through SVD\n",
    "np.linalg.pinv(X_bias).dot(y)"
   ]
  },
  {
   "cell_type": "markdown",
   "metadata": {},
   "source": [
    "### Pitfalls with closed form equation approach\n",
    "Computational Complexity:\n",
    "$(X^T X)^{-1}$ has Computational Complexity of $O(m^{2.4})$ to $O(m^3)$. It increases with increase in number of features.\n",
    "For ex: if you double the number of features, the time increases by $2^{2.4}$ to  $2^{3}$\n",
    "\n",
    "SVD has Complexity of $O(m^2)$\n",
    "\n",
    "Enter Gradient Descent : Suited to large number of features or many instances of data"
   ]
  },
  {
   "cell_type": "markdown",
   "metadata": {},
   "source": [
    "# Gradient Descent"
   ]
  },
  {
   "cell_type": "markdown",
   "metadata": {},
   "source": [
    "1. Involves using whole bunch of training date to perform one update of parameters.     \n",
    "2. AKA Full batch GD or Batch GD.       \n",
    "3. As there are no Inverse calculations, much faster than SVD decomposition or Normal equation calculation (closed form) esp in large feature problems).        \n",
    "4. GD suffers from local minima. It happens if cost function is irregular or non-convex. LR cost function is convex (impyling no local minima). But in-case of other generic problems it can be problematic.        \n",
    "5. The contour can be big dimensional (if more features) and it searches for bottom of plateau where for the combination of all features, the cost is lowest.                 \n",
    "5. Always perform feature scaling, ensuring faster convergence. (remember the cost function contour against two features in diff scales)"
   ]
  },
  {
   "cell_type": "markdown",
   "metadata": {},
   "source": [
    "$$ \\theta = \\theta + \\alpha*grad $$\n",
    "where $$ grad = \\frac {\\partial loss}{\\partial \\theta} = \\frac{2}{n} * (y - \\theta^T * X)*X $$ \n",
    "remember X is with bias term."
   ]
  },
  {
   "cell_type": "code",
   "execution_count": 10,
   "metadata": {},
   "outputs": [
    {
     "output_type": "execute_result",
     "data": {
      "text/plain": "array([[4.14853432],\n       [2.86629585]])"
     },
     "metadata": {},
     "execution_count": 10
    }
   ],
   "source": [
    "alpha = 0.05\n",
    "iterations = 1000\n",
    "n = 100\n",
    "\n",
    "theta = np.zeros(shape = (X_bias.shape[1], 1))\n",
    "for iteration in range(iterations):\n",
    "    grad = 2/n*X_bias.T@(y - X_bias@theta)\n",
    "    theta = theta + alpha*grad\n",
    "theta"
   ]
  },
  {
   "cell_type": "markdown",
   "metadata": {},
   "source": [
    "# Stochastic Gradient Descent"
   ]
  },
  {
   "cell_type": "markdown",
   "metadata": {},
   "source": [
    "1. In Stochastic Gradient Descent, we update the values for each row, and we can choose do this for entire data over multiple iterations. One full set of data into theta update in multiple iterations.       \n",
    "2. We can choose to send random data into updation provided if sequence of data is not important.           \n",
    "2. Beware of the n value in gradient update, it is 1 as we send only one data.          \n",
    "3. SGD is better at finding global maxima, because the updates of theta will be irregular or stochastic in nature. So it has good chance of jumping out of local minima compared to batch-GD. In batch GD, the updates of theta are much smoother towards the optima.         \n",
    "4. For the same reason, at the end of iterations, the parameters may not be optimal but close to optimal.                   \n",
    "4. This can be partially solved through learning rate scheduler (reducing learning rate over iterations or closer to optima).           \n",
    "\n"
   ]
  },
  {
   "cell_type": "code",
   "execution_count": 15,
   "metadata": {},
   "outputs": [
    {
     "output_type": "execute_result",
     "data": {
      "text/plain": "array([[4.05390885],\n       [2.81173537]])"
     },
     "metadata": {},
     "execution_count": 15
    }
   ],
   "source": [
    "n_epochs = 500\n",
    "# t0, t1 = 5, 50 # learning schedule hyperparameters\n",
    "# def learning_schedule(t):\n",
    "#     return t0/(t + t1)\n",
    "alpha = 0.05\n",
    "iterations = len(y)\n",
    "n = 1 #(Note n = 1, because we are sending one row at a time & updating features)\n",
    "theta = np.zeros(shape = (X_bias.shape[1], 1))\n",
    "\n",
    "for epoch in range(500):\n",
    "    for iteration in range(iterations):\n",
    "        grad = (2/n*X_bias[iteration]*(y[iteration] - X_bias[iteration]@theta).reshape(-1,1)).reshape(-1,1)\n",
    "        # alpha = learning_schedule(epoch*n + iteration)\n",
    "        theta = theta + alpha*grad\n",
    "theta"
   ]
  },
  {
   "cell_type": "markdown",
   "metadata": {},
   "source": [
    "# Mini-Batch Gradient Descent"
   ]
  },
  {
   "cell_type": "markdown",
   "metadata": {},
   "source": [
    " 1. Instead of computing the gradients based on the full training set (as in Batch GD) or based on just one instance (as in Stochastic GD), Mini-batch GD computes the gradients on small random sets of instances called mini-batches.     2. Main Adv : optimized performance considering hardware capability.        \n",
    " 3. Less erratic than SGD but not smoother than BGD.        \n",
    " 4.  BGD takes a lot of time to take each step, and Stochastic GD and Mini-batch GD would also reach the minimum if you used a good learning schedule.          "
   ]
  }
 ],
 "metadata": {
  "language_info": {
   "codemirror_mode": {
    "name": "ipython",
    "version": 3
   },
   "file_extension": ".py",
   "mimetype": "text/x-python",
   "name": "python",
   "nbconvert_exporter": "python",
   "pygments_lexer": "ipython3",
   "version": "3.7.6-final"
  },
  "orig_nbformat": 2,
  "kernelspec": {
   "name": "python3",
   "display_name": "Python 3"
  }
 },
 "nbformat": 4,
 "nbformat_minor": 2
}