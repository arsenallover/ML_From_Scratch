{
 "metadata": {
  "language_info": {
   "codemirror_mode": {
    "name": "ipython",
    "version": 3
   },
   "file_extension": ".py",
   "mimetype": "text/x-python",
   "name": "python",
   "nbconvert_exporter": "python",
   "pygments_lexer": "ipython3",
   "version": 3
  },
  "orig_nbformat": 2
 },
 "nbformat": 4,
 "nbformat_minor": 2,
 "cells": [
  {
   "cell_type": "markdown",
   "metadata": {},
   "source": [
    "# Kmeans\n",
    "\n",
    "Kmeans is a unsupervised algorithm. \n",
    "\n",
    "## Algorithm\n",
    "1. Initialize k cluster centers     \n",
    "2. Assign observations to closer cluster centers        \n",
    "$$ Inferred Label = arg min||\\mu_j - x_i||_2^2 $$\n",
    "For each observation, calculate the distance from j means. Choose the label as the least distance index or the cluster mean which had lowest distance.          \n",
    "3. Revise the cluster centers as mean of assigned observations until convergence. Convergence we will come to it at later stage\n",
    "$$ \\mu_j = \\frac{1}{n}\\sum x_i $$\n"
   ]
  },
  {
   "cell_type": "markdown",
   "metadata": {},
   "source": [
    "The boundary achieved through such approach is called \"Voronoi Tesselation\". The boundary is created such that any new point in that boundary will always be closer to the cluster mean in that boundary.\n",
    "\n",
    "![title](Images\\Kmeans_1.PNG)"
   ]
  },
  {
   "cell_type": "markdown",
   "metadata": {},
   "source": [
    "## Kmeans as co-ordinate descent \n",
    "\n",
    "Rewriting the kmeans algo:\n",
    "\n",
    "1. Assign observation to closet cluster center\n",
    "$$ z_i = arg min ||\\mu_j - x_i||_2^2 $$     \n",
    "2. Revise the cluster centers as mean of observations\n",
    "$$ \\mu_j = argmin \\sum ||\\mu - x_i||_2^2 $$\n",
    "The above equation is more like we are finding that mean which has lowest error, inturn minimizing.\n",
    "\n",
    "In summary, minimize in two steps:  \n",
    "1. z given $\\mu$        \n",
    "2. $\\mu$ given z\n",
    "Thats exacly co-ordinate descent. Keep x fixed and update y, then in next step keep y fixed and update x."
   ]
  },
  {
   "cell_type": "markdown",
   "metadata": {},
   "source": [
    "### Convergence Criteria\n",
    "Local minima. Global minima not possible bcos of complicated structure and non-convex.\n",
    "\n",
    "### Initialization Effect\n",
    "Kmeans is very sensitive to Initialization of cluster means. With different values, we can get diff results and cluster. Points can keep changing clusters! Changing clusters is not about any two given points being together in same group but different cluster colors with diff runs. It is about two given points being in diff groups altogether in diff runs!\n",
    "\n"
   ]
  },
  {
   "cell_type": "markdown",
   "metadata": {},
   "source": [
    "# Kmeans ++\n",
    "\n",
    "Initialization of kmeans is critical to quality of local optima!\n",
    "\n",
    "Smart Initialization:   \n",
    "1. Choose first cluster center at random from data point   \n",
    "     2. For each data, calculate the distance to that cluster.       \n",
    "3. Generate new cluster with prob of data being chosen proportional to distance squared, ie, pick the new cluster which had highest distance squared. In turn the next cluster is more likely to be far away\n",
    "\n",
    "Can be computationally costly, but improve quality in finding local optima in running the Kmeans"
   ]
  },
  {
   "cell_type": "markdown",
   "metadata": {},
   "source": [
    "## Quality Metrics\n",
    "\n",
    "### Cluster Heterogeneity\n",
    "We want less Heterogeneity, or less dissimilar data points within the Cluster. Lesser sum of distances within all clusters\n",
    "Measure of quality:\n",
    "$$ \\sum {^k} \\sum {^j}||\\mu_j - x_i||_2^2 $$\n",
    "\n",
    "![title](Images\\KMeans_Heterogenity.PNG)\n",
    "\n",
    "If k = N, each data is the cluster itself with Heterogeneity = 0!! As k increases, Heterogeneity decreases. Choose best k using elbow of the curve.\n",
    "\n",
    "![title](Images\\KMeans_Elbow.PNG)"
   ]
  }
 ]
}