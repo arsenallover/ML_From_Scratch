{
 "cells": [
  {
   "cell_type": "code",
   "execution_count": 1,
   "metadata": {},
   "outputs": [],
   "source": [
    "import pandas as pd\n",
    "import numpy as np"
   ]
  },
  {
   "cell_type": "code",
   "execution_count": 14,
   "metadata": {},
   "outputs": [],
   "source": [
    "df = pd.read_csv(r\"Data/amazon_baby.csv\", index_col = 0)\n",
    "df = df.head(100)"
   ]
  },
  {
   "cell_type": "code",
   "execution_count": 15,
   "metadata": {},
   "outputs": [],
   "source": [
    "import json\n",
    "with open(r'Data\\important_words.json', 'r') as f: # Reads the list of most frequent words\n",
    "    important_words = json.load(f)\n",
    "important_words = [str(s) for s in important_words]"
   ]
  },
  {
   "cell_type": "code",
   "execution_count": 16,
   "metadata": {},
   "outputs": [
    {
     "output_type": "execute_result",
     "data": {
      "text/plain": "                                                name  \\\n1                              Planetwise Wipe Pouch   \n2                Annas Dream Full Quilt with 2 Shams   \n3  Stop Pacifier Sucking without tears with Thumb...   \n4  Stop Pacifier Sucking without tears with Thumb...   \n5  Stop Pacifier Sucking without tears with Thumb...   \n\n                                              review  rating  sentiment  \n1  it came early and was not disappointed. i love...     5.0          1  \n2  Very soft and comfortable and warmer than it l...     5.0          1  \n3  This is a product well worth the purchase.  I ...     5.0          1  \n4  All of my kids have cried non-stop when I trie...     5.0          1  \n5  When the Binky Fairy came to our house, we did...     5.0          1  ",
      "text/html": "<div>\n<style scoped>\n    .dataframe tbody tr th:only-of-type {\n        vertical-align: middle;\n    }\n\n    .dataframe tbody tr th {\n        vertical-align: top;\n    }\n\n    .dataframe thead th {\n        text-align: right;\n    }\n</style>\n<table border=\"1\" class=\"dataframe\">\n  <thead>\n    <tr style=\"text-align: right;\">\n      <th></th>\n      <th>name</th>\n      <th>review</th>\n      <th>rating</th>\n      <th>sentiment</th>\n    </tr>\n  </thead>\n  <tbody>\n    <tr>\n      <th>1</th>\n      <td>Planetwise Wipe Pouch</td>\n      <td>it came early and was not disappointed. i love...</td>\n      <td>5.0</td>\n      <td>1</td>\n    </tr>\n    <tr>\n      <th>2</th>\n      <td>Annas Dream Full Quilt with 2 Shams</td>\n      <td>Very soft and comfortable and warmer than it l...</td>\n      <td>5.0</td>\n      <td>1</td>\n    </tr>\n    <tr>\n      <th>3</th>\n      <td>Stop Pacifier Sucking without tears with Thumb...</td>\n      <td>This is a product well worth the purchase.  I ...</td>\n      <td>5.0</td>\n      <td>1</td>\n    </tr>\n    <tr>\n      <th>4</th>\n      <td>Stop Pacifier Sucking without tears with Thumb...</td>\n      <td>All of my kids have cried non-stop when I trie...</td>\n      <td>5.0</td>\n      <td>1</td>\n    </tr>\n    <tr>\n      <th>5</th>\n      <td>Stop Pacifier Sucking without tears with Thumb...</td>\n      <td>When the Binky Fairy came to our house, we did...</td>\n      <td>5.0</td>\n      <td>1</td>\n    </tr>\n  </tbody>\n</table>\n</div>"
     },
     "metadata": {},
     "execution_count": 16
    }
   ],
   "source": [
    "df = df[df['rating'] != 3] # ensuring neutral rating are ignored\n",
    "df = df.dropna()\n",
    "df['sentiment'] = df['rating'].apply(lambda rating : +1 if rating >3 else 0)\n",
    "df.head()"
   ]
  },
  {
   "cell_type": "code",
   "execution_count": 17,
   "metadata": {},
   "outputs": [],
   "source": [
    "df['review_clean'] = df['review'].str.replace('[^\\w\\s]','')  # Remove punctutation\n",
    "df['review_clean'] = df['review_clean'].str.replace('\\d+', '') # Remvove numerics\n",
    "df['bias'] = 1  # Add Bias : Important for gradient descent"
   ]
  },
  {
   "cell_type": "code",
   "execution_count": 18,
   "metadata": {},
   "outputs": [],
   "source": [
    "for word in important_words: # Create word count matrix : input feature matrix\n",
    "    df[word] = df['review_clean'].apply(lambda s: str(s).split().count(word))"
   ]
  },
  {
   "cell_type": "code",
   "execution_count": 19,
   "metadata": {},
   "outputs": [
    {
     "output_type": "execute_result",
     "data": {
      "text/plain": "                                  name  \\\n1                Planetwise Wipe Pouch   \n2  Annas Dream Full Quilt with 2 Shams   \n\n                                              review  rating  sentiment  \\\n1  it came early and was not disappointed. i love...     5.0          1   \n2  Very soft and comfortable and warmer than it l...     5.0          1   \n\n                                        review_clean  bias  baby  one  great  \\\n1  it came early and was not disappointed i love ...     1     0    0      0   \n2  Very soft and comfortable and warmer than it l...     1     0    0      0   \n\n   love  ...  seems  picture  completely  wish  buying  babies  won  tub  \\\n1     1  ...      0        0           0     0       0       0    0    0   \n2     0  ...      0        0           0     0       0       0    0    0   \n\n   almost  either  \n1       0       0  \n2       0       0  \n\n[2 rows x 199 columns]",
      "text/html": "<div>\n<style scoped>\n    .dataframe tbody tr th:only-of-type {\n        vertical-align: middle;\n    }\n\n    .dataframe tbody tr th {\n        vertical-align: top;\n    }\n\n    .dataframe thead th {\n        text-align: right;\n    }\n</style>\n<table border=\"1\" class=\"dataframe\">\n  <thead>\n    <tr style=\"text-align: right;\">\n      <th></th>\n      <th>name</th>\n      <th>review</th>\n      <th>rating</th>\n      <th>sentiment</th>\n      <th>review_clean</th>\n      <th>bias</th>\n      <th>baby</th>\n      <th>one</th>\n      <th>great</th>\n      <th>love</th>\n      <th>...</th>\n      <th>seems</th>\n      <th>picture</th>\n      <th>completely</th>\n      <th>wish</th>\n      <th>buying</th>\n      <th>babies</th>\n      <th>won</th>\n      <th>tub</th>\n      <th>almost</th>\n      <th>either</th>\n    </tr>\n  </thead>\n  <tbody>\n    <tr>\n      <th>1</th>\n      <td>Planetwise Wipe Pouch</td>\n      <td>it came early and was not disappointed. i love...</td>\n      <td>5.0</td>\n      <td>1</td>\n      <td>it came early and was not disappointed i love ...</td>\n      <td>1</td>\n      <td>0</td>\n      <td>0</td>\n      <td>0</td>\n      <td>1</td>\n      <td>...</td>\n      <td>0</td>\n      <td>0</td>\n      <td>0</td>\n      <td>0</td>\n      <td>0</td>\n      <td>0</td>\n      <td>0</td>\n      <td>0</td>\n      <td>0</td>\n      <td>0</td>\n    </tr>\n    <tr>\n      <th>2</th>\n      <td>Annas Dream Full Quilt with 2 Shams</td>\n      <td>Very soft and comfortable and warmer than it l...</td>\n      <td>5.0</td>\n      <td>1</td>\n      <td>Very soft and comfortable and warmer than it l...</td>\n      <td>1</td>\n      <td>0</td>\n      <td>0</td>\n      <td>0</td>\n      <td>0</td>\n      <td>...</td>\n      <td>0</td>\n      <td>0</td>\n      <td>0</td>\n      <td>0</td>\n      <td>0</td>\n      <td>0</td>\n      <td>0</td>\n      <td>0</td>\n      <td>0</td>\n      <td>0</td>\n    </tr>\n  </tbody>\n</table>\n<p>2 rows × 199 columns</p>\n</div>"
     },
     "metadata": {},
     "execution_count": 19
    }
   ],
   "source": [
    "df.head(2)"
   ]
  },
  {
   "cell_type": "code",
   "execution_count": 20,
   "metadata": {},
   "outputs": [
    {
     "output_type": "execute_result",
     "data": {
      "text/plain": "1    77\n0    11\nName: sentiment, dtype: int64"
     },
     "metadata": {},
     "execution_count": 20
    }
   ],
   "source": [
    "df['sentiment'].value_counts()"
   ]
  },
  {
   "cell_type": "code",
   "execution_count": 21,
   "metadata": {},
   "outputs": [],
   "source": [
    "# Input & Output Array\n",
    "features = df.iloc[:,5:].values\n",
    "output = df['sentiment'].values.reshape(-1, 1)"
   ]
  },
  {
   "cell_type": "markdown",
   "metadata": {},
   "source": [
    "$$\n",
    "P(y_i = +1 | \\mathbf{x}_i,\\mathbf{w}) = \\frac{1}{1 + \\exp(-\\mathbf{w}^T h(\\mathbf{x}_i))},\n",
    "$$\n",
    "$$ grad = \\sum h(\\mathbf{x}_i)[\\mathbf{1}[y_i = +1] - \\sigma^{w^T h(\\mathbf{x}_i)}]$$\n",
    "$$\\ell\\ell(\\mathbf{w}) = \\sum_{i=1}^N \\Big( (\\mathbf{1}[y_i = +1] - 1)\\mathbf{w}^T h(\\mathbf{x}_i) - \\ln\\left(1 + \\exp(-\\mathbf{w}^T h(\\mathbf{x}_i))\\right) \\Big) $$\n"
   ]
  },
  {
   "cell_type": "code",
   "execution_count": 22,
   "metadata": {},
   "outputs": [],
   "source": [
    "# Generate Functions\n",
    "def get_predictions(features, coefficients):\n",
    "    ''' Prediction is the sigmoid of WX '''\n",
    "    pred = np.dot(features, coefficients)\n",
    "    probability = 1/(1 + np.exp(-pred)).reshape(-1, 1)\n",
    "    return probability\n",
    "\n",
    "def get_gradient(error, features):\n",
    "    ''' Gradient is product of error and features : Refer Notes '''\n",
    "    grad = np.dot(features.T, error)\n",
    "    return grad\n",
    "\n",
    "def get_log_likelihood(features, output, coefficients):\n",
    "    ''' Log Likelihood is as per above formula '''\n",
    "    indicator = (output == +1)\n",
    "    pred = np.dot(features, coefficients)\n",
    "    first_term = (indicator - 1)*pred\n",
    "    second_term = np.log(1 + np.exp(-pred))\n",
    "    log_ll = np.sum(first_term - second_term)\n",
    "    return log_ll"
   ]
  },
  {
   "cell_type": "code",
   "execution_count": 23,
   "metadata": {
    "tags": []
   },
   "outputs": [
    {
     "output_type": "stream",
     "name": "stdout",
     "text": "-32.74043284455757\n-11.6020905287393\n-7.9278556908260125\n-6.319591942841592\n-5.4295664372845085\n-4.861606414256798\n-4.462520761091753\n-4.161975826136507\n-3.923616368337765\n-3.726946656003595\n"
    }
   ],
   "source": [
    "coefficients = np.zeros(shape = (194,1))\n",
    "for i in np.arange(100):\n",
    "    prob = get_predictions(features, coefficients)\n",
    "    out_indicator = (output == +1)\n",
    "    error = out_indicator - prob\n",
    "    grad = get_gradient(error, features)\n",
    "    coefficients = coefficients + 0.05*grad\n",
    "    log_ll = get_log_likelihood(features, output, coefficients)\n",
    "    if i % 10 == 0:\n",
    "        print(log_ll)\n",
    "    # Note likelihood is increasing over iterations"
   ]
  },
  {
   "cell_type": "code",
   "execution_count": 25,
   "metadata": {
    "tags": []
   },
   "outputs": [
    {
     "output_type": "stream",
     "name": "stdout",
     "text": "0.989\n"
    }
   ],
   "source": [
    "predictions = np.where(prob > 0.5, 1, 0)\n",
    "error = output - predictions\n",
    "accuracy = list(error).count(0)/len(error)\n",
    "print(round(accuracy,3))"
   ]
  },
  {
   "cell_type": "code",
   "execution_count": 26,
   "metadata": {},
   "outputs": [
    {
     "output_type": "execute_result",
     "data": {
      "text/plain": "         word                weights\n30       used   [-2.389722090125048]\n113     waste  [-1.7941920990974933]\n39        got   [-1.634211065006681]\n97      money  [-1.5482772986116038]\n123  received  [-1.3395838760732113]\n141      part   [-1.295653252187493]\n15     really  [-1.2954786498123965]\n29       back  [-1.1950824446778452]\n109     going   [-1.097310025522115]\n192    almost  [-1.0846801411323013]",
      "text/html": "<div>\n<style scoped>\n    .dataframe tbody tr th:only-of-type {\n        vertical-align: middle;\n    }\n\n    .dataframe tbody tr th {\n        vertical-align: top;\n    }\n\n    .dataframe thead th {\n        text-align: right;\n    }\n</style>\n<table border=\"1\" class=\"dataframe\">\n  <thead>\n    <tr style=\"text-align: right;\">\n      <th></th>\n      <th>word</th>\n      <th>weights</th>\n    </tr>\n  </thead>\n  <tbody>\n    <tr>\n      <th>30</th>\n      <td>used</td>\n      <td>[-2.389722090125048]</td>\n    </tr>\n    <tr>\n      <th>113</th>\n      <td>waste</td>\n      <td>[-1.7941920990974933]</td>\n    </tr>\n    <tr>\n      <th>39</th>\n      <td>got</td>\n      <td>[-1.634211065006681]</td>\n    </tr>\n    <tr>\n      <th>97</th>\n      <td>money</td>\n      <td>[-1.5482772986116038]</td>\n    </tr>\n    <tr>\n      <th>123</th>\n      <td>received</td>\n      <td>[-1.3395838760732113]</td>\n    </tr>\n    <tr>\n      <th>141</th>\n      <td>part</td>\n      <td>[-1.295653252187493]</td>\n    </tr>\n    <tr>\n      <th>15</th>\n      <td>really</td>\n      <td>[-1.2954786498123965]</td>\n    </tr>\n    <tr>\n      <th>29</th>\n      <td>back</td>\n      <td>[-1.1950824446778452]</td>\n    </tr>\n    <tr>\n      <th>109</th>\n      <td>going</td>\n      <td>[-1.097310025522115]</td>\n    </tr>\n    <tr>\n      <th>192</th>\n      <td>almost</td>\n      <td>[-1.0846801411323013]</td>\n    </tr>\n  </tbody>\n</table>\n</div>"
     },
     "metadata": {},
     "execution_count": 26
    }
   ],
   "source": [
    "# Higher weights corresponds to +ve reviews/sentiments & vice-versa\n",
    "df_coeff = pd.DataFrame([df.iloc[:,5:].columns, coefficients]).T\n",
    "df_coeff.columns = ['word', 'weights']\n",
    "df_coeff.sort_values(by = 'weights').head(10)"
   ]
  },
  {
   "cell_type": "code",
   "execution_count": null,
   "metadata": {},
   "outputs": [],
   "source": []
  }
 ],
 "metadata": {
  "language_info": {
   "codemirror_mode": {
    "name": "ipython",
    "version": 3
   },
   "file_extension": ".py",
   "mimetype": "text/x-python",
   "name": "python",
   "nbconvert_exporter": "python",
   "pygments_lexer": "ipython3",
   "version": 3
  },
  "orig_nbformat": 2,
  "kernelspec": {
   "name": "python_defaultSpec_1594994887515",
   "display_name": "Python 3.7.6 64-bit ('base': conda)"
  }
 },
 "nbformat": 4,
 "nbformat_minor": 2
}