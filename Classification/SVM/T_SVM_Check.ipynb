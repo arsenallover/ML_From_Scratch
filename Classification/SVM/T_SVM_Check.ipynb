{
 "metadata": {
  "language_info": {
   "codemirror_mode": {
    "name": "ipython",
    "version": 3
   },
   "file_extension": ".py",
   "mimetype": "text/x-python",
   "name": "python",
   "nbconvert_exporter": "python",
   "pygments_lexer": "ipython3",
   "version": "3.7.6-final"
  },
  "orig_nbformat": 2,
  "kernelspec": {
   "name": "python_defaultSpec_1597941915963",
   "display_name": "Python 3.7.6 64-bit ('base': conda)"
  }
 },
 "nbformat": 4,
 "nbformat_minor": 2,
 "cells": [
  {
   "cell_type": "code",
   "execution_count": 2,
   "metadata": {},
   "outputs": [],
   "source": [
    "import numpy as np\n",
    "import pandas as pd\n",
    "import statsmodels.api as sm\n",
    "from sklearn.preprocessing import MinMaxScaler\n",
    "from sklearn.model_selection import train_test_split as tts\n",
    "from sklearn.metrics import accuracy_score, recall_score, precision_score\n",
    "from sklearn.utils import shuffle"
   ]
  },
  {
   "cell_type": "code",
   "execution_count": 109,
   "metadata": {},
   "outputs": [],
   "source": [
    "# >> FEATURE SELECTION << #\n",
    "def remove_correlated_features(X):\n",
    "    corr_threshold = 0.9\n",
    "    corr = X.corr()\n",
    "    drop_columns = np.full(corr.shape[0], False, dtype=bool)\n",
    "    for i in range(corr.shape[0]):\n",
    "        for j in range(i + 1, corr.shape[0]):\n",
    "            if corr.iloc[i, j] >= corr_threshold:\n",
    "                drop_columns[j] = True\n",
    "    columns_dropped = X.columns[drop_columns]\n",
    "    X.drop(columns_dropped, axis=1, inplace=True)\n",
    "    return columns_dropped\n",
    "\n",
    "\n",
    "def remove_less_significant_features(X, Y):\n",
    "    sl = 0.05\n",
    "    regression_ols = None\n",
    "    columns_dropped = np.array([])\n",
    "    for itr in range(0, len(X.columns)):\n",
    "        regression_ols = sm.OLS(Y, X).fit()\n",
    "        max_col = regression_ols.pvalues.idxmax()\n",
    "        max_val = regression_ols.pvalues.max()\n",
    "        if max_val > sl:\n",
    "            X.drop(max_col, axis='columns', inplace=True)\n",
    "            columns_dropped = np.append(columns_dropped, [max_col])\n",
    "        else:\n",
    "            break\n",
    "    regression_ols.summary()\n",
    "    return columns_dropped\n",
    "\n",
    "\n",
    "##############################\n",
    "\n",
    "\n",
    "# >> MODEL TRAINING << #\n",
    "def compute_cost(W, X, Y):\n",
    "    # calculate hinge loss\n",
    "    N = X.shape[0]\n",
    "    distances = 1 - Y * (np.dot(X, W))\n",
    "    distances[distances < 0] = 0  # equivalent to max(0, distance)\n",
    "    hinge_loss = regularization_strength * (np.sum(distances) / N)\n",
    "\n",
    "    # calculate cost\n",
    "    cost = 1 / 2 * np.dot(W, W) + hinge_loss\n",
    "    return cost\n",
    "\n",
    "\n",
    "# I haven't tested it but this same function should work for\n",
    "# vanilla and mini-batch gradient descent as well\n",
    "def calculate_cost_gradient(W, X_batch, Y_batch):\n",
    "    # if only one example is passed (eg. in case of SGD)\n",
    "    if type(Y_batch) == np.float64:\n",
    "        Y_batch = np.array([Y_batch])\n",
    "        X_batch = np.array([X_batch])  # gives multidimensional array\n",
    "    \n",
    "    distance = [1 - (Y_batch * np.dot(X_batch, W))]\n",
    "\n",
    "    dw = np.zeros(len(W))\n",
    "\n",
    "    for ind, d in enumerate(distance):\n",
    "        if max(0, d) == 0:\n",
    "            di = W\n",
    "        else:\n",
    "            di = W - (regularization_strength * Y_batch * X_batch)\n",
    "        dw += di\n",
    "\n",
    "    dw = dw  # average\n",
    "    return dw\n",
    "\n",
    "\n",
    "def sgd(features, outputs):\n",
    "    max_epochs = 100\n",
    "    weights = np.zeros(features.shape[1])\n",
    "    nth = 0\n",
    "    prev_cost = float(\"inf\")\n",
    "    cost_threshold = 0.01  # in percent\n",
    "    # stochastic gradient descent\n",
    "    for epoch in range(1, max_epochs):\n",
    "        # shuffle to prevent repeating update cycles\n",
    "        # X, Y = shuffle(features, outputs)\n",
    "        X, Y = features, outputs\n",
    "        \n",
    "        \n",
    "        for ind, x in enumerate(X):\n",
    "            cost = compute_cost(weights, features, outputs)\n",
    "            \n",
    "            ascent = calculate_cost_gradient(weights, x, Y[ind])\n",
    "            # print(x)\n",
    "            # print(f\"ascent : {ascent}\")\n",
    "            weights = weights - (learning_rate * ascent)\n",
    "        # print(f\"weights : {weights}\")\n",
    "        print(f\"cost : {cost}\")\n",
    "        \n",
    "        # print(f\"x : {x}\")\n",
    "        \n",
    "        \n",
    "\n",
    "        # convergence check on 2^nth epoch\n",
    "        # if epoch == 2 ** nth or epoch == max_epochs - 1:\n",
    "        #     cost = compute_cost(weights, features, outputs)\n",
    "        #     # print(\"Epoch is: {} and Cost is: {}\".format(epoch, cost))\n",
    "        #     # stoppage criterion\n",
    "        #     if abs(prev_cost - cost) < cost_threshold * prev_cost:\n",
    "        #         return weights\n",
    "        #     prev_cost = cost\n",
    "        #     nth += 1\n",
    "    return weights"
   ]
  },
  {
   "cell_type": "code",
   "execution_count": 110,
   "metadata": {
    "tags": []
   },
   "outputs": [
    {
     "output_type": "stream",
     "name": "stdout",
     "text": "reading dataset...\napplying feature engineering...\n"
    }
   ],
   "source": [
    "print(\"reading dataset...\")\n",
    "# set hyper-parameters and call init\n",
    "regularization_strength = 10000\n",
    "learning_rate = 0.000001\n",
    "\n",
    "# read data in pandas (pd) data frame\n",
    "data = pd.read_csv(r'Data/Iris.csv')\n",
    "\n",
    "## Iris\n",
    "class_map = {'Iris-setosa':0, 'Iris-versicolor':1,'Iris-virginica':1}\n",
    "data['class'] = data['class'].map(class_map)\n",
    "\n",
    "# drop last column (extra column added by pd)\n",
    "# and unnecessary first column (id)\n",
    "# data.drop(data.columns[[-1, 0]], axis=1, inplace=True)\n",
    "\n",
    "print(\"applying feature engineering...\")\n",
    "# convert categorical labels to numbers\n",
    "# diag_map = {'M': 1.0, 'B': -1.0}\n",
    "# data['diagnosis'] = data['diagnosis'].map(diag_map)\n",
    "\n",
    "# put features & outputs in different data frames\n",
    "# Y = data.loc[:, 'diagnosis']\n",
    "Y = data.loc[:, 'class'].values\n",
    "X = data.iloc[:, 1:-1].values"
   ]
  },
  {
   "cell_type": "code",
   "execution_count": 111,
   "metadata": {
    "tags": []
   },
   "outputs": [
    {
     "output_type": "stream",
     "name": "stdout",
     "text": "splitting dataset into train and test sets...\n"
    }
   ],
   "source": [
    "\n",
    "# filter features\n",
    "# remove_correlated_features(X)\n",
    "# remove_less_significant_features(X, Y)\n",
    "\n",
    "# normalize data for better convergence and to prevent overflow\n",
    "X_normalized = MinMaxScaler().fit_transform(X)\n",
    "X = pd.DataFrame(X_normalized)\n",
    "\n",
    "# insert 1 in every row for intercept b\n",
    "X.insert(loc=len(X.columns), column='intercept', value=1)\n",
    "\n",
    "# split data into train and test set\n",
    "print(\"splitting dataset into train and test sets...\")\n",
    "X_train, X_test, y_train, y_test = tts(X, Y, test_size=0.2, random_state=42)"
   ]
  },
  {
   "cell_type": "code",
   "execution_count": 112,
   "metadata": {
    "tags": []
   },
   "outputs": [
    {
     "output_type": "stream",
     "name": "stdout",
     "text": "training started...\ncost : 3398.5673052932966\ncost : 3350.9696621085204\ncost : 3334.684691813188\ncost : 3333.740963397126\ncost : 3333.7408655776003\ncost : 3333.740767781549\ncost : 3333.7406700089655\ncost : 3333.740572259845\ncost : 3333.7404745341814\ncost : 3333.740376831969\ncost : 3333.740279153202\ncost : 3333.7401814978757\ncost : 3333.7400838659837\ncost : 3333.7399862575207\ncost : 3333.739888672481\ncost : 3333.7397911108587\ncost : 3333.7396935726483\ncost : 3333.739596057844\ncost : 3333.739498566441\ncost : 3333.739401098433\ncost : 3333.7393036538147\ncost : 3333.740919552825\ncost : 3333.749174426288\ncost : 3333.749074636351\ncost : 3333.7489748703606\ncost : 3333.7488751283117\ncost : 3333.7487754101976\ncost : 3333.748675716013\ncost : 3333.748576045752\ncost : 3333.7484763994094\ncost : 3333.748376776979\ncost : 3333.7482771784553\ncost : 3333.7481776038317\ncost : 3333.7480780531037\ncost : 3333.747978526265\ncost : 3333.74787902331\ncost : 3333.7477795442323\ncost : 3333.747680089027\ncost : 3333.747580657688\ncost : 3333.74748125021\ncost : 3333.7473818665867\ncost : 3333.747282506813\ncost : 3333.747183170882\ncost : 3333.7470838587897\ncost : 3333.746984570529\ncost : 3333.7468853060946\ncost : 3333.7467860654806\ncost : 3333.746686848682\ncost : 3333.7465876556926\ncost : 3333.746488486506\ncost : 3333.7463893411177\ncost : 3333.7462902195216\ncost : 3333.7461911217115\ncost : 3333.746092047682\ncost : 3333.7459929974275\ncost : 3333.7458939709422\ncost : 3333.7457949682207\ncost : 3333.7456959892565\ncost : 3333.7455970340447\ncost : 3333.7454981025794\ncost : 3333.7453991948546\ncost : 3333.7453003108653\ncost : 3333.745201450605\ncost : 3333.745102614068\ncost : 3333.7450038012494\ncost : 3333.7449050121427\ncost : 3333.744806246743\ncost : 3333.7447075050436\ncost : 3333.74460878704\ncost : 3333.7445100927252\ncost : 3333.744411422095\ncost : 3333.744312775142\ncost : 3333.7442141518623\ncost : 3333.744115552249\ncost : 3333.7440169762967\ncost : 3333.7439184239997\ncost : 3333.7438198953528\ncost : 3333.7437213903495\ncost : 3333.743622908985\ncost : 3333.743524451253\ncost : 3333.743426017148\ncost : 3333.7433276066645\ncost : 3333.7432292197964\ncost : 3333.7431308565388\ncost : 3333.743032516885\ncost : 3333.7429342008304\ncost : 3333.7428359083683\ncost : 3333.742737639494\ncost : 3333.7426393942014\ncost : 3333.742541172485\ncost : 3333.7424429743382\ncost : 3333.742344799757\ncost : 3333.7422466487346\ncost : 3333.7421485212653\ncost : 3333.742050417344\ncost : 3333.7419523369654\ncost : 3333.7418542801224\ncost : 3333.741756246811\ncost : 3333.7416582370242\ntraining finished.\nweights are: [0.28083311 0.1885907  0.37739216 0.36648925 0.65228465]\n"
    }
   ],
   "source": [
    "\n",
    "# train the model\n",
    "print(\"training started...\")\n",
    "W = sgd(X_train.to_numpy(), y_train)\n",
    "print(\"training finished.\")\n",
    "print(\"weights are: {}\".format(W))\n",
    "\n",
    "# # testing the model\n",
    "# print(\"testing the model...\")\n",
    "# y_train_predicted = np.array([])\n",
    "# for i in range(X_train.shape[0]):\n",
    "#     yp = np.sign(np.dot(X_train.to_numpy()[i], W))\n",
    "#     y_train_predicted = np.append(y_train_predicted, yp)\n",
    "\n",
    "# y_test_predicted = np.array([])\n",
    "# for i in range(X_test.shape[0]):\n",
    "#     yp = np.sign(np.dot(X_test.to_numpy()[i], W))\n",
    "#     y_test_predicted = np.append(y_test_predicted, yp)\n",
    "\n",
    "# print(\"accuracy on test dataset: {}\".format(accuracy_score(y_test, y_test_predicted)))\n",
    "# print(\"recall on test dataset: {}\".format(recall_score(y_test, y_test_predicted)))\n",
    "# print(\"precision on test dataset: {}\".format(recall_score(y_test, y_test_predicted)))\n"
   ]
  },
  {
   "cell_type": "code",
   "execution_count": 118,
   "metadata": {},
   "outputs": [
    {
     "output_type": "execute_result",
     "data": {
      "text/plain": "array([0.08333333, 0.66666667, 0.        , 0.04166667, 1.        ])"
     },
     "metadata": {},
     "execution_count": 118
    }
   ],
   "source": [
    "X_train.to_numpy()[0]"
   ]
  },
  {
   "cell_type": "code",
   "execution_count": 120,
   "metadata": {
    "tags": []
   },
   "outputs": [
    {
     "output_type": "stream",
     "name": "stdout",
     "text": "testing the model...\naccuracy on test dataset: 0.6666666666666666\nrecall on test dataset: 1.0\nprecision on test dataset: 0.6666666666666666\n"
    }
   ],
   "source": [
    "from sklearn.metrics import accuracy_score, recall_score, precision_score\n",
    "\n",
    "print(\"testing the model...\")\n",
    "ytrain_predicted = np.array([])\n",
    "for i in range(X_train.shape[0]):\n",
    "    yp = np.sign(np.dot(X_train.to_numpy()[i], W))\n",
    "    ytrain_predicted = np.append(ytrain_predicted, yp)\n",
    "\n",
    "ytest_predicted = np.array([])\n",
    "for i in range(X_test.shape[0]):\n",
    "    yp = np.sign(np.dot(X_test.to_numpy()[i], W))\n",
    "    ytest_predicted = np.append(ytest_predicted, yp)\n",
    "\n",
    "print(\"accuracy on test dataset: {}\".format(accuracy_score(y_test, ytest_predicted)))\n",
    "print(\"recall on test dataset: {}\".format(recall_score(y_test, ytest_predicted)))\n",
    "print(\"precision on test dataset: {}\".format(precision_score(y_test, ytest_predicted)))"
   ]
  }
 ]
}