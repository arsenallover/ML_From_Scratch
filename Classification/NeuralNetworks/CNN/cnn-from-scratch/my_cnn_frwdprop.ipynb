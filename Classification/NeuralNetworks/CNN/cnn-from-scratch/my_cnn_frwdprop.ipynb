{
 "metadata": {
  "language_info": {
   "codemirror_mode": {
    "name": "ipython",
    "version": 3
   },
   "file_extension": ".py",
   "mimetype": "text/x-python",
   "name": "python",
   "nbconvert_exporter": "python",
   "pygments_lexer": "ipython3",
   "version": "3.7.9-final"
  },
  "orig_nbformat": 2,
  "kernelspec": {
   "name": "Python 3.7.9 64-bit ('tf2.0': conda)",
   "display_name": "Python 3.7.9 64-bit ('tf2.0': conda)",
   "metadata": {
    "interpreter": {
     "hash": "22b3a9e511cc71c7e8c0c199ed3ba2f3f697f01009167188cfc9ddfa1a3c5b27"
    }
   }
  }
 },
 "nbformat": 4,
 "nbformat_minor": 2,
 "cells": [
  {
   "cell_type": "code",
   "execution_count": 1,
   "metadata": {},
   "outputs": [],
   "source": [
    "import mnist\n",
    "import numpy as np"
   ]
  },
  {
   "cell_type": "code",
   "execution_count": 2,
   "metadata": {},
   "outputs": [],
   "source": [
    "xtrain = mnist.train_images()[:100]\n",
    "ytrain = mnist.train_labels()[:100]\n",
    "xtest = mnist.test_images()[:100]\n",
    "ytest = mnist.test_labels()[:100]"
   ]
  },
  {
   "cell_type": "code",
   "execution_count": 3,
   "metadata": {},
   "outputs": [],
   "source": [
    "class Myconv2d():\n",
    "    def __init__(self, num_filters):\n",
    "        ''' Assumes 3*3 kernel size ''' \n",
    "        self.num_filters = num_filters\n",
    "        self.filters = np.random.randn(num_filters, 3, 3)/9\n",
    "\n",
    "    def forward(self, input):\n",
    "        ''' input is 2d array '''\n",
    "        xh, xw = input.shape\n",
    "        fh, fw = 3, 3 \n",
    "        yh, yw = xh - fh + 1, xw - fw + 1\n",
    "        output = np.zeros((yh, yw, self.num_filters))\n",
    "\n",
    "        for row in range(yh):\n",
    "            for column in range(yw):\n",
    "                output[row, column] = np.sum(input[row : row + fh, column : column + fw] * self.filters, axis = (1, 2))\n",
    "        \n",
    "        return output"
   ]
  },
  {
   "cell_type": "code",
   "execution_count": 12,
   "metadata": {},
   "outputs": [],
   "source": [
    "class Mymaxpool2d():\n",
    "    def __init__(self, filter_size):\n",
    "        self.filter_size = filter_size\n",
    "        \n",
    "    def forward(self, input):\n",
    "        self.last_input = input\n",
    "\n",
    "        ih, iw, num_filters = input.shape\n",
    "        fh, fw = self.filter_size, self.filter_size\n",
    "        yh, yw = int(ih/self.filter_size), int(iw/self.filter_size) \n",
    "        output = np.zeros(shape = (yh, yw, num_filters))\n",
    "        for row in range(yh):\n",
    "            for column in range(yw):\n",
    "                output[row, column] = np.amax(image[row*fh : row*fh + fh, column*fw : column*fw + fw], axis=(0, 1))\n",
    "        return output"
   ]
  },
  {
   "cell_type": "code",
   "execution_count": 16,
   "metadata": {},
   "outputs": [],
   "source": [
    "class Mysoftmax():\n",
    "    def __init__(self, input_len, nodes):\n",
    "        self.input_len, self.nodes = input_len, nodes\n",
    "        self.weights = np.random.randn(self.input_len, self.nodes)/self.input_len\n",
    "        self.bias = np.zeros(self.nodes)\n",
    "\n",
    "    def forward(self, input):\n",
    "        self.last_input = input\n",
    "        self.last_input_shape = input.shape\n",
    "        \n",
    "        input = input.flatten()\n",
    "        pre_activation = np.dot(input, self.weights) + self.bias\n",
    "        \n",
    "        self.last_pre_activation = pre_activation\n",
    "        activation = np.exp(pre_activation)\n",
    "        return activation/np.sum(activation, axis = 0)"
   ]
  },
  {
   "cell_type": "code",
   "execution_count": 19,
   "metadata": {},
   "outputs": [
    {
     "output_type": "stream",
     "name": "stdout",
     "text": [
      "conv output shape : (26, 26, 8)\nmaxpool output shape : (13, 13, 8)\nsoftmax output shape : (10,)\n"
     ]
    }
   ],
   "source": [
    "## Checking with sample image\n",
    "image = xtrain[0]/255 - 0.5\n",
    "conv = Myconv2d(8)\n",
    "out = conv.forward(image)\n",
    "print(f'conv output shape : {out.shape}')\n",
    "pool = Mymaxpool2d(2)\n",
    "out = pool.forward(out)\n",
    "print(f'maxpool output shape : {out.shape}')\n",
    "softmax_input_shape = 13*13*8\n",
    "softmax = Mysoftmax(softmax_input_shape, 10)\n",
    "out = softmax.forward(out)\n",
    "print(f'softmax output shape : {out.shape}')"
   ]
  },
  {
   "cell_type": "code",
   "execution_count": 26,
   "metadata": {},
   "outputs": [
    {
     "output_type": "stream",
     "name": "stdout",
     "text": [
      "epoch : 0 loss : 2.3164589512799334 accuracy 0.08\n"
     ]
    }
   ],
   "source": [
    "# foward_only\n",
    "conv = Myconv2d(8)\n",
    "pool = Mymaxpool2d(2)\n",
    "softmax_input_shape = 13*13*8\n",
    "softmax = Mysoftmax(softmax_input_shape, 10)\n",
    "\n",
    "for epoch in range(1):\n",
    "    acc_epoch = 0\n",
    "    for image, label in zip(xtrain, ytrain):\n",
    "        image = image/255 - 0.5\n",
    "        \n",
    "        # Forward Prop\n",
    "        out = conv.forward(image)\n",
    "        out = pool.forward(out)\n",
    "        out = softmax.forward(out)\n",
    "        \n",
    "        # CE Loss, Accuracy\n",
    "        loss = -np.log(out[label])\n",
    "        acc = 1 if np.argmax(out) == label else 0\n",
    "        acc_epoch += acc\n",
    "    print(f'epoch : {epoch} loss : {loss} accuracy {acc_epoch/len(ytrain)}')"
   ]
  },
  {
   "cell_type": "code",
   "execution_count": null,
   "metadata": {},
   "outputs": [],
   "source": []
  }
 ]
}