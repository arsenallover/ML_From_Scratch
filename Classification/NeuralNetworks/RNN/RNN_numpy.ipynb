{
 "cells": [
  {
   "cell_type": "markdown",
   "metadata": {},
   "source": [
    "# Recurrent Neural Network\n",
    "Numpy implementation of binary addition in RNN.\n",
    "This code is based on [iamtrask's github.io](https://iamtrask.github.io/2015/11/15/anyone-can-code-lstm/)."
   ]
  },
  {
   "cell_type": "code",
   "execution_count": 1,
   "metadata": {
    "collapsed": true
   },
   "outputs": [],
   "source": [
    "import numpy as np\n",
    "import matplotlib.pyplot as plt\n",
    "%matplotlib inline"
   ]
  },
  {
   "cell_type": "markdown",
   "metadata": {},
   "source": [
    "## Data Generation\n",
    "\n",
    "Generate the binary array less than 256."
   ]
  },
  {
   "cell_type": "code",
   "execution_count": 2,
   "metadata": {
    "collapsed": true
   },
   "outputs": [],
   "source": [
    "BIN_DIM = 8\n",
    "INPUT_DIM = 2\n",
    "HIDDEN_DIM = 16\n",
    "OUTPUT_DIM = 1\n",
    "\n",
    "ALPHA = 0.1\n",
    "ITER_NUM = 10000\n",
    "LOG_ITER = ITER_NUM // 10\n",
    "PLOT_ITER = ITER_NUM // 200"
   ]
  },
  {
   "cell_type": "code",
   "execution_count": 3,
   "metadata": {
    "collapsed": false
   },
   "outputs": [],
   "source": [
    "largest = pow(2, BIN_DIM)\n",
    "decimal = np.array([range(largest)]).astype(np.uint8).T\n",
    "binary = np.unpackbits(decimal, axis=1)"
   ]
  },
  {
   "cell_type": "markdown",
   "metadata": {},
   "source": [
    "## Prepare weights and deltas\n",
    "Prepare weight and delta values to use in the optimization process."
   ]
  },
  {
   "cell_type": "code",
   "execution_count": 4,
   "metadata": {
    "collapsed": false
   },
   "outputs": [],
   "source": [
    "# weight values\n",
    "w0 = np.random.normal(0, 1, [INPUT_DIM, HIDDEN_DIM])\n",
    "w1 = np.random.normal(0, 1, [HIDDEN_DIM, OUTPUT_DIM])\n",
    "wh = np.random.normal(0, 2, [HIDDEN_DIM, HIDDEN_DIM])"
   ]
  },
  {
   "cell_type": "code",
   "execution_count": 5,
   "metadata": {
    "collapsed": false
   },
   "outputs": [],
   "source": [
    "# delta values\n",
    "d0 = np.zeros_like(w0)\n",
    "d1 = np.zeros_like(w1)\n",
    "dh = np.zeros_like(wh)"
   ]
  },
  {
   "cell_type": "code",
   "execution_count": 6,
   "metadata": {
    "collapsed": true
   },
   "outputs": [],
   "source": [
    "errs = list()\n",
    "accs = list()\n",
    "\n",
    "error = 0\n",
    "accuracy = 0"
   ]
  },
  {
   "cell_type": "markdown",
   "metadata": {},
   "source": [
    "## Training\n",
    "Training binary addition in RNN with Backpropagation Through Time."
   ]
  },
  {
   "cell_type": "code",
   "execution_count": 7,
   "metadata": {
    "collapsed": true
   },
   "outputs": [],
   "source": [
    "def sigmoid(x):\n",
    "    return 1 / (1 + np.exp(-x))\n",
    "\n",
    "def deriv_sigmoid(out):\n",
    "    return out * (1 - out)\n",
    "\n",
    "def bin2dec(b):\n",
    "    out = 0\n",
    "    for i, x in enumerate(b[::-1]):\n",
    "        out += x * pow(2, i)\n",
    "    \n",
    "    return out"
   ]
  },
  {
   "cell_type": "code",
   "execution_count": 8,
   "metadata": {
    "collapsed": false
   },
   "outputs": [
    {
     "output_type": "stream",
     "name": "stdout",
     "text": [
      "Iter 0\n",
      "Error : [4.08126098]\n",
      "Pred : [1 1 1 1 0 1 1 0]\n",
      "True : [1 0 1 0 1 1 0 0]\n",
      "50 + 122 = 246\n",
      "----------\n",
      "Iter 1000\n",
      "Error : [4.06772876]\n",
      "Pred : [0 1 1 1 1 1 1 1]\n",
      "True : [1 0 0 1 1 0 1 1]\n",
      "111 + 44 = 127\n",
      "----------\n",
      "Iter 2000\n",
      "Error : [3.58795468]\n",
      "Pred : [1 1 1 1 1 1 1 1]\n",
      "True : [1 0 0 1 1 1 1 1]\n",
      "63 + 96 = 255\n",
      "----------\n",
      "Iter 3000\n",
      "Error : [3.00797229]\n",
      "Pred : [1 0 0 0 1 1 1 1]\n",
      "True : [1 0 1 0 1 1 1 1]\n",
      "61 + 114 = 143\n",
      "----------\n",
      "Iter 4000\n",
      "Error : [1.9243189]\n",
      "Pred : [1 0 0 0 0 0 0 0]\n",
      "True : [1 0 0 0 0 0 0 0]\n",
      "116 + 12 = 128\n",
      "----------\n",
      "Iter 5000\n",
      "Error : [1.95107805]\n",
      "Pred : [0 1 1 0 0 0 0 0]\n",
      "True : [0 1 1 1 0 0 0 0]\n",
      "91 + 21 = 96\n",
      "----------\n",
      "Iter 6000\n",
      "Error : [0.69346246]\n",
      "Pred : [0 1 0 0 0 1 1 1]\n",
      "True : [0 1 0 0 0 1 1 1]\n",
      "4 + 67 = 71\n",
      "----------\n",
      "Iter 7000\n",
      "Error : [0.79329413]\n",
      "Pred : [0 1 1 0 0 0 0 1]\n",
      "True : [0 1 1 0 0 0 0 1]\n",
      "12 + 85 = 97\n",
      "----------\n",
      "Iter 8000\n",
      "Error : [0.47535719]\n",
      "Pred : [0 0 1 1 1 1 0 1]\n",
      "True : [0 0 1 1 1 1 0 1]\n",
      "57 + 4 = 61\n",
      "----------\n",
      "Iter 9000\n",
      "Error : [0.61860168]\n",
      "Pred : [0 1 0 0 1 1 0 0]\n",
      "True : [0 1 0 0 1 1 0 0]\n",
      "54 + 22 = 76\n",
      "----------\n",
      "Iter 10000\n",
      "Error : [0.48752068]\n",
      "Pred : [1 0 0 0 0 0 1 0]\n",
      "True : [1 0 0 0 0 0 1 0]\n",
      "84 + 46 = 130\n",
      "----------\n"
     ]
    }
   ],
   "source": [
    "for i in range(ITER_NUM + 1):\n",
    "    # a + b = c\n",
    "    a_dec = np.random.randint(largest / 2)\n",
    "    b_dec = np.random.randint(largest / 2)\n",
    "    c_dec = a_dec + b_dec\n",
    "    \n",
    "    a_bin = binary[a_dec]\n",
    "    b_bin = binary[b_dec]\n",
    "    c_bin = binary[c_dec]\n",
    "    \n",
    "    pred = np.zeros_like(c_bin)\n",
    "    \n",
    "    overall_err = 0 # total error in the whole calculation process.\n",
    "    \n",
    "    output_deltas = list()\n",
    "    hidden_values = list()\n",
    "    hidden_values.append(np.zeros(HIDDEN_DIM))\n",
    "    \n",
    "    future_delta = np.zeros(HIDDEN_DIM)\n",
    "    \n",
    "    # forward propagation\n",
    "    for pos in range(BIN_DIM)[::-1]:\n",
    "        X = np.array([[a_bin[pos], b_bin[pos]]]) # shape=(1, 2)\n",
    "        Y = np.array([[c_bin[pos]]]) # shape=(1, 1)\n",
    "        \n",
    "        hidden = sigmoid(np.dot(X, w0) + np.dot(hidden_values[-1], wh))\n",
    "        output = sigmoid(np.dot(hidden, w1))\n",
    "        \n",
    "        pred[pos] = np.round(output[0][0])\n",
    "        \n",
    "        # squared mean error\n",
    "        output_err = Y - output\n",
    "        output_deltas.append(output_err * deriv_sigmoid(output))\n",
    "        hidden_values.append(hidden)\n",
    "        \n",
    "        overall_err += np.abs(output_err[0])\n",
    "    \n",
    "    # backpropagation through time\n",
    "    for pos in range(BIN_DIM):\n",
    "        X = np.array([[a_bin[pos], b_bin[pos]]])\n",
    "        \n",
    "        hidden = hidden_values[-(pos + 1)]\n",
    "        prev_hidden = hidden_values[-(pos + 2)]\n",
    "        \n",
    "        output_delta = output_deltas[-(pos + 1)]\n",
    "        hidden_delta = (np.dot(future_delta, wh.T) + np.dot(output_delta, w1.T)) * deriv_sigmoid(hidden)\n",
    "        \n",
    "        d1 += np.dot(np.atleast_2d(hidden).T, output_delta)\n",
    "        dh += np.dot(np.atleast_2d(prev_hidden).T, hidden_delta)\n",
    "        d0 += np.dot(X.T, hidden_delta)\n",
    "\n",
    "        future_delta = hidden_delta \n",
    "    \n",
    "    w1 += ALPHA * d1\n",
    "    w0 += ALPHA * d0\n",
    "    wh += ALPHA * dh\n",
    "    \n",
    "    d1 *= 0\n",
    "    d0 *= 0\n",
    "    dh *= 0\n",
    "    \n",
    "    error += overall_err\n",
    "    if (bin2dec(pred) == c_dec):\n",
    "        accuracy += 1\n",
    "        \n",
    "    if (i % PLOT_ITER == 0):\n",
    "        errs.append(error / PLOT_ITER)\n",
    "        accs.append(accuracy / PLOT_ITER)\n",
    "        \n",
    "        error = 0\n",
    "        accuracy = 0\n",
    "    \n",
    "    if (i % LOG_ITER == 0):\n",
    "        print('Iter', i)\n",
    "        print(\"Error :\", overall_err)\n",
    "        print(\"Pred :\", pred)\n",
    "        print(\"True :\", c_bin)\n",
    "        print(a_dec, \"+\", b_dec, \"=\", bin2dec(pred))\n",
    "        print('----------')"
   ]
  },
  {
   "cell_type": "markdown",
   "metadata": {},
   "source": [
    "## Plot learning curve\n",
    "Plot error and accuracy."
   ]
  },
  {
   "cell_type": "code",
   "execution_count": 9,
   "metadata": {
    "collapsed": false
   },
   "outputs": [
    {
     "output_type": "execute_result",
     "data": {
      "text/plain": [
       "<matplotlib.legend.Legend at 0x3d35d08>"
      ]
     },
     "metadata": {},
     "execution_count": 9
    },
    {
     "output_type": "display_data",
     "data": {
      "text/plain": "<Figure size 432x288 with 1 Axes>",
      "image/svg+xml": "<?xml version=\"1.0\" encoding=\"utf-8\" standalone=\"no\"?>\r\n<!DOCTYPE svg PUBLIC \"-//W3C//DTD SVG 1.1//EN\"\r\n  \"http://www.w3.org/Graphics/SVG/1.1/DTD/svg11.dtd\">\r\n<!-- Created with matplotlib (https://matplotlib.org/) -->\r\n<svg height=\"248.518125pt\" version=\"1.1\" viewBox=\"0 0 372.103125 248.518125\" width=\"372.103125pt\" xmlns=\"http://www.w3.org/2000/svg\" xmlns:xlink=\"http://www.w3.org/1999/xlink\">\r\n <metadata>\r\n  <rdf:RDF xmlns:cc=\"http://creativecommons.org/ns#\" xmlns:dc=\"http://purl.org/dc/elements/1.1/\" xmlns:rdf=\"http://www.w3.org/1999/02/22-rdf-syntax-ns#\">\r\n   <cc:Work>\r\n    <dc:type rdf:resource=\"http://purl.org/dc/dcmitype/StillImage\"/>\r\n    <dc:date>2020-10-13T20:18:58.132773</dc:date>\r\n    <dc:format>image/svg+xml</dc:format>\r\n    <dc:creator>\r\n     <cc:Agent>\r\n      <dc:title>Matplotlib v3.3.1, https://matplotlib.org/</dc:title>\r\n     </cc:Agent>\r\n    </dc:creator>\r\n   </cc:Work>\r\n  </rdf:RDF>\r\n </metadata>\r\n <defs>\r\n  <style type=\"text/css\">*{stroke-linecap:butt;stroke-linejoin:round;}</style>\r\n </defs>\r\n <g id=\"figure_1\">\r\n  <g id=\"patch_1\">\r\n   <path d=\"M 0 248.518125 \r\nL 372.103125 248.518125 \r\nL 372.103125 0 \r\nL 0 0 \r\nz\r\n\" style=\"fill:none;\"/>\r\n  </g>\r\n  <g id=\"axes_1\">\r\n   <g id=\"patch_2\">\r\n    <path d=\"M 30.103125 224.64 \r\nL 364.903125 224.64 \r\nL 364.903125 7.2 \r\nL 30.103125 7.2 \r\nz\r\n\" style=\"fill:#ffffff;\"/>\r\n   </g>\r\n   <g id=\"matplotlib.axis_1\">\r\n    <g id=\"xtick_1\">\r\n     <g id=\"line2d_1\">\r\n      <defs>\r\n       <path d=\"M 0 0 \r\nL 0 3.5 \r\n\" id=\"m64c521b464\" style=\"stroke:#000000;stroke-width:0.8;\"/>\r\n      </defs>\r\n      <g>\r\n       <use style=\"stroke:#000000;stroke-width:0.8;\" x=\"45.321307\" xlink:href=\"#m64c521b464\" y=\"224.64\"/>\r\n      </g>\r\n     </g>\r\n     <g id=\"text_1\">\r\n      <!-- 0 -->\r\n      <g transform=\"translate(42.140057 239.238437)scale(0.1 -0.1)\">\r\n       <defs>\r\n        <path d=\"M 31.78125 66.40625 \r\nQ 24.171875 66.40625 20.328125 58.90625 \r\nQ 16.5 51.421875 16.5 36.375 \r\nQ 16.5 21.390625 20.328125 13.890625 \r\nQ 24.171875 6.390625 31.78125 6.390625 \r\nQ 39.453125 6.390625 43.28125 13.890625 \r\nQ 47.125 21.390625 47.125 36.375 \r\nQ 47.125 51.421875 43.28125 58.90625 \r\nQ 39.453125 66.40625 31.78125 66.40625 \r\nz\r\nM 31.78125 74.21875 \r\nQ 44.046875 74.21875 50.515625 64.515625 \r\nQ 56.984375 54.828125 56.984375 36.375 \r\nQ 56.984375 17.96875 50.515625 8.265625 \r\nQ 44.046875 -1.421875 31.78125 -1.421875 \r\nQ 19.53125 -1.421875 13.0625 8.265625 \r\nQ 6.59375 17.96875 6.59375 36.375 \r\nQ 6.59375 54.828125 13.0625 64.515625 \r\nQ 19.53125 74.21875 31.78125 74.21875 \r\nz\r\n\" id=\"DejaVuSans-48\"/>\r\n       </defs>\r\n       <use xlink:href=\"#DejaVuSans-48\"/>\r\n      </g>\r\n     </g>\r\n    </g>\r\n    <g id=\"xtick_2\">\r\n     <g id=\"line2d_2\">\r\n      <g>\r\n       <use style=\"stroke:#000000;stroke-width:0.8;\" x=\"83.366761\" xlink:href=\"#m64c521b464\" y=\"224.64\"/>\r\n      </g>\r\n     </g>\r\n     <g id=\"text_2\">\r\n      <!-- 25 -->\r\n      <g transform=\"translate(77.004261 239.238437)scale(0.1 -0.1)\">\r\n       <defs>\r\n        <path d=\"M 19.1875 8.296875 \r\nL 53.609375 8.296875 \r\nL 53.609375 0 \r\nL 7.328125 0 \r\nL 7.328125 8.296875 \r\nQ 12.9375 14.109375 22.625 23.890625 \r\nQ 32.328125 33.6875 34.8125 36.53125 \r\nQ 39.546875 41.84375 41.421875 45.53125 \r\nQ 43.3125 49.21875 43.3125 52.78125 \r\nQ 43.3125 58.59375 39.234375 62.25 \r\nQ 35.15625 65.921875 28.609375 65.921875 \r\nQ 23.96875 65.921875 18.8125 64.3125 \r\nQ 13.671875 62.703125 7.8125 59.421875 \r\nL 7.8125 69.390625 \r\nQ 13.765625 71.78125 18.9375 73 \r\nQ 24.125 74.21875 28.421875 74.21875 \r\nQ 39.75 74.21875 46.484375 68.546875 \r\nQ 53.21875 62.890625 53.21875 53.421875 \r\nQ 53.21875 48.921875 51.53125 44.890625 \r\nQ 49.859375 40.875 45.40625 35.40625 \r\nQ 44.1875 33.984375 37.640625 27.21875 \r\nQ 31.109375 20.453125 19.1875 8.296875 \r\nz\r\n\" id=\"DejaVuSans-50\"/>\r\n        <path d=\"M 10.796875 72.90625 \r\nL 49.515625 72.90625 \r\nL 49.515625 64.59375 \r\nL 19.828125 64.59375 \r\nL 19.828125 46.734375 \r\nQ 21.96875 47.46875 24.109375 47.828125 \r\nQ 26.265625 48.1875 28.421875 48.1875 \r\nQ 40.625 48.1875 47.75 41.5 \r\nQ 54.890625 34.8125 54.890625 23.390625 \r\nQ 54.890625 11.625 47.5625 5.09375 \r\nQ 40.234375 -1.421875 26.90625 -1.421875 \r\nQ 22.3125 -1.421875 17.546875 -0.640625 \r\nQ 12.796875 0.140625 7.71875 1.703125 \r\nL 7.71875 11.625 \r\nQ 12.109375 9.234375 16.796875 8.0625 \r\nQ 21.484375 6.890625 26.703125 6.890625 \r\nQ 35.15625 6.890625 40.078125 11.328125 \r\nQ 45.015625 15.765625 45.015625 23.390625 \r\nQ 45.015625 31 40.078125 35.4375 \r\nQ 35.15625 39.890625 26.703125 39.890625 \r\nQ 22.75 39.890625 18.8125 39.015625 \r\nQ 14.890625 38.140625 10.796875 36.28125 \r\nz\r\n\" id=\"DejaVuSans-53\"/>\r\n       </defs>\r\n       <use xlink:href=\"#DejaVuSans-50\"/>\r\n       <use x=\"63.623047\" xlink:href=\"#DejaVuSans-53\"/>\r\n      </g>\r\n     </g>\r\n    </g>\r\n    <g id=\"xtick_3\">\r\n     <g id=\"line2d_3\">\r\n      <g>\r\n       <use style=\"stroke:#000000;stroke-width:0.8;\" x=\"121.412216\" xlink:href=\"#m64c521b464\" y=\"224.64\"/>\r\n      </g>\r\n     </g>\r\n     <g id=\"text_3\">\r\n      <!-- 50 -->\r\n      <g transform=\"translate(115.049716 239.238437)scale(0.1 -0.1)\">\r\n       <use xlink:href=\"#DejaVuSans-53\"/>\r\n       <use x=\"63.623047\" xlink:href=\"#DejaVuSans-48\"/>\r\n      </g>\r\n     </g>\r\n    </g>\r\n    <g id=\"xtick_4\">\r\n     <g id=\"line2d_4\">\r\n      <g>\r\n       <use style=\"stroke:#000000;stroke-width:0.8;\" x=\"159.45767\" xlink:href=\"#m64c521b464\" y=\"224.64\"/>\r\n      </g>\r\n     </g>\r\n     <g id=\"text_4\">\r\n      <!-- 75 -->\r\n      <g transform=\"translate(153.09517 239.238437)scale(0.1 -0.1)\">\r\n       <defs>\r\n        <path d=\"M 8.203125 72.90625 \r\nL 55.078125 72.90625 \r\nL 55.078125 68.703125 \r\nL 28.609375 0 \r\nL 18.3125 0 \r\nL 43.21875 64.59375 \r\nL 8.203125 64.59375 \r\nz\r\n\" id=\"DejaVuSans-55\"/>\r\n       </defs>\r\n       <use xlink:href=\"#DejaVuSans-55\"/>\r\n       <use x=\"63.623047\" xlink:href=\"#DejaVuSans-53\"/>\r\n      </g>\r\n     </g>\r\n    </g>\r\n    <g id=\"xtick_5\">\r\n     <g id=\"line2d_5\">\r\n      <g>\r\n       <use style=\"stroke:#000000;stroke-width:0.8;\" x=\"197.503125\" xlink:href=\"#m64c521b464\" y=\"224.64\"/>\r\n      </g>\r\n     </g>\r\n     <g id=\"text_5\">\r\n      <!-- 100 -->\r\n      <g transform=\"translate(187.959375 239.238437)scale(0.1 -0.1)\">\r\n       <defs>\r\n        <path d=\"M 12.40625 8.296875 \r\nL 28.515625 8.296875 \r\nL 28.515625 63.921875 \r\nL 10.984375 60.40625 \r\nL 10.984375 69.390625 \r\nL 28.421875 72.90625 \r\nL 38.28125 72.90625 \r\nL 38.28125 8.296875 \r\nL 54.390625 8.296875 \r\nL 54.390625 0 \r\nL 12.40625 0 \r\nz\r\n\" id=\"DejaVuSans-49\"/>\r\n       </defs>\r\n       <use xlink:href=\"#DejaVuSans-49\"/>\r\n       <use x=\"63.623047\" xlink:href=\"#DejaVuSans-48\"/>\r\n       <use x=\"127.246094\" xlink:href=\"#DejaVuSans-48\"/>\r\n      </g>\r\n     </g>\r\n    </g>\r\n    <g id=\"xtick_6\">\r\n     <g id=\"line2d_6\">\r\n      <g>\r\n       <use style=\"stroke:#000000;stroke-width:0.8;\" x=\"235.54858\" xlink:href=\"#m64c521b464\" y=\"224.64\"/>\r\n      </g>\r\n     </g>\r\n     <g id=\"text_6\">\r\n      <!-- 125 -->\r\n      <g transform=\"translate(226.00483 239.238437)scale(0.1 -0.1)\">\r\n       <use xlink:href=\"#DejaVuSans-49\"/>\r\n       <use x=\"63.623047\" xlink:href=\"#DejaVuSans-50\"/>\r\n       <use x=\"127.246094\" xlink:href=\"#DejaVuSans-53\"/>\r\n      </g>\r\n     </g>\r\n    </g>\r\n    <g id=\"xtick_7\">\r\n     <g id=\"line2d_7\">\r\n      <g>\r\n       <use style=\"stroke:#000000;stroke-width:0.8;\" x=\"273.594034\" xlink:href=\"#m64c521b464\" y=\"224.64\"/>\r\n      </g>\r\n     </g>\r\n     <g id=\"text_7\">\r\n      <!-- 150 -->\r\n      <g transform=\"translate(264.050284 239.238437)scale(0.1 -0.1)\">\r\n       <use xlink:href=\"#DejaVuSans-49\"/>\r\n       <use x=\"63.623047\" xlink:href=\"#DejaVuSans-53\"/>\r\n       <use x=\"127.246094\" xlink:href=\"#DejaVuSans-48\"/>\r\n      </g>\r\n     </g>\r\n    </g>\r\n    <g id=\"xtick_8\">\r\n     <g id=\"line2d_8\">\r\n      <g>\r\n       <use style=\"stroke:#000000;stroke-width:0.8;\" x=\"311.639489\" xlink:href=\"#m64c521b464\" y=\"224.64\"/>\r\n      </g>\r\n     </g>\r\n     <g id=\"text_8\">\r\n      <!-- 175 -->\r\n      <g transform=\"translate(302.095739 239.238437)scale(0.1 -0.1)\">\r\n       <use xlink:href=\"#DejaVuSans-49\"/>\r\n       <use x=\"63.623047\" xlink:href=\"#DejaVuSans-55\"/>\r\n       <use x=\"127.246094\" xlink:href=\"#DejaVuSans-53\"/>\r\n      </g>\r\n     </g>\r\n    </g>\r\n    <g id=\"xtick_9\">\r\n     <g id=\"line2d_9\">\r\n      <g>\r\n       <use style=\"stroke:#000000;stroke-width:0.8;\" x=\"349.684943\" xlink:href=\"#m64c521b464\" y=\"224.64\"/>\r\n      </g>\r\n     </g>\r\n     <g id=\"text_9\">\r\n      <!-- 200 -->\r\n      <g transform=\"translate(340.141193 239.238437)scale(0.1 -0.1)\">\r\n       <use xlink:href=\"#DejaVuSans-50\"/>\r\n       <use x=\"63.623047\" xlink:href=\"#DejaVuSans-48\"/>\r\n       <use x=\"127.246094\" xlink:href=\"#DejaVuSans-48\"/>\r\n      </g>\r\n     </g>\r\n    </g>\r\n   </g>\r\n   <g id=\"matplotlib.axis_2\">\r\n    <g id=\"ytick_1\">\r\n     <g id=\"line2d_10\">\r\n      <defs>\r\n       <path d=\"M 0 0 \r\nL -3.5 0 \r\n\" id=\"ma0f616fa60\" style=\"stroke:#000000;stroke-width:0.8;\"/>\r\n      </defs>\r\n      <g>\r\n       <use style=\"stroke:#000000;stroke-width:0.8;\" x=\"30.103125\" xlink:href=\"#ma0f616fa60\" y=\"214.756364\"/>\r\n      </g>\r\n     </g>\r\n     <g id=\"text_10\">\r\n      <!-- 0.0 -->\r\n      <g transform=\"translate(7.2 218.555582)scale(0.1 -0.1)\">\r\n       <defs>\r\n        <path d=\"M 10.6875 12.40625 \r\nL 21 12.40625 \r\nL 21 0 \r\nL 10.6875 0 \r\nz\r\n\" id=\"DejaVuSans-46\"/>\r\n       </defs>\r\n       <use xlink:href=\"#DejaVuSans-48\"/>\r\n       <use x=\"63.623047\" xlink:href=\"#DejaVuSans-46\"/>\r\n       <use x=\"95.410156\" xlink:href=\"#DejaVuSans-48\"/>\r\n      </g>\r\n     </g>\r\n    </g>\r\n    <g id=\"ytick_2\">\r\n     <g id=\"line2d_11\">\r\n      <g>\r\n       <use style=\"stroke:#000000;stroke-width:0.8;\" x=\"30.103125\" xlink:href=\"#ma0f616fa60\" y=\"190.279704\"/>\r\n      </g>\r\n     </g>\r\n     <g id=\"text_11\">\r\n      <!-- 0.5 -->\r\n      <g transform=\"translate(7.2 194.078922)scale(0.1 -0.1)\">\r\n       <use xlink:href=\"#DejaVuSans-48\"/>\r\n       <use x=\"63.623047\" xlink:href=\"#DejaVuSans-46\"/>\r\n       <use x=\"95.410156\" xlink:href=\"#DejaVuSans-53\"/>\r\n      </g>\r\n     </g>\r\n    </g>\r\n    <g id=\"ytick_3\">\r\n     <g id=\"line2d_12\">\r\n      <g>\r\n       <use style=\"stroke:#000000;stroke-width:0.8;\" x=\"30.103125\" xlink:href=\"#ma0f616fa60\" y=\"165.803044\"/>\r\n      </g>\r\n     </g>\r\n     <g id=\"text_12\">\r\n      <!-- 1.0 -->\r\n      <g transform=\"translate(7.2 169.602262)scale(0.1 -0.1)\">\r\n       <use xlink:href=\"#DejaVuSans-49\"/>\r\n       <use x=\"63.623047\" xlink:href=\"#DejaVuSans-46\"/>\r\n       <use x=\"95.410156\" xlink:href=\"#DejaVuSans-48\"/>\r\n      </g>\r\n     </g>\r\n    </g>\r\n    <g id=\"ytick_4\">\r\n     <g id=\"line2d_13\">\r\n      <g>\r\n       <use style=\"stroke:#000000;stroke-width:0.8;\" x=\"30.103125\" xlink:href=\"#ma0f616fa60\" y=\"141.326384\"/>\r\n      </g>\r\n     </g>\r\n     <g id=\"text_13\">\r\n      <!-- 1.5 -->\r\n      <g transform=\"translate(7.2 145.125602)scale(0.1 -0.1)\">\r\n       <use xlink:href=\"#DejaVuSans-49\"/>\r\n       <use x=\"63.623047\" xlink:href=\"#DejaVuSans-46\"/>\r\n       <use x=\"95.410156\" xlink:href=\"#DejaVuSans-53\"/>\r\n      </g>\r\n     </g>\r\n    </g>\r\n    <g id=\"ytick_5\">\r\n     <g id=\"line2d_14\">\r\n      <g>\r\n       <use style=\"stroke:#000000;stroke-width:0.8;\" x=\"30.103125\" xlink:href=\"#ma0f616fa60\" y=\"116.849724\"/>\r\n      </g>\r\n     </g>\r\n     <g id=\"text_14\">\r\n      <!-- 2.0 -->\r\n      <g transform=\"translate(7.2 120.648943)scale(0.1 -0.1)\">\r\n       <use xlink:href=\"#DejaVuSans-50\"/>\r\n       <use x=\"63.623047\" xlink:href=\"#DejaVuSans-46\"/>\r\n       <use x=\"95.410156\" xlink:href=\"#DejaVuSans-48\"/>\r\n      </g>\r\n     </g>\r\n    </g>\r\n    <g id=\"ytick_6\">\r\n     <g id=\"line2d_15\">\r\n      <g>\r\n       <use style=\"stroke:#000000;stroke-width:0.8;\" x=\"30.103125\" xlink:href=\"#ma0f616fa60\" y=\"92.373064\"/>\r\n      </g>\r\n     </g>\r\n     <g id=\"text_15\">\r\n      <!-- 2.5 -->\r\n      <g transform=\"translate(7.2 96.172283)scale(0.1 -0.1)\">\r\n       <use xlink:href=\"#DejaVuSans-50\"/>\r\n       <use x=\"63.623047\" xlink:href=\"#DejaVuSans-46\"/>\r\n       <use x=\"95.410156\" xlink:href=\"#DejaVuSans-53\"/>\r\n      </g>\r\n     </g>\r\n    </g>\r\n    <g id=\"ytick_7\">\r\n     <g id=\"line2d_16\">\r\n      <g>\r\n       <use style=\"stroke:#000000;stroke-width:0.8;\" x=\"30.103125\" xlink:href=\"#ma0f616fa60\" y=\"67.896404\"/>\r\n      </g>\r\n     </g>\r\n     <g id=\"text_16\">\r\n      <!-- 3.0 -->\r\n      <g transform=\"translate(7.2 71.695623)scale(0.1 -0.1)\">\r\n       <defs>\r\n        <path d=\"M 40.578125 39.3125 \r\nQ 47.65625 37.796875 51.625 33 \r\nQ 55.609375 28.21875 55.609375 21.1875 \r\nQ 55.609375 10.40625 48.1875 4.484375 \r\nQ 40.765625 -1.421875 27.09375 -1.421875 \r\nQ 22.515625 -1.421875 17.65625 -0.515625 \r\nQ 12.796875 0.390625 7.625 2.203125 \r\nL 7.625 11.71875 \r\nQ 11.71875 9.328125 16.59375 8.109375 \r\nQ 21.484375 6.890625 26.8125 6.890625 \r\nQ 36.078125 6.890625 40.9375 10.546875 \r\nQ 45.796875 14.203125 45.796875 21.1875 \r\nQ 45.796875 27.640625 41.28125 31.265625 \r\nQ 36.765625 34.90625 28.71875 34.90625 \r\nL 20.21875 34.90625 \r\nL 20.21875 43.015625 \r\nL 29.109375 43.015625 \r\nQ 36.375 43.015625 40.234375 45.921875 \r\nQ 44.09375 48.828125 44.09375 54.296875 \r\nQ 44.09375 59.90625 40.109375 62.90625 \r\nQ 36.140625 65.921875 28.71875 65.921875 \r\nQ 24.65625 65.921875 20.015625 65.03125 \r\nQ 15.375 64.15625 9.8125 62.3125 \r\nL 9.8125 71.09375 \r\nQ 15.4375 72.65625 20.34375 73.4375 \r\nQ 25.25 74.21875 29.59375 74.21875 \r\nQ 40.828125 74.21875 47.359375 69.109375 \r\nQ 53.90625 64.015625 53.90625 55.328125 \r\nQ 53.90625 49.265625 50.4375 45.09375 \r\nQ 46.96875 40.921875 40.578125 39.3125 \r\nz\r\n\" id=\"DejaVuSans-51\"/>\r\n       </defs>\r\n       <use xlink:href=\"#DejaVuSans-51\"/>\r\n       <use x=\"63.623047\" xlink:href=\"#DejaVuSans-46\"/>\r\n       <use x=\"95.410156\" xlink:href=\"#DejaVuSans-48\"/>\r\n      </g>\r\n     </g>\r\n    </g>\r\n    <g id=\"ytick_8\">\r\n     <g id=\"line2d_17\">\r\n      <g>\r\n       <use style=\"stroke:#000000;stroke-width:0.8;\" x=\"30.103125\" xlink:href=\"#ma0f616fa60\" y=\"43.419744\"/>\r\n      </g>\r\n     </g>\r\n     <g id=\"text_17\">\r\n      <!-- 3.5 -->\r\n      <g transform=\"translate(7.2 47.218963)scale(0.1 -0.1)\">\r\n       <use xlink:href=\"#DejaVuSans-51\"/>\r\n       <use x=\"63.623047\" xlink:href=\"#DejaVuSans-46\"/>\r\n       <use x=\"95.410156\" xlink:href=\"#DejaVuSans-53\"/>\r\n      </g>\r\n     </g>\r\n    </g>\r\n    <g id=\"ytick_9\">\r\n     <g id=\"line2d_18\">\r\n      <g>\r\n       <use style=\"stroke:#000000;stroke-width:0.8;\" x=\"30.103125\" xlink:href=\"#ma0f616fa60\" y=\"18.943084\"/>\r\n      </g>\r\n     </g>\r\n     <g id=\"text_18\">\r\n      <!-- 4.0 -->\r\n      <g transform=\"translate(7.2 22.742303)scale(0.1 -0.1)\">\r\n       <defs>\r\n        <path d=\"M 37.796875 64.3125 \r\nL 12.890625 25.390625 \r\nL 37.796875 25.390625 \r\nz\r\nM 35.203125 72.90625 \r\nL 47.609375 72.90625 \r\nL 47.609375 25.390625 \r\nL 58.015625 25.390625 \r\nL 58.015625 17.1875 \r\nL 47.609375 17.1875 \r\nL 47.609375 0 \r\nL 37.796875 0 \r\nL 37.796875 17.1875 \r\nL 4.890625 17.1875 \r\nL 4.890625 26.703125 \r\nz\r\n\" id=\"DejaVuSans-52\"/>\r\n       </defs>\r\n       <use xlink:href=\"#DejaVuSans-52\"/>\r\n       <use x=\"63.623047\" xlink:href=\"#DejaVuSans-46\"/>\r\n       <use x=\"95.410156\" xlink:href=\"#DejaVuSans-48\"/>\r\n      </g>\r\n     </g>\r\n    </g>\r\n   </g>\r\n   <g id=\"line2d_19\">\r\n    <path clip-path=\"url(#pc8e5491ae2)\" d=\"M 45.321307 210.760538 \r\nL 46.843125 17.083636 \r\nL 48.364943 20.294552 \r\nL 49.886761 20.229487 \r\nL 51.40858 22.655914 \r\nL 52.930398 20.836607 \r\nL 54.452216 21.098747 \r\nL 55.974034 22.934487 \r\nL 57.495852 21.663149 \r\nL 59.01767 21.339018 \r\nL 60.539489 23.237883 \r\nL 62.061307 20.841805 \r\nL 63.583125 21.499554 \r\nL 65.104943 22.535991 \r\nL 66.626761 23.139487 \r\nL 68.14858 23.018464 \r\nL 69.670398 22.40357 \r\nL 71.192216 23.003391 \r\nL 72.714034 23.434322 \r\nL 74.235852 25.877671 \r\nL 75.75767 26.171811 \r\nL 77.279489 27.435115 \r\nL 78.801307 24.930508 \r\nL 80.323125 31.721471 \r\nL 81.844943 32.277835 \r\nL 83.366761 28.493857 \r\nL 84.88858 28.922319 \r\nL 86.410398 33.573853 \r\nL 87.932216 35.639234 \r\nL 89.454034 35.265936 \r\nL 90.975852 33.146167 \r\nL 92.49767 33.604041 \r\nL 94.019489 36.866852 \r\nL 95.541307 38.796276 \r\nL 97.063125 37.6223 \r\nL 98.584943 35.303322 \r\nL 100.106761 39.081022 \r\nL 101.62858 38.735765 \r\nL 103.150398 45.081517 \r\nL 104.672216 40.298206 \r\nL 106.194034 40.213502 \r\nL 107.715852 47.30257 \r\nL 109.23767 44.402359 \r\nL 110.759489 52.931465 \r\nL 112.281307 52.220459 \r\nL 113.803125 54.72295 \r\nL 115.324943 48.068437 \r\nL 116.846761 56.060752 \r\nL 118.36858 59.879483 \r\nL 119.890398 59.10162 \r\nL 121.412216 62.309311 \r\nL 122.934034 67.204739 \r\nL 124.455852 69.356418 \r\nL 125.97767 59.597229 \r\nL 127.499489 66.175495 \r\nL 129.021307 69.984928 \r\nL 130.543125 80.412309 \r\nL 132.064943 75.273137 \r\nL 133.586761 86.780137 \r\nL 135.10858 88.495474 \r\nL 136.630398 82.495873 \r\nL 138.152216 89.119555 \r\nL 139.674034 88.707724 \r\nL 141.195852 92.628312 \r\nL 142.71767 99.049975 \r\nL 144.239489 92.561218 \r\nL 145.761307 96.251453 \r\nL 147.283125 100.27627 \r\nL 150.326761 100.242921 \r\nL 151.84858 108.1651 \r\nL 153.370398 110.727706 \r\nL 154.892216 111.29215 \r\nL 156.414034 100.569142 \r\nL 157.935852 108.00734 \r\nL 159.45767 102.767949 \r\nL 160.979489 102.681415 \r\nL 162.501307 105.141812 \r\nL 164.023125 116.923955 \r\nL 165.544943 103.225305 \r\nL 167.066761 111.899787 \r\nL 168.58858 106.092908 \r\nL 170.110398 111.292268 \r\nL 171.632216 108.20453 \r\nL 173.154034 118.862958 \r\nL 174.675852 120.285353 \r\nL 176.19767 121.861763 \r\nL 177.719489 128.045795 \r\nL 179.241307 107.348191 \r\nL 180.763125 122.217847 \r\nL 182.284943 128.719543 \r\nL 183.806761 129.981493 \r\nL 185.32858 133.3128 \r\nL 186.850398 126.307667 \r\nL 188.372216 131.503895 \r\nL 189.894034 123.942234 \r\nL 191.415852 137.7492 \r\nL 192.93767 131.228199 \r\nL 194.459489 139.428004 \r\nL 195.981307 143.256034 \r\nL 197.503125 136.02898 \r\nL 199.024943 147.137984 \r\nL 200.546761 141.524616 \r\nL 202.06858 141.780108 \r\nL 203.590398 140.957673 \r\nL 205.112216 153.514717 \r\nL 206.634034 144.20849 \r\nL 208.155852 140.464866 \r\nL 209.67767 140.014337 \r\nL 211.199489 147.470903 \r\nL 212.721307 148.559797 \r\nL 214.243125 148.981006 \r\nL 215.764943 152.668634 \r\nL 217.286761 149.568927 \r\nL 218.80858 150.729171 \r\nL 220.330398 160.387151 \r\nL 221.852216 156.426267 \r\nL 223.374034 162.194339 \r\nL 224.895852 156.889388 \r\nL 226.41767 158.816689 \r\nL 227.939489 160.173203 \r\nL 229.461307 162.379015 \r\nL 230.983125 162.488758 \r\nL 232.504943 164.68147 \r\nL 234.026761 160.398369 \r\nL 235.54858 162.848788 \r\nL 237.070398 163.082417 \r\nL 238.592216 163.136906 \r\nL 240.114034 163.971642 \r\nL 241.635852 166.940566 \r\nL 243.15767 166.358671 \r\nL 244.679489 163.689997 \r\nL 246.201307 168.726138 \r\nL 247.723125 168.668214 \r\nL 249.244943 168.491867 \r\nL 250.766761 170.103793 \r\nL 252.28858 173.231656 \r\nL 253.810398 171.495313 \r\nL 255.332216 172.091621 \r\nL 256.854034 172.170091 \r\nL 258.375852 170.846771 \r\nL 259.89767 172.202492 \r\nL 261.419489 169.653581 \r\nL 262.941307 175.295809 \r\nL 264.463125 173.657114 \r\nL 265.984943 175.964997 \r\nL 267.506761 174.543666 \r\nL 269.02858 175.234845 \r\nL 270.550398 177.259679 \r\nL 272.072216 178.57586 \r\nL 273.594034 177.664003 \r\nL 275.115852 179.890128 \r\nL 276.63767 176.589572 \r\nL 278.159489 179.264419 \r\nL 279.681307 178.677166 \r\nL 281.203125 178.908609 \r\nL 282.724943 180.75814 \r\nL 284.246761 178.330892 \r\nL 285.76858 178.118195 \r\nL 288.812216 180.808836 \r\nL 290.334034 178.417106 \r\nL 291.855852 183.027199 \r\nL 293.37767 181.395097 \r\nL 294.899489 181.90373 \r\nL 296.421307 183.839368 \r\nL 297.943125 184.122016 \r\nL 299.464943 182.815335 \r\nL 300.986761 182.447772 \r\nL 302.50858 185.15173 \r\nL 304.030398 186.718899 \r\nL 305.552216 183.615418 \r\nL 308.595852 185.844197 \r\nL 310.11767 185.101082 \r\nL 311.639489 185.710287 \r\nL 313.161307 186.862 \r\nL 314.683125 186.771946 \r\nL 316.204943 185.865847 \r\nL 317.726761 186.297363 \r\nL 319.24858 186.584127 \r\nL 320.770398 187.054613 \r\nL 322.292216 187.280423 \r\nL 323.814034 186.371915 \r\nL 325.335852 188.286071 \r\nL 326.85767 187.299196 \r\nL 328.379489 188.418915 \r\nL 329.901307 188.457525 \r\nL 331.423125 188.820977 \r\nL 332.944943 190.182162 \r\nL 334.466761 189.196493 \r\nL 335.98858 189.605151 \r\nL 337.510398 188.379126 \r\nL 339.032216 187.667884 \r\nL 340.554034 189.018466 \r\nL 342.075852 189.829109 \r\nL 343.59767 190.908624 \r\nL 345.119489 189.49704 \r\nL 346.641307 190.399871 \r\nL 348.163125 189.62296 \r\nL 349.684943 189.396111 \r\nL 349.684943 189.396111 \r\n\" style=\"fill:none;stroke:#1f77b4;stroke-linecap:square;stroke-width:1.5;\"/>\r\n   </g>\r\n   <g id=\"line2d_20\">\r\n    <path clip-path=\"url(#pc8e5491ae2)\" d=\"M 45.321307 214.756364 \r\nL 46.843125 214.756364 \r\nL 48.364943 213.777297 \r\nL 49.886761 214.756364 \r\nL 59.01767 214.756364 \r\nL 60.539489 213.777297 \r\nL 62.061307 214.756364 \r\nL 63.583125 213.777297 \r\nL 65.104943 214.756364 \r\nL 68.14858 214.756364 \r\nL 69.670398 213.777297 \r\nL 71.192216 214.756364 \r\nL 74.235852 214.756364 \r\nL 75.75767 213.777297 \r\nL 77.279489 214.756364 \r\nL 78.801307 213.777297 \r\nL 80.323125 213.777297 \r\nL 81.844943 214.756364 \r\nL 84.88858 214.756364 \r\nL 86.410398 212.798231 \r\nL 87.932216 213.777297 \r\nL 89.454034 212.798231 \r\nL 90.975852 214.756364 \r\nL 92.49767 210.840098 \r\nL 94.019489 212.798231 \r\nL 95.541307 211.819164 \r\nL 97.063125 213.777297 \r\nL 98.584943 212.798231 \r\nL 100.106761 210.840098 \r\nL 101.62858 209.861032 \r\nL 104.672216 213.777297 \r\nL 106.194034 210.840098 \r\nL 107.715852 211.819164 \r\nL 109.23767 208.881965 \r\nL 110.759489 209.861032 \r\nL 112.281307 211.819164 \r\nL 113.803125 207.902899 \r\nL 115.324943 207.902899 \r\nL 116.846761 208.881965 \r\nL 118.36858 204.9657 \r\nL 119.890398 203.986633 \r\nL 121.412216 201.049434 \r\nL 122.934034 201.049434 \r\nL 124.455852 200.070368 \r\nL 125.97767 205.944766 \r\nL 127.499489 203.007567 \r\nL 129.021307 204.9657 \r\nL 130.543125 196.154102 \r\nL 132.064943 199.091301 \r\nL 133.586761 194.195969 \r\nL 135.10858 191.25877 \r\nL 136.630398 202.0285 \r\nL 138.152216 195.175036 \r\nL 139.674034 198.112235 \r\nL 141.195852 192.237836 \r\nL 142.71767 192.237836 \r\nL 144.239489 195.175036 \r\nL 145.761307 188.321571 \r\nL 147.283125 196.154102 \r\nL 148.804943 196.154102 \r\nL 150.326761 193.216903 \r\nL 151.84858 194.195969 \r\nL 153.370398 188.321571 \r\nL 154.892216 190.279704 \r\nL 156.414034 198.112235 \r\nL 157.935852 191.25877 \r\nL 159.45767 196.154102 \r\nL 160.979489 199.091301 \r\nL 162.501307 196.154102 \r\nL 164.023125 187.342504 \r\nL 165.544943 192.237836 \r\nL 167.066761 192.237836 \r\nL 168.58858 195.175036 \r\nL 170.110398 195.175036 \r\nL 171.632216 196.154102 \r\nL 173.154034 189.300637 \r\nL 174.675852 189.300637 \r\nL 176.19767 187.342504 \r\nL 177.719489 182.447172 \r\nL 179.241307 198.112235 \r\nL 180.763125 189.300637 \r\nL 182.284943 183.426239 \r\nL 183.806761 188.321571 \r\nL 185.32858 183.426239 \r\nL 186.850398 185.384372 \r\nL 188.372216 185.384372 \r\nL 189.894034 191.25877 \r\nL 191.415852 183.426239 \r\nL 192.93767 186.363438 \r\nL 194.459489 179.509973 \r\nL 195.981307 177.55184 \r\nL 197.503125 178.530907 \r\nL 199.024943 173.635575 \r\nL 200.546761 180.48904 \r\nL 202.06858 175.593708 \r\nL 203.590398 174.614641 \r\nL 205.112216 170.698376 \r\nL 206.634034 174.614641 \r\nL 208.155852 173.635575 \r\nL 209.67767 170.698376 \r\nL 211.199489 169.719309 \r\nL 212.721307 165.803044 \r\nL 214.243125 168.740243 \r\nL 215.764943 168.740243 \r\nL 217.286761 165.803044 \r\nL 218.80858 171.677442 \r\nL 220.330398 166.78211 \r\nL 221.852216 165.803044 \r\nL 223.374034 165.803044 \r\nL 224.895852 167.761177 \r\nL 226.41767 166.78211 \r\nL 230.983125 166.78211 \r\nL 232.504943 167.761177 \r\nL 234.026761 167.761177 \r\nL 237.070398 165.803044 \r\nL 349.684943 165.803044 \r\nL 349.684943 165.803044 \r\n\" style=\"fill:none;stroke:#ff7f0e;stroke-linecap:square;stroke-width:1.5;\"/>\r\n   </g>\r\n   <g id=\"patch_3\">\r\n    <path d=\"M 30.103125 224.64 \r\nL 30.103125 7.2 \r\n\" style=\"fill:none;stroke:#000000;stroke-linecap:square;stroke-linejoin:miter;stroke-width:0.8;\"/>\r\n   </g>\r\n   <g id=\"patch_4\">\r\n    <path d=\"M 364.903125 224.64 \r\nL 364.903125 7.2 \r\n\" style=\"fill:none;stroke:#000000;stroke-linecap:square;stroke-linejoin:miter;stroke-width:0.8;\"/>\r\n   </g>\r\n   <g id=\"patch_5\">\r\n    <path d=\"M 30.103125 224.64 \r\nL 364.903125 224.64 \r\n\" style=\"fill:none;stroke:#000000;stroke-linecap:square;stroke-linejoin:miter;stroke-width:0.8;\"/>\r\n   </g>\r\n   <g id=\"patch_6\">\r\n    <path d=\"M 30.103125 7.2 \r\nL 364.903125 7.2 \r\n\" style=\"fill:none;stroke:#000000;stroke-linecap:square;stroke-linejoin:miter;stroke-width:0.8;\"/>\r\n   </g>\r\n   <g id=\"legend_1\">\r\n    <g id=\"patch_7\">\r\n     <path d=\"M 280.784375 44.55625 \r\nL 357.903125 44.55625 \r\nQ 359.903125 44.55625 359.903125 42.55625 \r\nL 359.903125 14.2 \r\nQ 359.903125 12.2 357.903125 12.2 \r\nL 280.784375 12.2 \r\nQ 278.784375 12.2 278.784375 14.2 \r\nL 278.784375 42.55625 \r\nQ 278.784375 44.55625 280.784375 44.55625 \r\nz\r\n\" style=\"fill:#ffffff;opacity:0.8;stroke:#cccccc;stroke-linejoin:miter;\"/>\r\n    </g>\r\n    <g id=\"line2d_21\">\r\n     <path d=\"M 282.784375 20.298437 \r\nL 302.784375 20.298437 \r\n\" style=\"fill:none;stroke:#1f77b4;stroke-linecap:square;stroke-width:1.5;\"/>\r\n    </g>\r\n    <g id=\"line2d_22\"/>\r\n    <g id=\"text_19\">\r\n     <!-- error -->\r\n     <g transform=\"translate(310.784375 23.798437)scale(0.1 -0.1)\">\r\n      <defs>\r\n       <path d=\"M 56.203125 29.59375 \r\nL 56.203125 25.203125 \r\nL 14.890625 25.203125 \r\nQ 15.484375 15.921875 20.484375 11.0625 \r\nQ 25.484375 6.203125 34.421875 6.203125 \r\nQ 39.59375 6.203125 44.453125 7.46875 \r\nQ 49.3125 8.734375 54.109375 11.28125 \r\nL 54.109375 2.78125 \r\nQ 49.265625 0.734375 44.1875 -0.34375 \r\nQ 39.109375 -1.421875 33.890625 -1.421875 \r\nQ 20.796875 -1.421875 13.15625 6.1875 \r\nQ 5.515625 13.8125 5.515625 26.8125 \r\nQ 5.515625 40.234375 12.765625 48.109375 \r\nQ 20.015625 56 32.328125 56 \r\nQ 43.359375 56 49.78125 48.890625 \r\nQ 56.203125 41.796875 56.203125 29.59375 \r\nz\r\nM 47.21875 32.234375 \r\nQ 47.125 39.59375 43.09375 43.984375 \r\nQ 39.0625 48.390625 32.421875 48.390625 \r\nQ 24.90625 48.390625 20.390625 44.140625 \r\nQ 15.875 39.890625 15.1875 32.171875 \r\nz\r\n\" id=\"DejaVuSans-101\"/>\r\n       <path d=\"M 41.109375 46.296875 \r\nQ 39.59375 47.171875 37.8125 47.578125 \r\nQ 36.03125 48 33.890625 48 \r\nQ 26.265625 48 22.1875 43.046875 \r\nQ 18.109375 38.09375 18.109375 28.8125 \r\nL 18.109375 0 \r\nL 9.078125 0 \r\nL 9.078125 54.6875 \r\nL 18.109375 54.6875 \r\nL 18.109375 46.1875 \r\nQ 20.953125 51.171875 25.484375 53.578125 \r\nQ 30.03125 56 36.53125 56 \r\nQ 37.453125 56 38.578125 55.875 \r\nQ 39.703125 55.765625 41.0625 55.515625 \r\nz\r\n\" id=\"DejaVuSans-114\"/>\r\n       <path d=\"M 30.609375 48.390625 \r\nQ 23.390625 48.390625 19.1875 42.75 \r\nQ 14.984375 37.109375 14.984375 27.296875 \r\nQ 14.984375 17.484375 19.15625 11.84375 \r\nQ 23.34375 6.203125 30.609375 6.203125 \r\nQ 37.796875 6.203125 41.984375 11.859375 \r\nQ 46.1875 17.53125 46.1875 27.296875 \r\nQ 46.1875 37.015625 41.984375 42.703125 \r\nQ 37.796875 48.390625 30.609375 48.390625 \r\nz\r\nM 30.609375 56 \r\nQ 42.328125 56 49.015625 48.375 \r\nQ 55.71875 40.765625 55.71875 27.296875 \r\nQ 55.71875 13.875 49.015625 6.21875 \r\nQ 42.328125 -1.421875 30.609375 -1.421875 \r\nQ 18.84375 -1.421875 12.171875 6.21875 \r\nQ 5.515625 13.875 5.515625 27.296875 \r\nQ 5.515625 40.765625 12.171875 48.375 \r\nQ 18.84375 56 30.609375 56 \r\nz\r\n\" id=\"DejaVuSans-111\"/>\r\n      </defs>\r\n      <use xlink:href=\"#DejaVuSans-101\"/>\r\n      <use x=\"61.523438\" xlink:href=\"#DejaVuSans-114\"/>\r\n      <use x=\"100.886719\" xlink:href=\"#DejaVuSans-114\"/>\r\n      <use x=\"139.75\" xlink:href=\"#DejaVuSans-111\"/>\r\n      <use x=\"200.931641\" xlink:href=\"#DejaVuSans-114\"/>\r\n     </g>\r\n    </g>\r\n    <g id=\"line2d_23\">\r\n     <path d=\"M 282.784375 34.976562 \r\nL 302.784375 34.976562 \r\n\" style=\"fill:none;stroke:#ff7f0e;stroke-linecap:square;stroke-width:1.5;\"/>\r\n    </g>\r\n    <g id=\"line2d_24\"/>\r\n    <g id=\"text_20\">\r\n     <!-- accuracy -->\r\n     <g transform=\"translate(310.784375 38.476562)scale(0.1 -0.1)\">\r\n      <defs>\r\n       <path d=\"M 34.28125 27.484375 \r\nQ 23.390625 27.484375 19.1875 25 \r\nQ 14.984375 22.515625 14.984375 16.5 \r\nQ 14.984375 11.71875 18.140625 8.90625 \r\nQ 21.296875 6.109375 26.703125 6.109375 \r\nQ 34.1875 6.109375 38.703125 11.40625 \r\nQ 43.21875 16.703125 43.21875 25.484375 \r\nL 43.21875 27.484375 \r\nz\r\nM 52.203125 31.203125 \r\nL 52.203125 0 \r\nL 43.21875 0 \r\nL 43.21875 8.296875 \r\nQ 40.140625 3.328125 35.546875 0.953125 \r\nQ 30.953125 -1.421875 24.3125 -1.421875 \r\nQ 15.921875 -1.421875 10.953125 3.296875 \r\nQ 6 8.015625 6 15.921875 \r\nQ 6 25.140625 12.171875 29.828125 \r\nQ 18.359375 34.515625 30.609375 34.515625 \r\nL 43.21875 34.515625 \r\nL 43.21875 35.40625 \r\nQ 43.21875 41.609375 39.140625 45 \r\nQ 35.0625 48.390625 27.6875 48.390625 \r\nQ 23 48.390625 18.546875 47.265625 \r\nQ 14.109375 46.140625 10.015625 43.890625 \r\nL 10.015625 52.203125 \r\nQ 14.9375 54.109375 19.578125 55.046875 \r\nQ 24.21875 56 28.609375 56 \r\nQ 40.484375 56 46.34375 49.84375 \r\nQ 52.203125 43.703125 52.203125 31.203125 \r\nz\r\n\" id=\"DejaVuSans-97\"/>\r\n       <path d=\"M 48.78125 52.59375 \r\nL 48.78125 44.1875 \r\nQ 44.96875 46.296875 41.140625 47.34375 \r\nQ 37.3125 48.390625 33.40625 48.390625 \r\nQ 24.65625 48.390625 19.8125 42.84375 \r\nQ 14.984375 37.3125 14.984375 27.296875 \r\nQ 14.984375 17.28125 19.8125 11.734375 \r\nQ 24.65625 6.203125 33.40625 6.203125 \r\nQ 37.3125 6.203125 41.140625 7.25 \r\nQ 44.96875 8.296875 48.78125 10.40625 \r\nL 48.78125 2.09375 \r\nQ 45.015625 0.34375 40.984375 -0.53125 \r\nQ 36.96875 -1.421875 32.421875 -1.421875 \r\nQ 20.0625 -1.421875 12.78125 6.34375 \r\nQ 5.515625 14.109375 5.515625 27.296875 \r\nQ 5.515625 40.671875 12.859375 48.328125 \r\nQ 20.21875 56 33.015625 56 \r\nQ 37.15625 56 41.109375 55.140625 \r\nQ 45.0625 54.296875 48.78125 52.59375 \r\nz\r\n\" id=\"DejaVuSans-99\"/>\r\n       <path d=\"M 8.5 21.578125 \r\nL 8.5 54.6875 \r\nL 17.484375 54.6875 \r\nL 17.484375 21.921875 \r\nQ 17.484375 14.15625 20.5 10.265625 \r\nQ 23.53125 6.390625 29.59375 6.390625 \r\nQ 36.859375 6.390625 41.078125 11.03125 \r\nQ 45.3125 15.671875 45.3125 23.6875 \r\nL 45.3125 54.6875 \r\nL 54.296875 54.6875 \r\nL 54.296875 0 \r\nL 45.3125 0 \r\nL 45.3125 8.40625 \r\nQ 42.046875 3.421875 37.71875 1 \r\nQ 33.40625 -1.421875 27.6875 -1.421875 \r\nQ 18.265625 -1.421875 13.375 4.4375 \r\nQ 8.5 10.296875 8.5 21.578125 \r\nz\r\nM 31.109375 56 \r\nz\r\n\" id=\"DejaVuSans-117\"/>\r\n       <path d=\"M 32.171875 -5.078125 \r\nQ 28.375 -14.84375 24.75 -17.8125 \r\nQ 21.140625 -20.796875 15.09375 -20.796875 \r\nL 7.90625 -20.796875 \r\nL 7.90625 -13.28125 \r\nL 13.1875 -13.28125 \r\nQ 16.890625 -13.28125 18.9375 -11.515625 \r\nQ 21 -9.765625 23.484375 -3.21875 \r\nL 25.09375 0.875 \r\nL 2.984375 54.6875 \r\nL 12.5 54.6875 \r\nL 29.59375 11.921875 \r\nL 46.6875 54.6875 \r\nL 56.203125 54.6875 \r\nz\r\n\" id=\"DejaVuSans-121\"/>\r\n      </defs>\r\n      <use xlink:href=\"#DejaVuSans-97\"/>\r\n      <use x=\"61.279297\" xlink:href=\"#DejaVuSans-99\"/>\r\n      <use x=\"116.259766\" xlink:href=\"#DejaVuSans-99\"/>\r\n      <use x=\"171.240234\" xlink:href=\"#DejaVuSans-117\"/>\r\n      <use x=\"234.619141\" xlink:href=\"#DejaVuSans-114\"/>\r\n      <use x=\"275.732422\" xlink:href=\"#DejaVuSans-97\"/>\r\n      <use x=\"337.011719\" xlink:href=\"#DejaVuSans-99\"/>\r\n      <use x=\"391.992188\" xlink:href=\"#DejaVuSans-121\"/>\r\n     </g>\r\n    </g>\r\n   </g>\r\n  </g>\r\n </g>\r\n <defs>\r\n  <clipPath id=\"pc8e5491ae2\">\r\n   <rect height=\"217.44\" width=\"334.8\" x=\"30.103125\" y=\"7.2\"/>\r\n  </clipPath>\r\n </defs>\r\n</svg>\r\n",
      "image/png": "[encoded data removed]"
     },
     "metadata": {
      "needs_background": "light"
     }
    }
   ],
   "source": [
    "plt.plot(errs, label='error')\n",
    "plt.plot(accs, label='accuracy')\n",
    "plt.legend()"
   ]
  }
 ],
 "metadata": {
  "kernelspec": {
   "display_name": "Python 3",
   "language": "python",
   "name": "python3"
  },
  "language_info": {
   "codemirror_mode": {
    "name": "ipython",
    "version": 3
   },
   "file_extension": ".py",
   "mimetype": "text/x-python",
   "name": "python",
   "nbconvert_exporter": "python",
   "pygments_lexer": "ipython3",
   "version": "3.7.9-final"
  }
 },
 "nbformat": 4,
 "nbformat_minor": 2
}