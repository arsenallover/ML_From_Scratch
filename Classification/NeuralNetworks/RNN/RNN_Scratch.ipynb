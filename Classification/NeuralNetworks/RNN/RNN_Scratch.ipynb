{
 "metadata": {
  "language_info": {
   "codemirror_mode": {
    "name": "ipython",
    "version": 3
   },
   "file_extension": ".py",
   "mimetype": "text/x-python",
   "name": "python",
   "nbconvert_exporter": "python",
   "pygments_lexer": "ipython3",
   "version": "3.7.9-final"
  },
  "orig_nbformat": 2,
  "kernelspec": {
   "name": "Python 3.7.9 64-bit ('tf2.0': conda)",
   "display_name": "Python 3.7.9 64-bit ('tf2.0': conda)",
   "metadata": {
    "interpreter": {
     "hash": "22b3a9e511cc71c7e8c0c199ed3ba2f3f697f01009167188cfc9ddfa1a3c5b27"
    }
   }
  }
 },
 "nbformat": 4,
 "nbformat_minor": 2,
 "cells": [
  {
   "cell_type": "code",
   "execution_count": 59,
   "metadata": {},
   "outputs": [
    {
     "output_type": "stream",
     "name": "stdout",
     "text": [
      "18 unique words found\n"
     ]
    }
   ],
   "source": [
    "from data import train_data, test_data\n",
    "\n",
    "# Create the vocabulary.\n",
    "vocab = list(set([w for text in train_data.keys() for w in text.split(' ')]))\n",
    "vocab_size = len(vocab)\n",
    "print('%d unique words found' % vocab_size) # 18 unique words found"
   ]
  },
  {
   "cell_type": "code",
   "execution_count": 60,
   "metadata": {},
   "outputs": [
    {
     "output_type": "stream",
     "name": "stdout",
     "text": [
      "12\nand\n"
     ]
    }
   ],
   "source": [
    "# Assign indices to each word.\n",
    "word_to_idx = { w: i for i, w in enumerate(vocab) }\n",
    "idx_to_word = { i: w for i, w in enumerate(vocab) }\n",
    "print(word_to_idx['good']) # 16 (this may change)\n",
    "print(idx_to_word[0]) # sad (this may change)"
   ]
  },
  {
   "cell_type": "code",
   "execution_count": 61,
   "metadata": {},
   "outputs": [],
   "source": [
    "import numpy as np\n",
    "\n",
    "def createInputs(text):\n",
    "  '''\n",
    "  Returns an array of one-hot vectors representing the words\n",
    "  in the input text string.\n",
    "  - text is a string\n",
    "  - Each one-hot vector has shape (vocab_size, 1)\n",
    "  '''\n",
    "  inputs = []\n",
    "  for w in text.split(' '):\n",
    "    v = np.zeros((vocab_size, 1))\n",
    "    v[word_to_idx[w]] = 1\n",
    "    inputs.append(v)\n",
    "  return inputs"
   ]
  },
  {
   "cell_type": "code",
   "execution_count": 62,
   "metadata": {},
   "outputs": [],
   "source": [
    "## Forward Prop\n",
    "\n",
    "import numpy as np\n",
    "\n",
    "class RNN:\n",
    "    def __init__(self, input_size, output_size, hidden_size = 64):\n",
    "\n",
    "        self.Whh = np.random.randn(hidden_size, hidden_size)/1000\n",
    "        self.Whx = np.random.randn(hidden_size, input_size)/1000        \n",
    "        self.Why = np.random.randn(output_size, hidden_size)/1000\n",
    "\n",
    "        self.bh = np.zeros((hidden_size,1))\n",
    "        self.by = np.zeros((output_size,1))\n",
    "\n",
    "    def forward(self, inputs):\n",
    "\n",
    "        h = np.zeros((self.Whh.shape[0], 1))\n",
    "\n",
    "        self.last_inputs = inputs\n",
    "        self.last_hs = {0 : h}\n",
    "\n",
    "        for i, x in enumerate(inputs):\n",
    "            h = np.tanh(self.Whx @ x + self.Whh @ h + self.bh)      \n",
    "            self.last_hs[i + 1] = h\n",
    "        \n",
    "        y = self.Why @ h + self.by\n",
    "\n",
    "        return y, h\n",
    "\n",
    "    def backward(self, dl_y, learning_rate = 2e-2):\n",
    "        ''' Performs derivatives of parameters -> Whx, Whh, Why, bhy, bhh \n",
    "        - Inputs d_y : derivative of softmax'''\n",
    "        n = len(self.last_inputs)\n",
    "\n",
    "        dl_Why = dl_y @ self.last_hs[n].T\n",
    "        dl_by = dl_y\n",
    "\n",
    "        # Initialize values\n",
    "        dl_Whh = np.zeros(self.Whh.shape)\n",
    "        dl_Whx = np.zeros(self.Whx.shape)\n",
    "        dl_bh = np.zeros(self.bh.shape)\n",
    "\n",
    "        # Last state\n",
    "        dl_h = self.Why.T @ dl_y\n",
    "\n",
    "        # Backprop through time\n",
    "        for t in reversed(range(n)):\n",
    "            # An intermediate value: dL/dh * (1 - h^2)\n",
    "            temp = ((1 - self.last_hs[t + 1] ** 2) * dl_h)\n",
    "\n",
    "            dl_bh += temp\n",
    "\n",
    "            dl_Whh += temp @ self.last_hs[t].T\n",
    "\n",
    "            dl_Whx += temp @ self.last_inputs[t].T\n",
    "\n",
    "            dl_h += self.Whh @ temp\n",
    "        \n",
    "        # Clip grad\n",
    "        for d in [dl_Whx, dl_Why, dl_Whh, dl_bh,\n",
    "         dl_by]:\n",
    "            np.clip(d, -1, 1, out = d)\n",
    "\n",
    "        # Update Weights\n",
    "        self.Whh -= learning_rate * dl_Whh\n",
    "        self.Whx -= learning_rate * dl_Whx\n",
    "        self.Why -= learning_rate * dl_Why\n",
    "        self.bh -= learning_rate * dl_bh\n",
    "        self.by -= learning_rate * dl_by\n",
    "\n",
    "# Training loop\n",
    "rnn = RNN(vocab_size, 2)"
   ]
  },
  {
   "cell_type": "code",
   "execution_count": 63,
   "metadata": {},
   "outputs": [],
   "source": [
    "import random\n",
    "\n",
    "def processData(data, backprop=True):\n",
    "  '''\n",
    "  Returns the RNN's loss and accuracy for the given data.\n",
    "  - data is a dictionary mapping text to True or False.\n",
    "  - backprop determines if the backward phase should be run.\n",
    "  '''\n",
    "  items = list(data.items())\n",
    "  random.shuffle(items)\n",
    "\n",
    "  loss = 0\n",
    "  num_correct = 0\n",
    "\n",
    "  for x, y in items:\n",
    "    inputs = createInputs(x)\n",
    "    target = int(y)\n",
    "\n",
    "    # Forward\n",
    "    out, _ = rnn.forward(inputs)\n",
    "    probs = softmax(out)\n",
    "\n",
    "    # Calculate loss / accuracy\n",
    "    loss -= np.log(probs[target])\n",
    "    num_correct += int(np.argmax(probs) == target)\n",
    "\n",
    "    if backprop:\n",
    "      # Build dL/dy\n",
    "      dl_dy = probs\n",
    "      dl_dy[target] -= 1\n",
    "      # Backward\n",
    "      rnn.backward(dl_dy)\n",
    "\n",
    "  return loss / len(data), num_correct / len(data)"
   ]
  },
  {
   "cell_type": "code",
   "execution_count": 64,
   "metadata": {},
   "outputs": [],
   "source": [
    "def softmax(xs):\n",
    "    return np.exp(xs)/np.sum(np.exp(xs))"
   ]
  },
  {
   "cell_type": "code",
   "execution_count": 65,
   "metadata": {
    "tags": []
   },
   "outputs": [
    {
     "output_type": "stream",
     "name": "stdout",
     "text": [
      "--- Epoch 100\n",
      "Train:\tLoss 0.692 | Accuracy: 0.552\n",
      "Test:\tLoss 0.705 | Accuracy: 0.500\n",
      "--- Epoch 200\n",
      "Train:\tLoss 0.518 | Accuracy: 0.776\n",
      "Test:\tLoss 0.604 | Accuracy: 0.650\n",
      "--- Epoch 300\n",
      "Train:\tLoss 0.745 | Accuracy: 0.672\n",
      "Test:\tLoss 0.646 | Accuracy: 0.700\n",
      "--- Epoch 400\n",
      "Train:\tLoss 0.819 | Accuracy: 0.690\n",
      "Test:\tLoss 0.927 | Accuracy: 0.500\n",
      "--- Epoch 500\n",
      "Train:\tLoss 0.372 | Accuracy: 0.793\n",
      "Test:\tLoss 0.375 | Accuracy: 0.850\n",
      "--- Epoch 600\n",
      "Train:\tLoss 0.417 | Accuracy: 0.828\n",
      "Test:\tLoss 0.612 | Accuracy: 0.850\n",
      "--- Epoch 700\n",
      "Train:\tLoss 0.005 | Accuracy: 1.000\n",
      "Test:\tLoss 0.011 | Accuracy: 1.000\n",
      "--- Epoch 800\n",
      "Train:\tLoss 0.002 | Accuracy: 1.000\n",
      "Test:\tLoss 0.006 | Accuracy: 1.000\n",
      "--- Epoch 900\n",
      "Train:\tLoss 0.001 | Accuracy: 1.000\n",
      "Test:\tLoss 0.004 | Accuracy: 1.000\n",
      "--- Epoch 1000\n",
      "Train:\tLoss 0.001 | Accuracy: 1.000\n",
      "Test:\tLoss 0.003 | Accuracy: 1.000\n"
     ]
    }
   ],
   "source": [
    "for epoch in range(1000):\n",
    "    # print(epoch)\n",
    "    train_loss, train_acc = processData(train_data)\n",
    "\n",
    "    if epoch % 100 == 99:\n",
    "        print('--- Epoch %d' % (epoch + 1))\n",
    "        print('Train:\\tLoss %.3f | Accuracy: %.3f' % (train_loss, train_acc))\n",
    "\n",
    "        test_loss, test_acc = processData(test_data, backprop=False)\n",
    "        print('Test:\\tLoss %.3f | Accuracy: %.3f' % (test_loss, test_acc))"
   ]
  },
  {
   "source": [
    "## Example 2 : Num of times \"1\" in sequence"
   ],
   "cell_type": "markdown",
   "metadata": {}
  },
  {
   "cell_type": "code",
   "execution_count": 66,
   "metadata": {},
   "outputs": [],
   "source": [
    "# Create dataset\n",
    "nb_of_samples = 20\n",
    "sequence_len = 10\n",
    "# Create the sequences\n",
    "X = np.zeros((nb_of_samples, sequence_len))\n",
    "for row_idx in range(nb_of\n",
    "\n",
    "_samples):\n",
    "    X[row_idx,:] = np.around(np.random.rand(sequence_len)).astype(int)\n",
    "# Create the targets for each sequence\n",
    "t = np.sum(X, axis=1)"
   ]
  },
  {
   "cell_type": "code",
   "execution_count": 67,
   "metadata": {},
   "outputs": [],
   "source": [
    "## Forward Prop\n",
    "\n",
    "import numpy as np\n",
    "\n",
    "class RNN:\n",
    "    def __init__(self, input_size, output_size, hidden_size = 64):\n",
    "\n",
    "        self.Whh = np.random.randn(hidden_size, hidden_size)/1000\n",
    "        self.Whx = np.random.randn(hidden_size, input_size)/1000        \n",
    "        self.Why = np.random.randn(output_size, hidden_size)/1000\n",
    "\n",
    "        self.bh = np.zeros((hidden_size,1))\n",
    "        self.by = np.zeros((output_size,1))\n",
    "\n",
    "        self.input_size = input_size\n",
    "\n",
    "    def forward(self, inputs):\n",
    "\n",
    "        h = np.zeros((self.Whh.shape[0], 1))\n",
    "        self.last_inputs = inputs\n",
    "        self.last_hs = {0 : h}\n",
    "\n",
    "        for i, x in enumerate(inputs):\n",
    "            h = np.tanh(self.Whx @ x.reshape(-1, 1) + self.Whh @ h + self.bh)    \n",
    "            self.last_hs[i + 1] = h\n",
    "        \n",
    "        y = self.Why @ h + self.by\n",
    "        print(y.shape)\n",
    "        return y, h\n",
    "\n",
    "    def backward(self, dl_y, learning_rate = 2e-2):\n",
    "        ''' Performs derivatives of parameters -> Whx, Whh, Why, bhy, bhh \n",
    "        - Inputs d_y : derivative of softmax'''\n",
    "        n = len(self.last_inputs)\n",
    "        print(self.last_hs[n].T.shape)\n",
    "        dl_Why = dl_y @ self.last_hs[n].T\n",
    "        dl_by = dl_y\n",
    "\n",
    "        # Initialize values\n",
    "        dl_Whh = np.zeros(self.Whh.shape)\n",
    "        dl_Whx = np.zeros(self.Whx.shape)\n",
    "        dl_bh = np.zeros(self.bh.shape)\n",
    "\n",
    "        # Last state\n",
    "        print(self.Why.T.shape, dl_y.shape)\n",
    "        dl_h = self.Why.T @ dl_y\n",
    "\n",
    "        # Backprop through time\n",
    "        for t in reversed(range(n)):\n",
    "            # An intermediate value: dL/dh * (1 - h^2)\n",
    "            temp = ((1 - self.last_hs[t + 1] ** 2) * dl_h)\n",
    "\n",
    "            dl_bh += temp\n",
    "\n",
    "            dl_Whh += temp @ self.last_hs[t].T\n",
    "\n",
    "            dl_Whx += temp @ self.last_inputs[t].T\n",
    "\n",
    "            dl_h += self.Whh @ temp\n",
    "        \n",
    "        # Clip grad\n",
    "        for d in [dl_Whx, dl_Why, dl_Whh, dl_bh,\n",
    "         dl_by]:\n",
    "            np.clip(d, -1, 1, out = d)\n",
    "\n",
    "        # Update Weights\n",
    "        self.Whh -= learning_rate * dl_Whh\n",
    "        self.Whx -= learning_rate * dl_Whx\n",
    "        self.Why -= learning_rate * dl_Why\n",
    "        self.bh -= learning_rate * dl_bh\n",
    "        self.by -= learning_rate * dl_by"
   ]
  },
  {
   "cell_type": "code",
   "execution_count": 48,
   "metadata": {},
   "outputs": [
    {
     "output_type": "stream",
     "name": "stdout",
     "text": [
      "(1, 1)\n(1, 64)\n"
     ]
    },
    {
     "output_type": "error",
     "ename": "ValueError",
     "evalue": "matmul: Input operand 0 does not have enough dimensions (has 0, gufunc core with signature (n?,k),(k,m?)->(n?,m?) requires 1)",
     "traceback": [
      "\u001b[1;31m---------------------------------------------------------------------------\u001b[0m",
      "\u001b[1;31mValueError\u001b[0m                                Traceback (most recent call last)",
      "\u001b[1;32m<ipython-input-48-753556d54ffb>\u001b[0m in \u001b[0;36m<module>\u001b[1;34m\u001b[0m\n\u001b[0;32m      6\u001b[0m     \u001b[0mdl_dy\u001b[0m \u001b[1;33m=\u001b[0m \u001b[0mnp\u001b[0m\u001b[1;33m.\u001b[0m\u001b[0msum\u001b[0m\u001b[1;33m(\u001b[0m\u001b[1;33m(\u001b[0m\u001b[0mout\u001b[0m \u001b[1;33m-\u001b[0m \u001b[0mt\u001b[0m\u001b[1;33m)\u001b[0m\u001b[1;33m.\u001b[0m\u001b[0mreshape\u001b[0m\u001b[1;33m(\u001b[0m\u001b[1;33m-\u001b[0m\u001b[1;36m1\u001b[0m\u001b[1;33m,\u001b[0m \u001b[1;36m1\u001b[0m\u001b[1;33m)\u001b[0m\u001b[1;33m)\u001b[0m\u001b[1;33m\u001b[0m\u001b[1;33m\u001b[0m\u001b[0m\n\u001b[0;32m      7\u001b[0m \u001b[1;33m\u001b[0m\u001b[0m\n\u001b[1;32m----> 8\u001b[1;33m     \u001b[0mrnn\u001b[0m\u001b[1;33m.\u001b[0m\u001b[0mbackward\u001b[0m\u001b[1;33m(\u001b[0m\u001b[0mdl_dy\u001b[0m\u001b[1;33m)\u001b[0m\u001b[1;33m\u001b[0m\u001b[1;33m\u001b[0m\u001b[0m\n\u001b[0m\u001b[0;32m      9\u001b[0m     \u001b[0mprint\u001b[0m\u001b[1;33m(\u001b[0m\u001b[0mloss\u001b[0m\u001b[1;33m)\u001b[0m\u001b[1;33m\u001b[0m\u001b[1;33m\u001b[0m\u001b[0m\n",
      "\u001b[1;32m<ipython-input-45-91cc9ffabcfb>\u001b[0m in \u001b[0;36mbackward\u001b[1;34m(self, dl_y, learning_rate)\u001b[0m\n\u001b[0;32m     34\u001b[0m         \u001b[0mn\u001b[0m \u001b[1;33m=\u001b[0m \u001b[0mlen\u001b[0m\u001b[1;33m(\u001b[0m\u001b[0mself\u001b[0m\u001b[1;33m.\u001b[0m\u001b[0mlast_inputs\u001b[0m\u001b[1;33m)\u001b[0m\u001b[1;33m\u001b[0m\u001b[1;33m\u001b[0m\u001b[0m\n\u001b[0;32m     35\u001b[0m         \u001b[0mprint\u001b[0m\u001b[1;33m(\u001b[0m\u001b[0mself\u001b[0m\u001b[1;33m.\u001b[0m\u001b[0mlast_hs\u001b[0m\u001b[1;33m[\u001b[0m\u001b[0mn\u001b[0m\u001b[1;33m]\u001b[0m\u001b[1;33m.\u001b[0m\u001b[0mT\u001b[0m\u001b[1;33m.\u001b[0m\u001b[0mshape\u001b[0m\u001b[1;33m)\u001b[0m\u001b[1;33m\u001b[0m\u001b[1;33m\u001b[0m\u001b[0m\n\u001b[1;32m---> 36\u001b[1;33m         \u001b[0mdl_Why\u001b[0m \u001b[1;33m=\u001b[0m \u001b[0mdl_y\u001b[0m \u001b[1;33m@\u001b[0m \u001b[0mself\u001b[0m\u001b[1;33m.\u001b[0m\u001b[0mlast_hs\u001b[0m\u001b[1;33m[\u001b[0m\u001b[0mn\u001b[0m\u001b[1;33m]\u001b[0m\u001b[1;33m.\u001b[0m\u001b[0mT\u001b[0m\u001b[1;33m\u001b[0m\u001b[1;33m\u001b[0m\u001b[0m\n\u001b[0m\u001b[0;32m     37\u001b[0m         \u001b[0mdl_by\u001b[0m \u001b[1;33m=\u001b[0m \u001b[0mdl_y\u001b[0m\u001b[1;33m\u001b[0m\u001b[1;33m\u001b[0m\u001b[0m\n\u001b[0;32m     38\u001b[0m \u001b[1;33m\u001b[0m\u001b[0m\n",
      "\u001b[1;31mValueError\u001b[0m: matmul: Input operand 0 does not have enough dimensions (has 0, gufunc core with signature (n?,k),(k,m?)->(n?,m?) requires 1)"
     ]
    }
   ],
   "source": [
    "rnn = RNN(input_size = 10, output_size = 1)\n",
    "for i in range(5):\n",
    "    for x \n",
    "    out, _ = rnn.forward(X)\n",
    "    \n",
    "    loss = (out - t)**2/2\n",
    "    dl_dy = (out - t).reshape(-1, 1)\n",
    "\n",
    "    rnn.backward(dl_dy)\n",
    "    print(loss)"
   ]
  },
  {
   "cell_type": "code",
   "execution_count": 39,
   "metadata": {},
   "outputs": [
    {
     "output_type": "execute_result",
     "data": {
      "text/plain": [
       "(1, 20)"
      ]
     },
     "metadata": {},
     "execution_count": 39
    }
   ],
   "source": [
    "dl_dy.shape"
   ]
  }
 ]
}