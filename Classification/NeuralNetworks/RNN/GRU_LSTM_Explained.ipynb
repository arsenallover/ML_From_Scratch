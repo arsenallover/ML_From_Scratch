{
 "metadata": {
  "language_info": {
   "codemirror_mode": {
    "name": "ipython",
    "version": 3
   },
   "file_extension": ".py",
   "mimetype": "text/x-python",
   "name": "python",
   "nbconvert_exporter": "python",
   "pygments_lexer": "ipython3",
   "version": 3
  },
  "orig_nbformat": 2
 },
 "nbformat": 4,
 "nbformat_minor": 2,
 "cells": [
  {
   "source": [
    "## Simplified GRU : Version 1\n",
    "\n",
    "* We saw RNN is directly connected to immediate past ie $h_t = f(h_{t-1})$ and not its previous pasts\n",
    "\n",
    "* To solve this we can consider the below equational form\n",
    "\n",
    "* $ h_t = (1 - \\lambda) \\circ g + \\lambda \\circ h_{t-1}  $ \n",
    "\n",
    "* where $g = W h_{t-1} + U x_t$ -> $ h_t$ is now combination of new output, g and old output, h\n",
    "\n",
    "* $\\lambda$ is scalar like gate to tune how much to retain or forget\n",
    "\n",
    "* $\\lambda$ = 0 -> plain RNN, $\\lambda$ = 1 -> Retain only memory"
   ],
   "cell_type": "markdown",
   "metadata": {}
  },
  {
   "source": [
    "## Simplified GRU : Version 2\n",
    "\n",
    "* $ h_t = (1 - f) \\circ g + f \\circ h_{t-1}  $ \n",
    "\n",
    "* f, forget gate is vector of state size -> it can account for each component in state like gate to tune\n",
    "\n",
    "* $f = \\sigma (W_f h_{t-1} + U_f x_t) $, $ f \\in (0, 1)$ -> sigmoid function"
   ],
   "cell_type": "markdown",
   "metadata": {}
  },
  {
   "source": [
    "GRU :\n",
    "\n",
    "* $ h_t = (1 - f) \\circ g + f \\circ h_{t-1}  $ \n",
    "\n",
    "* $ g = tanh [W_g (r \\circ h_{t-1}) + U_g x_{t}]  $ \n",
    "\n",
    "* $f = \\sigma (W_f h_{t-1} + U_f x_t) $\n",
    "\n",
    "* $r = \\sigma (W_r h_{t-1} + U_r x_t) $\n",
    "\n",
    "* Total Matrices are 6 : $ W_g, W_f, W_r, U_g, U_f, U_r $ \n",
    "\n",
    "* Gates for remember old state and forget old state"
   ],
   "cell_type": "markdown",
   "metadata": {}
  },
  {
   "source": [
    "## LSTM\n",
    "\n",
    "\n",
    "* $ c_t = f \\circ c_{t-1} + i \\circ g  $ \n",
    "\n",
    "* $ h_t = o \\circ tanh (c_t) + f \\circ h_{t-1}  $ \n",
    "\n",
    "* $g = tanh [W_g (r \\circ h_{t-1}) + U_g x_{t}]  $ \n",
    "\n",
    "* $f = \\sigma (W_f h_{t-1} + U_f x_t) $\n",
    "\n",
    "* $o = \\sigma (W_o h_{t-1} + U_o x_t) $\n",
    "\n",
    "* $i = \\sigma (W_i h_{t-1} + U_i x_t) $\n"
   ],
   "cell_type": "markdown",
   "metadata": {}
  }
 ]
}