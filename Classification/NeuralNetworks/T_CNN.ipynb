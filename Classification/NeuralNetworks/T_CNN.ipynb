{
 "metadata": {
  "language_info": {
   "codemirror_mode": {
    "name": "ipython",
    "version": 3
   },
   "file_extension": ".py",
   "mimetype": "text/x-python",
   "name": "python",
   "nbconvert_exporter": "python",
   "pygments_lexer": "ipython3",
   "version": 3
  },
  "orig_nbformat": 2
 },
 "nbformat": 4,
 "nbformat_minor": 2,
 "cells": [
  {
   "source": [
    "## CNN : Local Connections & Shared Weights\n",
    "\n",
    "* Translation Invariance:\n",
    "    * The network should respond similarly to the same patch, regardless of where it appears in the image. \n",
    "\n",
    "* Locality Principle:\n",
    "    * The earliest layers of the network should focus on local regions, without regard for the contents of the image in distant regions. This is the locality principle. Eventually, these local representations can be aggregated to make predictions at the whole image level.\n",
    "    \n",
    "Translation invariance in images implies that all patches of an image will be treated in the same manner.\n",
    "\n",
    "Locality means that only a small neighborhood of pixels will be used to compute the corresponding hidden representations."
   ],
   "cell_type": "markdown",
   "metadata": {}
  },
  {
   "source": [
    "## CNN Over NN\n",
    "\n",
    "* CNN have sparse connections instead of fully connected connections which lead to reduced parameters and make CNN’s efficient for processing high dimensional data.\n",
    "\n",
    "* Weight sharing takes place where the same weights are shared across the entire image, causing reduced memory requirements as well as translational equivariance(will be explained in a moment). \n",
    "\n",
    "* CNN’s use a very important concept of subsampling or pooling in which the most prominent pixels are propagated to the next layer dropping the rest. This provides a fixed size output matrix which is typically required for classification and invariance to translation, rotation."
   ],
   "cell_type": "markdown",
   "metadata": {}
  },
  {
   "source": [
    "## Translational Equivariance:\n",
    "\n",
    "* the position of the object in the image should not be fixed in order for it to be detected by the CNN.\n",
    "\n"
   ],
   "cell_type": "markdown",
   "metadata": {}
  }
 ]
}