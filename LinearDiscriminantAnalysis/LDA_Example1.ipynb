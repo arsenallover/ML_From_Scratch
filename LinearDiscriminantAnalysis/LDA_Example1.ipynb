{
 "cells": [
  {
   "cell_type": "code",
   "execution_count": 1,
   "metadata": {},
   "outputs": [],
   "source": [
    "import sys, itertools\n",
    "import pandas as pd\n",
    "import numpy as np\n",
    "import matplotlib.pyplot as plt\n",
    "import matplotlib.cm as cm\n",
    "from mpl_toolkits.mplot3d import Axes3D\n",
    "import random"
   ]
  },
  {
   "cell_type": "code",
   "execution_count": 2,
   "metadata": {},
   "outputs": [],
   "source": [
    "num_dims = 1; convert_data = 0; \n",
    "percentile = 50; threshold = 0; labelcol = -1; split_ratio = 0.9"
   ]
  },
  {
   "cell_type": "code",
   "execution_count": 29,
   "metadata": {},
   "outputs": [],
   "source": [
    "data = pd.read_csv(\"Data/Iris.csv\", index_col=0)"
   ]
  },
  {
   "cell_type": "code",
   "execution_count": 30,
   "metadata": {},
   "outputs": [],
   "source": [
    "labelcol = 'class label'\n",
    "grouped = data.groupby(data.loc[:,labelcol])"
   ]
  },
  {
   "cell_type": "code",
   "execution_count": 40,
   "metadata": {},
   "outputs": [],
   "source": [
    "def drop_col(data, col):\n",
    "    return data.drop(col, axis = 1)"
   ]
  },
  {
   "cell_type": "code",
   "execution_count": 41,
   "metadata": {},
   "outputs": [],
   "source": [
    "traindata = []\n",
    "testdata = []\n",
    "grouped = data.groupby(data.loc[:,labelcol])\n",
    "classes = [c for c in grouped.groups.keys()]\n",
    "classwise = {} \n",
    "for c in classes:\n",
    "    classwise[c] = grouped.get_group(c)\n",
    "    rows = random.sample(list(classwise[c].index), \n",
    "                                int(classwise[c].shape[0] * \n",
    "                                split_ratio))\n",
    "    traindata.append(classwise[c].loc[rows])\n",
    "    testdata.append(classwise[c].drop(rows))\n",
    "\n",
    "traindata = pd.concat(traindata)\n",
    "testdata = pd.concat(testdata)"
   ]
  },
  {
   "cell_type": "code",
   "execution_count": 42,
   "metadata": {},
   "outputs": [],
   "source": [
    "means = {}\n",
    "classes = [c for c in grouped.groups.keys()]\n",
    "for c in classes:\n",
    "    means[c] = np.array(drop_col(classwise[c], labelcol).mean(axis = 0))\n",
    "# calculate the overall mean of all the data\n",
    "overall_mean = np.array(drop_col(data, labelcol).mean(axis = 0))\n"
   ]
  },
  {
   "cell_type": "code",
   "execution_count": 70,
   "metadata": {},
   "outputs": [],
   "source": [
    "# calculate between class covariance matrix\n",
    "# S_B = \\sigma{N_i (m_i - m) (m_i - m).T}\n",
    "S_B = np.zeros((data.shape[1] - 1, data.shape[1] - 1))\n",
    "for c in means.keys():\n",
    "    S_B += np.multiply(len(classwise[c]),\n",
    "                        np.outer((means[c] - overall_mean), \n",
    "                                (means[c] - overall_mean)))\n"
   ]
  },
  {
   "cell_type": "code",
   "execution_count": 91,
   "metadata": {},
   "outputs": [],
   "source": [
    "\n",
    "# calculate within class covariance matrix\n",
    "# S_W = \\sigma{S_i}\n",
    "# S_i = \\sigma{(x - m_i) (x - m_i).T}\n",
    "S_W = np.zeros(S_B.shape) \n",
    "for c in classes: \n",
    "    tmp = np.subtract(drop_col(classwise[c], labelcol).T, np.expand_dims(means[c], axis=1))\n",
    "    S_W = np.add(np.dot(tmp, tmp.T), S_W)\n",
    "\n",
    "# objective : find eigenvalue, eigenvector pairs for inv(S_W).S_B\n",
    "mat = np.dot(np.linalg.pinv(S_W), S_B)\n",
    "eigvals, eigvecs = np.linalg.eig(mat)\n",
    "eiglist = [(eigvals[i], eigvecs[:, i]) for i in range(len(eigvals))]\n",
    "\n",
    "# sort the eigvals in decreasing order\n",
    "eiglist = sorted(eiglist, key = lambda x : x[0], reverse = True)\n",
    "\n",
    "# take the first num_dims eigvectors\n",
    "w = np.array([eiglist[i][1] for i in range(num_dims)])\n",
    "\n",
    "w = w\n",
    "means = means"
   ]
  },
  {
   "cell_type": "code",
   "execution_count": 97,
   "metadata": {},
   "outputs": [
    {
     "output_type": "execute_result",
     "data": {
      "text/plain": "['Iris-setosa', 'Iris-versicolor', 'Iris-virginica']"
     },
     "metadata": {},
     "execution_count": 97
    }
   ],
   "source": [
    "list(means.keys())"
   ]
  },
  {
   "cell_type": "code",
   "execution_count": 99,
   "metadata": {},
   "outputs": [],
   "source": [
    "tot = 0\n",
    "for c in means.keys():\n",
    "    tot += np.dot(w, means[c])\n",
    "w0 = 0.5 * tot\n",
    "# for 2 classes case; mark if class 1 is >= w0 or < w0\n",
    "c1 = list(means.keys())[0]\n",
    "c2 = list(means.keys())[1]\n",
    "mu1 = np.dot(w, means[c1])\n",
    "if (mu1 >= w0):\n",
    "    c1 = 'ge'\n",
    "else:\n",
    "    c1 = 'l'"
   ]
  },
  {
   "cell_type": "code",
   "execution_count": 100,
   "metadata": {},
   "outputs": [
    {
     "output_type": "execute_result",
     "data": {
      "text/plain": "'l'"
     },
     "metadata": {},
     "execution_count": 100
    }
   ],
   "source": [
    "c1"
   ]
  }
 ],
 "metadata": {
  "language_info": {
   "codemirror_mode": {
    "name": "ipython",
    "version": 3
   },
   "file_extension": ".py",
   "mimetype": "text/x-python",
   "name": "python",
   "nbconvert_exporter": "python",
   "pygments_lexer": "ipython3",
   "version": "3.7.6-final"
  },
  "orig_nbformat": 2,
  "kernelspec": {
   "name": "python3",
   "display_name": "Python 3"
  }
 },
 "nbformat": 4,
 "nbformat_minor": 2
}