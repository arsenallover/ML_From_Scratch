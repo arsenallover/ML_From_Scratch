{
 "cells": [
  {
   "cell_type": "markdown",
   "metadata": {},
   "source": [
    "## Anomaly Detection\n",
    "\n",
    "* Technique used to identify unusual patterns that do not conform to expected behavior, called outliers\n",
    "* Use cases\n",
    "    * Fraud detection\n",
    "    * Intrusion detection\n",
    "    * System health monitoring\n",
    "* Types:\n",
    "    * **Point anomalies**: A single instance of data is anomalous if it's too far off from the rest. Business use case: Detecting credit card fraud based on \"amount spent.\"\n",
    "    * **Contextual anomalies**: The abnormality is context specific. This type of anomaly is common in time-series data. Business use case: Spending Rs. 100 on food every day during the holiday season is normal, but may be odd otherwise.\n",
    "    * **Collective anomalies** : A set of data instances collectively helps in detecting anomalies. Business use case: Someone is trying to copy data form a remote machine to a local host unexpectedly, an anomaly that would be flagged as a potential cyber attack.\n",
    "    \n",
    "## Novelty Vs Anomaly Detection\n",
    "* Novelty: training data is not polluted by outliers, and we are interested in detecting anomalies in new observations.\n",
    "* Anomaly: training data contains outliers, and we need to fit the central mode of the training data, ignoring the deviant observations"
   ]
  }
 ],
 "metadata": {
  "kernelspec": {
   "display_name": "Python 3",
   "language": "python",
   "name": "python3"
  },
  "language_info": {
   "codemirror_mode": {
    "name": "ipython",
    "version": 3
   },
   "file_extension": ".py",
   "mimetype": "text/x-python",
   "name": "python",
   "nbconvert_exporter": "python",
   "pygments_lexer": "ipython3",
   "version": "3.7.0"
  }
 },
 "nbformat": 4,
 "nbformat_minor": 2
}
