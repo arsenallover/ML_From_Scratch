{
 "cells": [
  {
   "cell_type": "markdown",
   "metadata": {},
   "source": [
    "## Concept\n",
    "\n",
    "* Unsupervised algo that models normal examples in order to classify new ex as either normal or abnormal\n",
    "* A one-class classifier aims at capturing characteristics of normal training instances, in order to be able to distinguish between them and potential outliers to appear.\n",
    "* Before oneclass SVM - try standard SVM and weighted SVM\n",
    "* Algo:\n",
    "    * Unlike normal svm, this algo considers to maximize the margin split btw normal data against the origin\n",
    "    * It creates a boundary such the distance btw origin and normal class are maximised\n",
    "    * Train only on normal data\n",
    "    \n",
    "* Hyperparameters\n",
    "    * $\\nu$ contols sensitivity of support vectors (how many outliers to allow) ~ to contamination in isolation forest\n"
   ]
  },
  {
   "cell_type": "code",
   "execution_count": 6,
   "metadata": {},
   "outputs": [
    {
     "name": "stdout",
     "output_type": "stream",
     "text": [
      "F1 Score: 0.130\n"
     ]
    }
   ],
   "source": [
    "# one-class svm for imbalanced binary classification\n",
    "from sklearn.datasets import make_classification\n",
    "from sklearn.model_selection import train_test_split\n",
    "from sklearn.metrics import f1_score\n",
    "from sklearn.svm import OneClassSVM\n",
    "# generate dataset\n",
    "X, y = make_classification(n_samples=10000, n_features=2, n_redundant=0,\n",
    "\tn_clusters_per_class=1, weights=[0.999], flip_y=0, random_state=4)\n",
    "\n",
    "# split into train/test sets\n",
    "trainX, testX, trainy, testy = train_test_split(X, y, test_size=0.5, random_state=2, stratify=y)\n",
    "\n",
    "# define outlier detection model\n",
    "model = OneClassSVM(gamma=0.001, nu=0.01)\n",
    "\n",
    "# fit on majority class\n",
    "trainX = trainX[trainy==0]\n",
    "model.fit(trainX)\n",
    "\n",
    "# detect outliers in the test set\n",
    "yhat = model.predict(testX)\n",
    "\n",
    "# mark inliers 1, outliers -1\n",
    "testy[testy == 1] = -1\n",
    "testy[testy == 0] = 1\n",
    "\n",
    "# calculate score\n",
    "score = f1_score(testy, yhat, pos_label=-1)\n",
    "print('F1 Score: %.3f' % score)"
   ]
  }
 ],
 "metadata": {
  "kernelspec": {
   "display_name": "Python 3",
   "language": "python",
   "name": "python3"
  },
  "language_info": {
   "codemirror_mode": {
    "name": "ipython",
    "version": 3
   },
   "file_extension": ".py",
   "mimetype": "text/x-python",
   "name": "python",
   "nbconvert_exporter": "python",
   "pygments_lexer": "ipython3",
   "version": "3.7.0"
  }
 },
 "nbformat": 4,
 "nbformat_minor": 2
}
